{
  "nbformat": 4,
  "nbformat_minor": 0,
  "metadata": {
    "colab": {
      "name": "Digio - Hackathon_v2.ipynb",
      "provenance": [],
      "collapsed_sections": [],
      "authorship_tag": "ABX9TyOQD8jNKA9vGyADGGz4pd/j",
      "include_colab_link": true
    },
    "kernelspec": {
      "name": "python3",
      "display_name": "Python 3"
    },
    "language_info": {
      "name": "python"
    },
    "accelerator": "GPU"
  },
  "cells": [
    {
      "cell_type": "markdown",
      "metadata": {
        "id": "view-in-github",
        "colab_type": "text"
      },
      "source": [
        "<a href=\"https://colab.research.google.com/github/amarildo86/datascience/blob/master/Digio_Hackathon_v2.ipynb\" target=\"_parent\"><img src=\"https://colab.research.google.com/assets/colab-badge.svg\" alt=\"Open In Colab\"/></a>"
      ]
    },
    {
      "cell_type": "markdown",
      "source": [
        "# <center>Financial Data Analytics Hackathon</center>"
      ],
      "metadata": {
        "id": "L2sNTakjhWAl"
      }
    },
    {
      "cell_type": "markdown",
      "source": [
        "### Contexto do desafio\n",
        "\n",
        "Quando os bancos digitais começaram a nascer no Brasil, realizar um bom atendimento, solucionar problemas online, ter de graça a anuidade no cartão de crédito, os saques e as transferências eram pilares de uma proposta de valor inovadora. Mais recentemente, o que antes era uma diferenciação se tornou um padrão para qualquer conta digital. Diferentes produtos atualmente são criados, como programas de fidelidade, investimentos e empréstimos instantâneos para trazer mais simplicidade e atratividade para os clientes.\n",
        "\n",
        "Ao mesmo tempo, trocar de banco ficou tão fácil quanto começar uma nova série no canal de Streaming. Em apenas sete minutos você pode se cadastrar em um novo banco e em até 18 horas estar aprovado¹. Essa rapidez e agilidade incrementou significativamente a exposição dos clientes aos serviços financeiros como a conta, crédito e cartões.\n",
        "\n",
        "Essa competição, cada vez mais acirrada neste novo cenário, faz com que bancos digitais tenham um grande desafio, principalmente relacionado à rentabilidade dos clientes no produto cartão de crédito. Pensando na otimização financeira deste produto, há algumas perguntas-chave:\n",
        "\n",
        "• Qual o melhor modelo para calcular a rentabilidade destes clientes desde a sua origem?\n",
        "\n",
        "• Entre tantas ferramentas e métodos de análise de dados, como gerar o melhor modelo financeiro de Safra de Cartões respeitando os conceitos e regras de uma demonstração de resultados (DRE), Payback e otimizando ao máximo esforço e tempo?"
      ],
      "metadata": {
        "id": "LdT0FFqnuIm5"
      }
    },
    {
      "cell_type": "markdown",
      "source": [
        "### Problema de negócio:\n",
        "*   Previsão da linhas da DRE que compõe a Margem Operacional\n",
        "*   Calcular o Payback do investimento\n",
        "*   Apresentar o melhor modelo de rentabilidade do cartão desde a origem\n",
        "\n",
        "\n",
        "\n",
        "\n",
        "---\n",
        "\n"
      ],
      "metadata": {
        "id": "bz0pmGO2tDaX"
      }
    },
    {
      "cell_type": "code",
      "source": [
        "#libs principais para análise de dados\n",
        "import pandas as pd\n",
        "import numpy as np\n",
        "\n",
        "#libs para tratamento de datas/séries temporais\n",
        "from datetime import datetime\n",
        "from datetime import date\n",
        "\n",
        "#lib para estatística\n",
        "import statsmodels.api as sm\n",
        "\n",
        "#libs para deep learning\n",
        "import tensorflow as tf\n",
        "import keras\n",
        "\n",
        "#lib para limpar avisos desnecessários\n",
        "import warnings\n",
        "warnings.filterwarnings(action='ignore')"
      ],
      "metadata": {
        "id": "pDT9nLSRqQqg"
      },
      "execution_count": 13,
      "outputs": []
    },
    {
      "cell_type": "code",
      "source": [
        "#lib para carregar dados do google drive\n",
        "from google.colab import drive\n",
        "drive.mount('/content/drive')"
      ],
      "metadata": {
        "colab": {
          "base_uri": "https://localhost:8080/"
        },
        "id": "AlzBqFiczjus",
        "outputId": "43939120-36e4-4f9d-c8d5-42facddb4362"
      },
      "execution_count": 14,
      "outputs": [
        {
          "output_type": "stream",
          "name": "stdout",
          "text": [
            "Drive already mounted at /content/drive; to attempt to forcibly remount, call drive.mount(\"/content/drive\", force_remount=True).\n"
          ]
        }
      ]
    },
    {
      "cell_type": "code",
      "source": [
        "#carregamento dos datasets\n",
        "clientes = pd.read_csv(\"drive/MyDrive/digio_hackathon/clientes.csv\", sep=';')\n",
        "transacional = pd.read_csv(\"drive/MyDrive/digio_hackathon/transacional.csv\", sep=';')\n",
        "ml_predictions = pd.read_csv(\"drive/MyDrive/digio_hackathon/ml_predictions.csv\", sep=';')"
      ],
      "metadata": {
        "id": "zklRgR_gzkhV"
      },
      "execution_count": 15,
      "outputs": []
    },
    {
      "cell_type": "markdown",
      "source": [
        "### 1. Descobrindo os dados\n",
        "É importante lembrar que nossa tarefa é conhecer a fundo os dados, de forma que possamos *extrair conhecimento útil, extrair padrões e formular hipóteses, seguindo um processo sistematizado*.\n",
        "\n",
        "#### 1.1 Dimensão\n",
        "Saber a dimensão do conjunto de dados pode ser a primeira pista da abordagem que iremos adotar. Um conjunto de dados com apenas 1 dezena de variáveis é bem diferente de outro com algumas centenas. A quantidade de registros também pode indicar se optaremos por um modelo de Aprendizagem Profunda ou por outro de Aprendizado de Máquina puramente."
      ],
      "metadata": {
        "id": "HNgNSAYTwulw"
      }
    },
    {
      "cell_type": "code",
      "source": [
        "#retornar a dimensão dos datasets\n",
        "c_obs, c_features = clientes.shape\n",
        "t_obs, t_features = transacional.shape\n",
        "\n",
        "print(\"Clientes: \", c_obs, \"observações e\", c_features, \"variáveis.\")\n",
        "print(\"Transacional: \", t_obs, \"observações e\", t_features, \"variáveis.\")"
      ],
      "metadata": {
        "colab": {
          "base_uri": "https://localhost:8080/"
        },
        "id": "03AdRmyMwyOM",
        "outputId": "9d5721ed-0f12-4137-aa74-fa18b28f432b"
      },
      "execution_count": 23,
      "outputs": [
        {
          "output_type": "stream",
          "name": "stdout",
          "text": [
            "Clientes:  335272 observações e 17 variáveis.\n",
            "Transacional:  4923032 observações e 15 variáveis.\n"
          ]
        }
      ]
    },
    {
      "cell_type": "markdown",
      "source": [
        "#### 1.2 Primeiro olhar"
      ],
      "metadata": {
        "id": "jJpnWRVP1hbw"
      }
    },
    {
      "cell_type": "code",
      "source": [
        "#exibição das duas primeiras linhas\n",
        "clientes.head(2)"
      ],
      "metadata": {
        "colab": {
          "base_uri": "https://localhost:8080/",
          "height": 176
        },
        "id": "Pf8119sS1mVN",
        "outputId": "889870e3-29c2-4f84-8f88-58452c555170"
      },
      "execution_count": 29,
      "outputs": [
        {
          "output_type": "execute_result",
          "data": {
            "text/html": [
              "\n",
              "  <div id=\"df-21467a88-2c52-4738-817e-889a31441b69\">\n",
              "    <div class=\"colab-df-container\">\n",
              "      <div>\n",
              "<style scoped>\n",
              "    .dataframe tbody tr th:only-of-type {\n",
              "        vertical-align: middle;\n",
              "    }\n",
              "\n",
              "    .dataframe tbody tr th {\n",
              "        vertical-align: top;\n",
              "    }\n",
              "\n",
              "    .dataframe thead th {\n",
              "        text-align: right;\n",
              "    }\n",
              "</style>\n",
              "<table border=\"1\" class=\"dataframe\">\n",
              "  <thead>\n",
              "    <tr style=\"text-align: right;\">\n",
              "      <th></th>\n",
              "      <th>safra</th>\n",
              "      <th>uf</th>\n",
              "      <th>nascimento</th>\n",
              "      <th>genero_biologico</th>\n",
              "      <th>renda_presumida</th>\n",
              "      <th>renda_declarada</th>\n",
              "      <th>limite_maximo</th>\n",
              "      <th>limite_global</th>\n",
              "      <th>reg_metropolitana</th>\n",
              "      <th>sistema_operacional</th>\n",
              "      <th>operadora_tim</th>\n",
              "      <th>operadora_claro</th>\n",
              "      <th>operadora_oi</th>\n",
              "      <th>operadora_vivo</th>\n",
              "      <th>operadora_nextel</th>\n",
              "      <th>operadora_others</th>\n",
              "      <th>id</th>\n",
              "    </tr>\n",
              "  </thead>\n",
              "  <tbody>\n",
              "    <tr>\n",
              "      <th>0</th>\n",
              "      <td>201706</td>\n",
              "      <td>AL</td>\n",
              "      <td>1993-06-06</td>\n",
              "      <td>M</td>\n",
              "      <td>1200.0</td>\n",
              "      <td>1800.0</td>\n",
              "      <td>0.0</td>\n",
              "      <td>0.0</td>\n",
              "      <td>1.0</td>\n",
              "      <td>NaN</td>\n",
              "      <td>NaN</td>\n",
              "      <td>NaN</td>\n",
              "      <td>NaN</td>\n",
              "      <td>NaN</td>\n",
              "      <td>NaN</td>\n",
              "      <td>NaN</td>\n",
              "      <td>1844674417714159308</td>\n",
              "    </tr>\n",
              "    <tr>\n",
              "      <th>1</th>\n",
              "      <td>201702</td>\n",
              "      <td>MT</td>\n",
              "      <td>1993-11-23</td>\n",
              "      <td>M</td>\n",
              "      <td>750.0</td>\n",
              "      <td>1444.0</td>\n",
              "      <td>750.0</td>\n",
              "      <td>750.0</td>\n",
              "      <td>NaN</td>\n",
              "      <td>iOS</td>\n",
              "      <td>0.0</td>\n",
              "      <td>1.0</td>\n",
              "      <td>0.0</td>\n",
              "      <td>0.0</td>\n",
              "      <td>0.0</td>\n",
              "      <td>0.0</td>\n",
              "      <td>691752913106883469</td>\n",
              "    </tr>\n",
              "  </tbody>\n",
              "</table>\n",
              "</div>\n",
              "      <button class=\"colab-df-convert\" onclick=\"convertToInteractive('df-21467a88-2c52-4738-817e-889a31441b69')\"\n",
              "              title=\"Convert this dataframe to an interactive table.\"\n",
              "              style=\"display:none;\">\n",
              "        \n",
              "  <svg xmlns=\"http://www.w3.org/2000/svg\" height=\"24px\"viewBox=\"0 0 24 24\"\n",
              "       width=\"24px\">\n",
              "    <path d=\"M0 0h24v24H0V0z\" fill=\"none\"/>\n",
              "    <path d=\"M18.56 5.44l.94 2.06.94-2.06 2.06-.94-2.06-.94-.94-2.06-.94 2.06-2.06.94zm-11 1L8.5 8.5l.94-2.06 2.06-.94-2.06-.94L8.5 2.5l-.94 2.06-2.06.94zm10 10l.94 2.06.94-2.06 2.06-.94-2.06-.94-.94-2.06-.94 2.06-2.06.94z\"/><path d=\"M17.41 7.96l-1.37-1.37c-.4-.4-.92-.59-1.43-.59-.52 0-1.04.2-1.43.59L10.3 9.45l-7.72 7.72c-.78.78-.78 2.05 0 2.83L4 21.41c.39.39.9.59 1.41.59.51 0 1.02-.2 1.41-.59l7.78-7.78 2.81-2.81c.8-.78.8-2.07 0-2.86zM5.41 20L4 18.59l7.72-7.72 1.47 1.35L5.41 20z\"/>\n",
              "  </svg>\n",
              "      </button>\n",
              "      \n",
              "  <style>\n",
              "    .colab-df-container {\n",
              "      display:flex;\n",
              "      flex-wrap:wrap;\n",
              "      gap: 12px;\n",
              "    }\n",
              "\n",
              "    .colab-df-convert {\n",
              "      background-color: #E8F0FE;\n",
              "      border: none;\n",
              "      border-radius: 50%;\n",
              "      cursor: pointer;\n",
              "      display: none;\n",
              "      fill: #1967D2;\n",
              "      height: 32px;\n",
              "      padding: 0 0 0 0;\n",
              "      width: 32px;\n",
              "    }\n",
              "\n",
              "    .colab-df-convert:hover {\n",
              "      background-color: #E2EBFA;\n",
              "      box-shadow: 0px 1px 2px rgba(60, 64, 67, 0.3), 0px 1px 3px 1px rgba(60, 64, 67, 0.15);\n",
              "      fill: #174EA6;\n",
              "    }\n",
              "\n",
              "    [theme=dark] .colab-df-convert {\n",
              "      background-color: #3B4455;\n",
              "      fill: #D2E3FC;\n",
              "    }\n",
              "\n",
              "    [theme=dark] .colab-df-convert:hover {\n",
              "      background-color: #434B5C;\n",
              "      box-shadow: 0px 1px 3px 1px rgba(0, 0, 0, 0.15);\n",
              "      filter: drop-shadow(0px 1px 2px rgba(0, 0, 0, 0.3));\n",
              "      fill: #FFFFFF;\n",
              "    }\n",
              "  </style>\n",
              "\n",
              "      <script>\n",
              "        const buttonEl =\n",
              "          document.querySelector('#df-21467a88-2c52-4738-817e-889a31441b69 button.colab-df-convert');\n",
              "        buttonEl.style.display =\n",
              "          google.colab.kernel.accessAllowed ? 'block' : 'none';\n",
              "\n",
              "        async function convertToInteractive(key) {\n",
              "          const element = document.querySelector('#df-21467a88-2c52-4738-817e-889a31441b69');\n",
              "          const dataTable =\n",
              "            await google.colab.kernel.invokeFunction('convertToInteractive',\n",
              "                                                     [key], {});\n",
              "          if (!dataTable) return;\n",
              "\n",
              "          const docLinkHtml = 'Like what you see? Visit the ' +\n",
              "            '<a target=\"_blank\" href=https://colab.research.google.com/notebooks/data_table.ipynb>data table notebook</a>'\n",
              "            + ' to learn more about interactive tables.';\n",
              "          element.innerHTML = '';\n",
              "          dataTable['output_type'] = 'display_data';\n",
              "          await google.colab.output.renderOutput(dataTable, element);\n",
              "          const docLink = document.createElement('div');\n",
              "          docLink.innerHTML = docLinkHtml;\n",
              "          element.appendChild(docLink);\n",
              "        }\n",
              "      </script>\n",
              "    </div>\n",
              "  </div>\n",
              "  "
            ],
            "text/plain": [
              "    safra  uf  ... operadora_others                   id\n",
              "0  201706  AL  ...              NaN  1844674417714159308\n",
              "1  201702  MT  ...              0.0   691752913106883469\n",
              "\n",
              "[2 rows x 17 columns]"
            ]
          },
          "metadata": {},
          "execution_count": 29
        }
      ]
    },
    {
      "cell_type": "markdown",
      "source": [
        "Agora que já demos uma primeira olhada nos dados, vamos investigar quais são os tipos de dados de cada uma das variáveis."
      ],
      "metadata": {
        "id": "SsMi3GoV4oVJ"
      }
    },
    {
      "cell_type": "code",
      "source": [
        "#exibir informações sobre tipo de dados\n",
        "clientes.info()"
      ],
      "metadata": {
        "colab": {
          "base_uri": "https://localhost:8080/"
        },
        "id": "-r7LcKxT4vmK",
        "outputId": "59684e72-cb57-4e41-d100-8e8c903f914c"
      },
      "execution_count": 37,
      "outputs": [
        {
          "output_type": "stream",
          "name": "stdout",
          "text": [
            "<class 'pandas.core.frame.DataFrame'>\n",
            "RangeIndex: 335272 entries, 0 to 335271\n",
            "Data columns (total 17 columns):\n",
            " #   Column               Non-Null Count   Dtype  \n",
            "---  ------               --------------   -----  \n",
            " 0   safra                335272 non-null  int64  \n",
            " 1   uf                   335255 non-null  object \n",
            " 2   nascimento           335272 non-null  object \n",
            " 3   genero_biologico     335272 non-null  object \n",
            " 4   renda_presumida      335272 non-null  float64\n",
            " 5   renda_declarada      335272 non-null  float64\n",
            " 6   limite_maximo        335270 non-null  float64\n",
            " 7   limite_global        335272 non-null  float64\n",
            " 8   reg_metropolitana    291196 non-null  float64\n",
            " 9   sistema_operacional  270767 non-null  object \n",
            " 10  operadora_tim        260599 non-null  float64\n",
            " 11  operadora_claro      260599 non-null  float64\n",
            " 12  operadora_oi         260599 non-null  float64\n",
            " 13  operadora_vivo       260599 non-null  float64\n",
            " 14  operadora_nextel     260599 non-null  float64\n",
            " 15  operadora_others     260599 non-null  float64\n",
            " 16  id                   335272 non-null  int64  \n",
            "dtypes: float64(11), int64(2), object(4)\n",
            "memory usage: 43.5+ MB\n"
          ]
        }
      ]
    },
    {
      "cell_type": "markdown",
      "source": [
        "Aqui, já podemos iniciar um primeiro tratamento de dados. Observe que a variável \"safra\" é do tipo \"inteiro\". Adiante, veremos que este tipo de dado deverá ser convertido em um formato de data (datetime), afim de que seja utilizável nos modelos de séries temporais.\n",
        "\n",
        "Agora que já olhamos os dados e também conhecemos os tipos de dados, vamos organizálos da seguinte forma: Categóricas e Quantitativas\n",
        "\n",
        "\n",
        "**Variáveis Categóricas**\n",
        "*   uf\n",
        "*   genero_biologico\n",
        "*   regiao_metropolitana\n",
        "*   sistema_operacional\n",
        "*   operadora_tim\n",
        "*   operadora_claro\n",
        "*   operadora_oi\n",
        "*   operadora_vivo\n",
        "*   operadora_nexthel\n",
        "*   operadora_others\n",
        "\n",
        "**Variáveis Quantitativas (Contínuas)**\n",
        "*   renda_presumida\n",
        "*   renda_declarada\n",
        "*   limite_maximo\n",
        "*   limite_global\n",
        "*   limite_global\n",
        "\n",
        "**Variáveis Quantitativas (Discretas)**\n",
        "*   safra\n",
        "*   id"
      ],
      "metadata": {
        "id": "rz74uNwu5kI6"
      }
    },
    {
      "cell_type": "code",
      "source": [
        "#exibição das duas primeiras linhas\n",
        "transacional.head(2)"
      ],
      "metadata": {
        "colab": {
          "base_uri": "https://localhost:8080/",
          "height": 176
        },
        "id": "KHVn4Xmg284_",
        "outputId": "dbb41c79-c357-42f6-cca6-c546a73b8b91"
      },
      "execution_count": 30,
      "outputs": [
        {
          "output_type": "execute_result",
          "data": {
            "text/html": [
              "\n",
              "  <div id=\"df-c9a5920e-32ce-42cb-8acd-595fa552bdda\">\n",
              "    <div class=\"colab-df-container\">\n",
              "      <div>\n",
              "<style scoped>\n",
              "    .dataframe tbody tr th:only-of-type {\n",
              "        vertical-align: middle;\n",
              "    }\n",
              "\n",
              "    .dataframe tbody tr th {\n",
              "        vertical-align: top;\n",
              "    }\n",
              "\n",
              "    .dataframe thead th {\n",
              "        text-align: right;\n",
              "    }\n",
              "</style>\n",
              "<table border=\"1\" class=\"dataframe\">\n",
              "  <thead>\n",
              "    <tr style=\"text-align: right;\">\n",
              "      <th></th>\n",
              "      <th>periodo</th>\n",
              "      <th>mob</th>\n",
              "      <th>spending</th>\n",
              "      <th>n_transacoes</th>\n",
              "      <th>max_atraso_mes</th>\n",
              "      <th>taxa_ocupacao_limite</th>\n",
              "      <th>flag_parcelamento_fatura</th>\n",
              "      <th>valor_fatura</th>\n",
              "      <th>custo_aquisicao</th>\n",
              "      <th>custo_manutencao</th>\n",
              "      <th>receita_spread</th>\n",
              "      <th>custo_perda_liquida</th>\n",
              "      <th>receita_servicos</th>\n",
              "      <th>custo_impostos</th>\n",
              "      <th>id</th>\n",
              "    </tr>\n",
              "  </thead>\n",
              "  <tbody>\n",
              "    <tr>\n",
              "      <th>0</th>\n",
              "      <td>201905</td>\n",
              "      <td>1</td>\n",
              "      <td>0.0</td>\n",
              "      <td>0</td>\n",
              "      <td>0</td>\n",
              "      <td>0.00</td>\n",
              "      <td>0</td>\n",
              "      <td>0.0</td>\n",
              "      <td>56.4165</td>\n",
              "      <td>6.3</td>\n",
              "      <td>-0.060178</td>\n",
              "      <td>0.0</td>\n",
              "      <td>0.0</td>\n",
              "      <td>-0.002798</td>\n",
              "      <td>227261</td>\n",
              "    </tr>\n",
              "    <tr>\n",
              "      <th>1</th>\n",
              "      <td>201906</td>\n",
              "      <td>2</td>\n",
              "      <td>0.0</td>\n",
              "      <td>0</td>\n",
              "      <td>0</td>\n",
              "      <td>0.59</td>\n",
              "      <td>0</td>\n",
              "      <td>10.0</td>\n",
              "      <td>0.0000</td>\n",
              "      <td>6.3</td>\n",
              "      <td>0.000000</td>\n",
              "      <td>0.0</td>\n",
              "      <td>0.0</td>\n",
              "      <td>0.000000</td>\n",
              "      <td>227261</td>\n",
              "    </tr>\n",
              "  </tbody>\n",
              "</table>\n",
              "</div>\n",
              "      <button class=\"colab-df-convert\" onclick=\"convertToInteractive('df-c9a5920e-32ce-42cb-8acd-595fa552bdda')\"\n",
              "              title=\"Convert this dataframe to an interactive table.\"\n",
              "              style=\"display:none;\">\n",
              "        \n",
              "  <svg xmlns=\"http://www.w3.org/2000/svg\" height=\"24px\"viewBox=\"0 0 24 24\"\n",
              "       width=\"24px\">\n",
              "    <path d=\"M0 0h24v24H0V0z\" fill=\"none\"/>\n",
              "    <path d=\"M18.56 5.44l.94 2.06.94-2.06 2.06-.94-2.06-.94-.94-2.06-.94 2.06-2.06.94zm-11 1L8.5 8.5l.94-2.06 2.06-.94-2.06-.94L8.5 2.5l-.94 2.06-2.06.94zm10 10l.94 2.06.94-2.06 2.06-.94-2.06-.94-.94-2.06-.94 2.06-2.06.94z\"/><path d=\"M17.41 7.96l-1.37-1.37c-.4-.4-.92-.59-1.43-.59-.52 0-1.04.2-1.43.59L10.3 9.45l-7.72 7.72c-.78.78-.78 2.05 0 2.83L4 21.41c.39.39.9.59 1.41.59.51 0 1.02-.2 1.41-.59l7.78-7.78 2.81-2.81c.8-.78.8-2.07 0-2.86zM5.41 20L4 18.59l7.72-7.72 1.47 1.35L5.41 20z\"/>\n",
              "  </svg>\n",
              "      </button>\n",
              "      \n",
              "  <style>\n",
              "    .colab-df-container {\n",
              "      display:flex;\n",
              "      flex-wrap:wrap;\n",
              "      gap: 12px;\n",
              "    }\n",
              "\n",
              "    .colab-df-convert {\n",
              "      background-color: #E8F0FE;\n",
              "      border: none;\n",
              "      border-radius: 50%;\n",
              "      cursor: pointer;\n",
              "      display: none;\n",
              "      fill: #1967D2;\n",
              "      height: 32px;\n",
              "      padding: 0 0 0 0;\n",
              "      width: 32px;\n",
              "    }\n",
              "\n",
              "    .colab-df-convert:hover {\n",
              "      background-color: #E2EBFA;\n",
              "      box-shadow: 0px 1px 2px rgba(60, 64, 67, 0.3), 0px 1px 3px 1px rgba(60, 64, 67, 0.15);\n",
              "      fill: #174EA6;\n",
              "    }\n",
              "\n",
              "    [theme=dark] .colab-df-convert {\n",
              "      background-color: #3B4455;\n",
              "      fill: #D2E3FC;\n",
              "    }\n",
              "\n",
              "    [theme=dark] .colab-df-convert:hover {\n",
              "      background-color: #434B5C;\n",
              "      box-shadow: 0px 1px 3px 1px rgba(0, 0, 0, 0.15);\n",
              "      filter: drop-shadow(0px 1px 2px rgba(0, 0, 0, 0.3));\n",
              "      fill: #FFFFFF;\n",
              "    }\n",
              "  </style>\n",
              "\n",
              "      <script>\n",
              "        const buttonEl =\n",
              "          document.querySelector('#df-c9a5920e-32ce-42cb-8acd-595fa552bdda button.colab-df-convert');\n",
              "        buttonEl.style.display =\n",
              "          google.colab.kernel.accessAllowed ? 'block' : 'none';\n",
              "\n",
              "        async function convertToInteractive(key) {\n",
              "          const element = document.querySelector('#df-c9a5920e-32ce-42cb-8acd-595fa552bdda');\n",
              "          const dataTable =\n",
              "            await google.colab.kernel.invokeFunction('convertToInteractive',\n",
              "                                                     [key], {});\n",
              "          if (!dataTable) return;\n",
              "\n",
              "          const docLinkHtml = 'Like what you see? Visit the ' +\n",
              "            '<a target=\"_blank\" href=https://colab.research.google.com/notebooks/data_table.ipynb>data table notebook</a>'\n",
              "            + ' to learn more about interactive tables.';\n",
              "          element.innerHTML = '';\n",
              "          dataTable['output_type'] = 'display_data';\n",
              "          await google.colab.output.renderOutput(dataTable, element);\n",
              "          const docLink = document.createElement('div');\n",
              "          docLink.innerHTML = docLinkHtml;\n",
              "          element.appendChild(docLink);\n",
              "        }\n",
              "      </script>\n",
              "    </div>\n",
              "  </div>\n",
              "  "
            ],
            "text/plain": [
              "   periodo  mob  spending  ...  receita_servicos  custo_impostos      id\n",
              "0   201905    1       0.0  ...               0.0       -0.002798  227261\n",
              "1   201906    2       0.0  ...               0.0        0.000000  227261\n",
              "\n",
              "[2 rows x 15 columns]"
            ]
          },
          "metadata": {},
          "execution_count": 30
        }
      ]
    }
  ]
}