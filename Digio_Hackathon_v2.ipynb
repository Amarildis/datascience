{
  "nbformat": 4,
  "nbformat_minor": 0,
  "metadata": {
    "colab": {
      "name": "Digio - Hackathon_v2.ipynb",
      "provenance": [],
      "collapsed_sections": [],
      "authorship_tag": "ABX9TyPADxlq3NkqiwLBrWBVz10n",
      "include_colab_link": true
    },
    "kernelspec": {
      "name": "python3",
      "display_name": "Python 3"
    },
    "language_info": {
      "name": "python"
    },
    "accelerator": "GPU"
  },
  "cells": [
    {
      "cell_type": "markdown",
      "metadata": {
        "id": "view-in-github",
        "colab_type": "text"
      },
      "source": [
        "<a href=\"https://colab.research.google.com/github/amarildo86/datascience/blob/master/Digio_Hackathon_v2.ipynb\" target=\"_parent\"><img src=\"https://colab.research.google.com/assets/colab-badge.svg\" alt=\"Open In Colab\"/></a>"
      ]
    },
    {
      "cell_type": "markdown",
      "source": [
        "# <center>Financial Data Analytics Hackathon</center>"
      ],
      "metadata": {
        "id": "L2sNTakjhWAl"
      }
    },
    {
      "cell_type": "markdown",
      "source": [
        "### Contexto do desafio\n",
        "\n",
        "Quando os bancos digitais começaram a nascer no Brasil, realizar um bom atendimento, solucionar problemas online, ter de graça a anuidade no cartão de crédito, os saques e as transferências eram pilares de uma proposta de valor inovadora. Mais recentemente, o que antes era uma diferenciação se tornou um padrão para qualquer conta digital. Diferentes produtos atualmente são criados, como programas de fidelidade, investimentos e empréstimos instantâneos para trazer mais simplicidade e atratividade para os clientes.\n",
        "\n",
        "Ao mesmo tempo, trocar de banco ficou tão fácil quanto começar uma nova série no canal de Streaming. Em apenas sete minutos você pode se cadastrar em um novo banco e em até 18 horas estar aprovado¹. Essa rapidez e agilidade incrementou significativamente a exposição dos clientes aos serviços financeiros como a conta, crédito e cartões.\n",
        "\n",
        "Essa competição, cada vez mais acirrada neste novo cenário, faz com que bancos digitais tenham um grande desafio, principalmente relacionado à rentabilidade dos clientes no produto cartão de crédito. Pensando na otimização financeira deste produto, há algumas perguntas-chave:\n",
        "\n",
        "• Qual o melhor modelo para calcular a rentabilidade destes clientes desde a sua origem?\n",
        "\n",
        "• Entre tantas ferramentas e métodos de análise de dados, como gerar o melhor modelo financeiro de Safra de Cartões respeitando os conceitos e regras de uma demonstração de resultados (DRE), Payback e otimizando ao máximo esforço e tempo?"
      ],
      "metadata": {
        "id": "LdT0FFqnuIm5"
      }
    },
    {
      "cell_type": "markdown",
      "source": [
        "### Problema de negócio:\n",
        "*   Previsão da linhas da DRE que compõe a Margem Operacional\n",
        "*   Item da lista\n",
        "\n",
        "\n",
        "\n",
        "---\n",
        "\n"
      ],
      "metadata": {
        "id": "bz0pmGO2tDaX"
      }
    },
    {
      "cell_type": "code",
      "source": [
        "#libs principais para análise de dados\n",
        "import pandas as pd\n",
        "import numpy as np\n",
        "\n",
        "#libs para tratamento de datas/séries temporais\n",
        "from datetime import datetime\n",
        "from datetime import date\n",
        "\n",
        "#lib para estatística\n",
        "import statsmodels.api as sm\n",
        "\n",
        "#libs para deep learning\n",
        "import tensorflow as tf\n",
        "import keras\n",
        "\n",
        "#lib para limpar avisos desnecessários\n",
        "import warnings\n",
        "warnings.filterwarnings(action='ignore')"
      ],
      "metadata": {
        "id": "pDT9nLSRqQqg"
      },
      "execution_count": 7,
      "outputs": []
    },
    {
      "cell_type": "code",
      "source": [
        "#lib para carregar dados do google drive\n",
        "from google.colab import drive\n",
        "drive.mount('/content/drive')"
      ],
      "metadata": {
        "colab": {
          "base_uri": "https://localhost:8080/"
        },
        "id": "AlzBqFiczjus",
        "outputId": "764b2886-b35b-4f3e-c9ee-30c9a624b7e9"
      },
      "execution_count": 11,
      "outputs": [
        {
          "output_type": "stream",
          "name": "stdout",
          "text": [
            "Mounted at /content/drive\n"
          ]
        }
      ]
    },
    {
      "cell_type": "code",
      "source": [
        "#carregamento dos três dataset fornecidos\n",
        "clientes = pd.read_csv(\"drive/MyDrive/digio_hackathon/clientes.csv\", sep=';')\n",
        "transacional = pd.read_csv(\"drive/MyDrive/digio_hackathon/transacional.csv\", sep=';')\n",
        "ml_predictions = pd.read_csv(\"drive/MyDrive/digio_hackathon/ml_predictions.csv\", sep=';')"
      ],
      "metadata": {
        "id": "zklRgR_gzkhV"
      },
      "execution_count": 12,
      "outputs": []
    }
  ]
}