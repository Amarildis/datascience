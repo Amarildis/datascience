{
 "cells": [
  {
   "cell_type": "code",
   "execution_count": 8,
   "metadata": {},
   "outputs": [],
   "source": [
    "%matplotlib inline\n",
    "\n",
    "import numpy as np\n",
    "import pandas as pd\n",
    "import statsmodels.api as sm\n",
    "import warnings\n",
    "warnings.filterwarnings('ignore')"
   ]
  },
  {
   "cell_type": "code",
   "execution_count": 2,
   "metadata": {},
   "outputs": [],
   "source": [
    "df = pd.DataFrame({'CIF': [350, 400, 470, 550, 620, 380, 290, 490, 580, 610, 560, 420, 450, 510, 380],\n",
    "                   'HMOD': [4, 8, 12, 10, 15, 7, 6, 10, 11, 13, 12, 8, 11, 12, 5],\n",
    "                   'HM': [10, 14, 16, 26, 31, 12, 13, 21, 26, 24, 23, 12, 19, 19, 11]})"
   ]
  },
  {
   "cell_type": "code",
   "execution_count": 11,
   "metadata": {},
   "outputs": [
    {
     "name": "stdout",
     "output_type": "stream",
     "text": [
      "                            OLS Regression Results                            \n",
      "==============================================================================\n",
      "Dep. Variable:                    CIF   R-squared:                       0.885\n",
      "Model:                            OLS   Adj. R-squared:                  0.866\n",
      "Method:                 Least Squares   F-statistic:                     46.17\n",
      "Date:                Fri, 24 Jul 2020   Prob (F-statistic):           2.32e-06\n",
      "Time:                        13:07:55   Log-Likelihood:                -73.704\n",
      "No. Observations:                  15   AIC:                             153.4\n",
      "Df Residuals:                      12   BIC:                             155.5\n",
      "Df Model:                           2                                         \n",
      "Covariance Type:            nonrobust                                         \n",
      "==============================================================================\n",
      "                 coef    std err          t      P>|t|      [0.025      0.975]\n",
      "------------------------------------------------------------------------------\n",
      "Intercept    184.8836     31.762      5.821      0.000     115.680     254.087\n",
      "HMOD          11.7460      5.835      2.013      0.067      -0.968      24.460\n",
      "HM             9.3694      2.825      3.317      0.006       3.215      15.524\n",
      "==============================================================================\n",
      "Omnibus:                        6.418   Durbin-Watson:                   1.721\n",
      "Prob(Omnibus):                  0.040   Jarque-Bera (JB):                3.376\n",
      "Skew:                          -1.062   Prob(JB):                        0.185\n",
      "Kurtosis:                       3.943   Cond. No.                         73.4\n",
      "==============================================================================\n",
      "\n",
      "Warnings:\n",
      "[1] Standard Errors assume that the covariance matrix of the errors is correctly specified.\n"
     ]
    }
   ],
   "source": [
    "model = sm.OLS.from_formula('CIF ~ HMOD + HM', df)\n",
    "result = model.fit()\n",
    "print(result.summary())"
   ]
  },
  {
   "cell_type": "code",
   "execution_count": null,
   "metadata": {},
   "outputs": [],
   "source": []
  }
 ],
 "metadata": {
  "kernelspec": {
   "display_name": "Python 3",
   "language": "python",
   "name": "python3"
  },
  "language_info": {
   "codemirror_mode": {
    "name": "ipython",
    "version": 3
   },
   "file_extension": ".py",
   "mimetype": "text/x-python",
   "name": "python",
   "nbconvert_exporter": "python",
   "pygments_lexer": "ipython3",
   "version": "3.6.5"
  }
 },
 "nbformat": 4,
 "nbformat_minor": 2
}
