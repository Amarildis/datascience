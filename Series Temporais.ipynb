{
 "cells": [
  {
   "cell_type": "code",
   "execution_count": 1,
   "metadata": {
    "collapsed": true,
    "id": "_ntmBXgmACP8"
   },
   "outputs": [],
   "source": [
    "import pandas as pd\n",
    "import seaborn as sns\n",
    "import matplotlib.pyplot as plt\n",
    "\n",
    "pd.options.display.max_rows = 999"
   ]
  },
  {
   "cell_type": "code",
   "execution_count": 27,
   "metadata": {
    "colab": {
     "base_uri": "https://localhost:8080/",
     "height": 142
    },
    "id": "Rxdfe45EALLS",
    "outputId": "df9b9644-0a7f-4c4b-ea51-adb3b7b6aabf"
   },
   "outputs": [
    {
     "data": {
      "text/html": [
       "<div>\n",
       "<style>\n",
       "    .dataframe thead tr:only-child th {\n",
       "        text-align: right;\n",
       "    }\n",
       "\n",
       "    .dataframe thead th {\n",
       "        text-align: left;\n",
       "    }\n",
       "\n",
       "    .dataframe tbody tr th {\n",
       "        vertical-align: top;\n",
       "    }\n",
       "</style>\n",
       "<table border=\"1\" class=\"dataframe\">\n",
       "  <thead>\n",
       "    <tr style=\"text-align: right;\">\n",
       "      <th></th>\n",
       "      <th>DT_INSERT_COSTUMER</th>\n",
       "      <th>COUNT_DISTINCT_of_NUM_CPF</th>\n",
       "      <th>COUNT_DISTINCT_of_NUM_CNPJ</th>\n",
       "    </tr>\n",
       "  </thead>\n",
       "  <tbody>\n",
       "    <tr>\n",
       "      <th>0</th>\n",
       "      <td>2015-04-23</td>\n",
       "      <td>1</td>\n",
       "      <td>0</td>\n",
       "    </tr>\n",
       "    <tr>\n",
       "      <th>1</th>\n",
       "      <td>2015-05-04</td>\n",
       "      <td>2</td>\n",
       "      <td>0</td>\n",
       "    </tr>\n",
       "    <tr>\n",
       "      <th>2</th>\n",
       "      <td>2015-05-13</td>\n",
       "      <td>1</td>\n",
       "      <td>0</td>\n",
       "    </tr>\n",
       "    <tr>\n",
       "      <th>3</th>\n",
       "      <td>2015-05-14</td>\n",
       "      <td>15</td>\n",
       "      <td>0</td>\n",
       "    </tr>\n",
       "    <tr>\n",
       "      <th>4</th>\n",
       "      <td>2015-05-15</td>\n",
       "      <td>15</td>\n",
       "      <td>0</td>\n",
       "    </tr>\n",
       "  </tbody>\n",
       "</table>\n",
       "</div>"
      ],
      "text/plain": [
       "  DT_INSERT_COSTUMER  COUNT_DISTINCT_of_NUM_CPF  COUNT_DISTINCT_of_NUM_CNPJ\n",
       "0         2015-04-23                          1                           0\n",
       "1         2015-05-04                          2                           0\n",
       "2         2015-05-13                          1                           0\n",
       "3         2015-05-14                         15                           0\n",
       "4         2015-05-15                         15                           0"
      ]
     },
     "execution_count": 27,
     "metadata": {},
     "output_type": "execute_result"
    }
   ],
   "source": [
    "clientes = pd.read_excel(\"C:\\\\Users\\\\amarildo.moreira\\\\Desktop\\\\PROJETOS\\\\04-Notebooks-Python\\\\CLIENTES.xlsx\")\n",
    "clientes.head()"
   ]
  },
  {
   "cell_type": "code",
   "execution_count": 3,
   "metadata": {
    "collapsed": true,
    "id": "giE4ufiYAYRp"
   },
   "outputs": [],
   "source": [
    "clientes.rename(columns={'DT_INSERT_COSTUMER': 'Data', \n",
    "                         'COUNT_DISTINCT_of_NUM_CPF': 'CPF',\n",
    "                         'COUNT_DISTINCT_of_NUM_CNPJ': 'CNPJ'}, inplace=True)"
   ]
  },
  {
   "cell_type": "code",
   "execution_count": 17,
   "metadata": {
    "colab": {
     "base_uri": "https://localhost:8080/"
    },
    "id": "-1FAHVWINS4t",
    "outputId": "511bc596-2c3a-4285-97a2-f20740f9d970"
   },
   "outputs": [],
   "source": [
    "CPF_group = clientes.groupby(clientes['Data'].dt.strftime('%Y/%m'))['CPF'].sum()\n",
    "CNPJ_group = clientes.groupby(clientes['Data'].dt.strftime('%Y/%m'))['CNPJ'].sum()"
   ]
  },
  {
   "cell_type": "code",
   "execution_count": 21,
   "metadata": {
    "colab": {
     "base_uri": "https://localhost:8080/",
     "height": 235
    },
    "id": "ifKCuiNqUZiH",
    "outputId": "47809c3f-93ae-4868-abfb-2fa194e32564"
   },
   "outputs": [],
   "source": [
    "novo = pd.concat([CPF_group, CNPJ_group], axis=1)"
   ]
  },
  {
   "cell_type": "code",
   "execution_count": 22,
   "metadata": {},
   "outputs": [
    {
     "data": {
      "text/plain": [
       "(75, 2)"
      ]
     },
     "execution_count": 22,
     "metadata": {},
     "output_type": "execute_result"
    }
   ],
   "source": [
    "novo.shape"
   ]
  },
  {
   "cell_type": "code",
   "execution_count": 23,
   "metadata": {},
   "outputs": [],
   "source": [
    "novo.to_excel('C:\\\\Users\\\\amarildo.moreira\\\\Desktop\\\\PROJETOS\\\\04-Notebooks-Python\\\\CLIENTES_GROUP.xlsx')"
   ]
  },
  {
   "cell_type": "code",
   "execution_count": 34,
   "metadata": {
    "colab": {
     "base_uri": "https://localhost:8080/",
     "height": 1000
    },
    "id": "J8CI1AU7NjkX",
    "outputId": "d6f802c3-15cd-410d-a1ee-ea3fdec7c7b8",
    "scrolled": true
   },
   "outputs": [
    {
     "data": {
      "image/png": "[encoded data removed]",
      "text/plain": [
       "<matplotlib.figure.Figure at 0x1eafafed1d0>"
      ]
     },
     "metadata": {},
     "output_type": "display_data"
    }
   ],
   "source": [
    "CPF_group[-12:].plot(kind='bar', figsize=(12, 4))\n",
    "plt.show()"
   ]
  },
  {
   "cell_type": "code",
   "execution_count": 35,
   "metadata": {
    "colab": {
     "base_uri": "https://localhost:8080/",
     "height": 365
    },
    "id": "81pgtBKmOHpT",
    "outputId": "287e0b27-e4e8-4fd0-ffe7-e6b66b1118be"
   },
   "outputs": [
    {
     "data": {
      "image/png": "[encoded data removed]",
      "text/plain": [
       "<matplotlib.figure.Figure at 0x1eafb51ccf8>"
      ]
     },
     "metadata": {},
     "output_type": "display_data"
    }
   ],
   "source": [
    "CNPJ_group[-12:].plot(kind='bar', figsize=(12, 4))\n",
    "plt.show()"
   ]
  }
 ],
 "metadata": {
  "colab": {
   "collapsed_sections": [],
   "name": "Evolução dos Clientes.ipynb",
   "provenance": []
  },
  "kernelspec": {
   "display_name": "Python 3",
   "language": "python",
   "name": "python3"
  },
  "language_info": {
   "codemirror_mode": {
    "name": "ipython",
    "version": 3
   },
   "file_extension": ".py",
   "mimetype": "text/x-python",
   "name": "python",
   "nbconvert_exporter": "python",
   "pygments_lexer": "ipython3",
   "version": "3.6.3"
  }
 },
 "nbformat": 4,
 "nbformat_minor": 1
}
