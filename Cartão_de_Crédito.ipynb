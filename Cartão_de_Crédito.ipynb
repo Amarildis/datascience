{
  "nbformat": 4,
  "nbformat_minor": 0,
  "metadata": {
    "colab": {
      "name": "Cartão de Crédito.ipynb",
      "provenance": [],
      "collapsed_sections": [],
      "mount_file_id": "1CffDXfuaX7IGvcjpIiXFQ38TbEhSGKEE",
      "authorship_tag": "ABX9TyPA6Xkm4wCvaKlRtZQlg1w9",
      "include_colab_link": true
    },
    "kernelspec": {
      "name": "python3",
      "display_name": "Python 3"
    },
    "language_info": {
      "name": "python"
    },
    "accelerator": "GPU"
  },
  "cells": [
    {
      "cell_type": "markdown",
      "metadata": {
        "id": "view-in-github",
        "colab_type": "text"
      },
      "source": [
        "<a href=\"https://colab.research.google.com/github/amarildo86/datascience/blob/master/Cart%C3%A3o_de_Cr%C3%A9dito.ipynb\" target=\"_parent\"><img src=\"https://colab.research.google.com/assets/colab-badge.svg\" alt=\"Open In Colab\"/></a>"
      ]
    },
    {
      "cell_type": "markdown",
      "source": [
        "**Análise de Cartão de Crédito**"
      ],
      "metadata": {
        "id": "EDN49L2hc7Og"
      }
    },
    {
      "cell_type": "markdown",
      "source": [
        "A medida que a concessão de crédito aumenta, precisamos entender quais variáveis dos clientes são mais importantes para explicar a inadimplência do crédito. Nosso objetiuvo aqui é construir um modelo de Machine Learning que seja útil para prever a inadimplância no cartão de crédito."
      ],
      "metadata": {
        "id": "PIiLeFKGHkcr"
      }
    },
    {
      "cell_type": "markdown",
      "source": [
        "**Vamos responder as perguntas**\n",
        "\n",
        "\n",
        "1.   Qual a taxa de aprovação dos clientes?\n",
        "2.   Quais características dos clientes apresentam maior correlação com a resposta do motor?\n",
        "3.   Qual o over30 mob3 na visão geral? Qual o over30 mob3 na visão por safra?\n",
        "4.   Quais as variáveis mais relevantes para a taxa de inadimplência do cartão de crédito?\n",
        "5.   Quais as possíveis causas do aumento da inadimplância em meses específicos?\n",
        "\n",
        "\n",
        "\n",
        "\n",
        "\n"
      ],
      "metadata": {
        "id": "vY8yQD9JcvmT"
      }
    },
    {
      "cell_type": "markdown",
      "source": [
        "---\n",
        "---"
      ],
      "metadata": {
        "id": "cnklhCkjGpxz"
      }
    },
    {
      "cell_type": "code",
      "source": [
        "#importação das bibliotecas necessárias\n",
        "import pandas as pd\n",
        "import numpy as np\n",
        "import seaborn as sns\n",
        "import matplotlib.pyplot as plt\n",
        "\n",
        "#importação da biblioteca que 'limpa' avisos desnecessários\n",
        "import warnings\n",
        "warnings.simplefilter('ignore')"
      ],
      "metadata": {
        "id": "uhBqGk45qvaV"
      },
      "execution_count": 1,
      "outputs": []
    },
    {
      "cell_type": "code",
      "source": [
        "#criação dos 3 datasets: client, credit e invoice\n",
        "client = pd.read_excel('/content/drive/MyDrive/case_business_analytics_v5.xlsx', sheet_name='Tabela_Client')\n",
        "credit_status = pd.read_excel('/content/drive/MyDrive/case_business_analytics_v5.xlsx', sheet_name='Tabela_CreditStatus')\n",
        "invoice_status = pd.read_excel('/content/drive/MyDrive/case_business_analytics_v5.xlsx', sheet_name='Tabela_InvoiceStatus')"
      ],
      "metadata": {
        "id": "zfeont6y1aSk"
      },
      "execution_count": 2,
      "outputs": []
    },
    {
      "cell_type": "code",
      "source": [
        "#primeiras linhas do dataset client\n",
        "client.head(3)"
      ],
      "metadata": {
        "colab": {
          "base_uri": "https://localhost:8080/",
          "height": 143
        },
        "id": "qYbmyuCh2Ig0",
        "outputId": "8c32cf74-519e-4e31-97b1-a5360f076ebb"
      },
      "execution_count": 3,
      "outputs": [
        {
          "output_type": "execute_result",
          "data": {
            "text/plain": [
              "   ClientId  Gender   Platform OSVersion AddressState  Birthdate  \\\n",
              "0      81.0    Male  iPhone+OS     9.3.2           SP 1991-04-24   \n",
              "1     159.0  Female  iPhone+OS     9.3.2           SP 1991-04-09   \n",
              "2     316.0    Male    Android     9.3.2           SP 1991-08-04   \n",
              "\n",
              "  CurrentStatus RegisterDate RegisterConclusionDate RegisterApprovalDate  \\\n",
              "0      Aprovado   2016-05-31                    NaT           2016-06-06   \n",
              "1      Aprovado   2016-07-05                    NaT           2016-08-24   \n",
              "2      Aprovado   2016-07-15                    NaT           2016-09-08   \n",
              "\n",
              "  FirstTransactionDate  PresumedIncome  \n",
              "0           2016-06-14         4161.75  \n",
              "1           2016-11-18         4225.12  \n",
              "2           2019-08-29        14233.47  "
            ],
            "text/html": [
              "\n",
              "  <div id=\"df-cddc6db2-a744-45a8-846d-cc85509bd1dc\">\n",
              "    <div class=\"colab-df-container\">\n",
              "      <div>\n",
              "<style scoped>\n",
              "    .dataframe tbody tr th:only-of-type {\n",
              "        vertical-align: middle;\n",
              "    }\n",
              "\n",
              "    .dataframe tbody tr th {\n",
              "        vertical-align: top;\n",
              "    }\n",
              "\n",
              "    .dataframe thead th {\n",
              "        text-align: right;\n",
              "    }\n",
              "</style>\n",
              "<table border=\"1\" class=\"dataframe\">\n",
              "  <thead>\n",
              "    <tr style=\"text-align: right;\">\n",
              "      <th></th>\n",
              "      <th>ClientId</th>\n",
              "      <th>Gender</th>\n",
              "      <th>Platform</th>\n",
              "      <th>OSVersion</th>\n",
              "      <th>AddressState</th>\n",
              "      <th>Birthdate</th>\n",
              "      <th>CurrentStatus</th>\n",
              "      <th>RegisterDate</th>\n",
              "      <th>RegisterConclusionDate</th>\n",
              "      <th>RegisterApprovalDate</th>\n",
              "      <th>FirstTransactionDate</th>\n",
              "      <th>PresumedIncome</th>\n",
              "    </tr>\n",
              "  </thead>\n",
              "  <tbody>\n",
              "    <tr>\n",
              "      <th>0</th>\n",
              "      <td>81.0</td>\n",
              "      <td>Male</td>\n",
              "      <td>iPhone+OS</td>\n",
              "      <td>9.3.2</td>\n",
              "      <td>SP</td>\n",
              "      <td>1991-04-24</td>\n",
              "      <td>Aprovado</td>\n",
              "      <td>2016-05-31</td>\n",
              "      <td>NaT</td>\n",
              "      <td>2016-06-06</td>\n",
              "      <td>2016-06-14</td>\n",
              "      <td>4161.75</td>\n",
              "    </tr>\n",
              "    <tr>\n",
              "      <th>1</th>\n",
              "      <td>159.0</td>\n",
              "      <td>Female</td>\n",
              "      <td>iPhone+OS</td>\n",
              "      <td>9.3.2</td>\n",
              "      <td>SP</td>\n",
              "      <td>1991-04-09</td>\n",
              "      <td>Aprovado</td>\n",
              "      <td>2016-07-05</td>\n",
              "      <td>NaT</td>\n",
              "      <td>2016-08-24</td>\n",
              "      <td>2016-11-18</td>\n",
              "      <td>4225.12</td>\n",
              "    </tr>\n",
              "    <tr>\n",
              "      <th>2</th>\n",
              "      <td>316.0</td>\n",
              "      <td>Male</td>\n",
              "      <td>Android</td>\n",
              "      <td>9.3.2</td>\n",
              "      <td>SP</td>\n",
              "      <td>1991-08-04</td>\n",
              "      <td>Aprovado</td>\n",
              "      <td>2016-07-15</td>\n",
              "      <td>NaT</td>\n",
              "      <td>2016-09-08</td>\n",
              "      <td>2019-08-29</td>\n",
              "      <td>14233.47</td>\n",
              "    </tr>\n",
              "  </tbody>\n",
              "</table>\n",
              "</div>\n",
              "      <button class=\"colab-df-convert\" onclick=\"convertToInteractive('df-cddc6db2-a744-45a8-846d-cc85509bd1dc')\"\n",
              "              title=\"Convert this dataframe to an interactive table.\"\n",
              "              style=\"display:none;\">\n",
              "        \n",
              "  <svg xmlns=\"http://www.w3.org/2000/svg\" height=\"24px\"viewBox=\"0 0 24 24\"\n",
              "       width=\"24px\">\n",
              "    <path d=\"M0 0h24v24H0V0z\" fill=\"none\"/>\n",
              "    <path d=\"M18.56 5.44l.94 2.06.94-2.06 2.06-.94-2.06-.94-.94-2.06-.94 2.06-2.06.94zm-11 1L8.5 8.5l.94-2.06 2.06-.94-2.06-.94L8.5 2.5l-.94 2.06-2.06.94zm10 10l.94 2.06.94-2.06 2.06-.94-2.06-.94-.94-2.06-.94 2.06-2.06.94z\"/><path d=\"M17.41 7.96l-1.37-1.37c-.4-.4-.92-.59-1.43-.59-.52 0-1.04.2-1.43.59L10.3 9.45l-7.72 7.72c-.78.78-.78 2.05 0 2.83L4 21.41c.39.39.9.59 1.41.59.51 0 1.02-.2 1.41-.59l7.78-7.78 2.81-2.81c.8-.78.8-2.07 0-2.86zM5.41 20L4 18.59l7.72-7.72 1.47 1.35L5.41 20z\"/>\n",
              "  </svg>\n",
              "      </button>\n",
              "      \n",
              "  <style>\n",
              "    .colab-df-container {\n",
              "      display:flex;\n",
              "      flex-wrap:wrap;\n",
              "      gap: 12px;\n",
              "    }\n",
              "\n",
              "    .colab-df-convert {\n",
              "      background-color: #E8F0FE;\n",
              "      border: none;\n",
              "      border-radius: 50%;\n",
              "      cursor: pointer;\n",
              "      display: none;\n",
              "      fill: #1967D2;\n",
              "      height: 32px;\n",
              "      padding: 0 0 0 0;\n",
              "      width: 32px;\n",
              "    }\n",
              "\n",
              "    .colab-df-convert:hover {\n",
              "      background-color: #E2EBFA;\n",
              "      box-shadow: 0px 1px 2px rgba(60, 64, 67, 0.3), 0px 1px 3px 1px rgba(60, 64, 67, 0.15);\n",
              "      fill: #174EA6;\n",
              "    }\n",
              "\n",
              "    [theme=dark] .colab-df-convert {\n",
              "      background-color: #3B4455;\n",
              "      fill: #D2E3FC;\n",
              "    }\n",
              "\n",
              "    [theme=dark] .colab-df-convert:hover {\n",
              "      background-color: #434B5C;\n",
              "      box-shadow: 0px 1px 3px 1px rgba(0, 0, 0, 0.15);\n",
              "      filter: drop-shadow(0px 1px 2px rgba(0, 0, 0, 0.3));\n",
              "      fill: #FFFFFF;\n",
              "    }\n",
              "  </style>\n",
              "\n",
              "      <script>\n",
              "        const buttonEl =\n",
              "          document.querySelector('#df-cddc6db2-a744-45a8-846d-cc85509bd1dc button.colab-df-convert');\n",
              "        buttonEl.style.display =\n",
              "          google.colab.kernel.accessAllowed ? 'block' : 'none';\n",
              "\n",
              "        async function convertToInteractive(key) {\n",
              "          const element = document.querySelector('#df-cddc6db2-a744-45a8-846d-cc85509bd1dc');\n",
              "          const dataTable =\n",
              "            await google.colab.kernel.invokeFunction('convertToInteractive',\n",
              "                                                     [key], {});\n",
              "          if (!dataTable) return;\n",
              "\n",
              "          const docLinkHtml = 'Like what you see? Visit the ' +\n",
              "            '<a target=\"_blank\" href=https://colab.research.google.com/notebooks/data_table.ipynb>data table notebook</a>'\n",
              "            + ' to learn more about interactive tables.';\n",
              "          element.innerHTML = '';\n",
              "          dataTable['output_type'] = 'display_data';\n",
              "          await google.colab.output.renderOutput(dataTable, element);\n",
              "          const docLink = document.createElement('div');\n",
              "          docLink.innerHTML = docLinkHtml;\n",
              "          element.appendChild(docLink);\n",
              "        }\n",
              "      </script>\n",
              "    </div>\n",
              "  </div>\n",
              "  "
            ]
          },
          "metadata": {},
          "execution_count": 3
        }
      ]
    },
    {
      "cell_type": "code",
      "source": [
        "#primeiras linhas do dataset credit\n",
        "credit_status.head(3)"
      ],
      "metadata": {
        "colab": {
          "base_uri": "https://localhost:8080/",
          "height": 143
        },
        "id": "h5lewh4D2gma",
        "outputId": "f9f498de-8e6d-49f9-d320-a5c61c48b918"
      },
      "execution_count": 4,
      "outputs": [
        {
          "output_type": "execute_result",
          "data": {
            "text/plain": [
              "   ClientId CreditStatus\n",
              "0    698350        Ativo\n",
              "1    817285        Ativo\n",
              "2    962167        Ativo"
            ],
            "text/html": [
              "\n",
              "  <div id=\"df-1fca13f2-80f7-4725-b7a8-ffaa4939d686\">\n",
              "    <div class=\"colab-df-container\">\n",
              "      <div>\n",
              "<style scoped>\n",
              "    .dataframe tbody tr th:only-of-type {\n",
              "        vertical-align: middle;\n",
              "    }\n",
              "\n",
              "    .dataframe tbody tr th {\n",
              "        vertical-align: top;\n",
              "    }\n",
              "\n",
              "    .dataframe thead th {\n",
              "        text-align: right;\n",
              "    }\n",
              "</style>\n",
              "<table border=\"1\" class=\"dataframe\">\n",
              "  <thead>\n",
              "    <tr style=\"text-align: right;\">\n",
              "      <th></th>\n",
              "      <th>ClientId</th>\n",
              "      <th>CreditStatus</th>\n",
              "    </tr>\n",
              "  </thead>\n",
              "  <tbody>\n",
              "    <tr>\n",
              "      <th>0</th>\n",
              "      <td>698350</td>\n",
              "      <td>Ativo</td>\n",
              "    </tr>\n",
              "    <tr>\n",
              "      <th>1</th>\n",
              "      <td>817285</td>\n",
              "      <td>Ativo</td>\n",
              "    </tr>\n",
              "    <tr>\n",
              "      <th>2</th>\n",
              "      <td>962167</td>\n",
              "      <td>Ativo</td>\n",
              "    </tr>\n",
              "  </tbody>\n",
              "</table>\n",
              "</div>\n",
              "      <button class=\"colab-df-convert\" onclick=\"convertToInteractive('df-1fca13f2-80f7-4725-b7a8-ffaa4939d686')\"\n",
              "              title=\"Convert this dataframe to an interactive table.\"\n",
              "              style=\"display:none;\">\n",
              "        \n",
              "  <svg xmlns=\"http://www.w3.org/2000/svg\" height=\"24px\"viewBox=\"0 0 24 24\"\n",
              "       width=\"24px\">\n",
              "    <path d=\"M0 0h24v24H0V0z\" fill=\"none\"/>\n",
              "    <path d=\"M18.56 5.44l.94 2.06.94-2.06 2.06-.94-2.06-.94-.94-2.06-.94 2.06-2.06.94zm-11 1L8.5 8.5l.94-2.06 2.06-.94-2.06-.94L8.5 2.5l-.94 2.06-2.06.94zm10 10l.94 2.06.94-2.06 2.06-.94-2.06-.94-.94-2.06-.94 2.06-2.06.94z\"/><path d=\"M17.41 7.96l-1.37-1.37c-.4-.4-.92-.59-1.43-.59-.52 0-1.04.2-1.43.59L10.3 9.45l-7.72 7.72c-.78.78-.78 2.05 0 2.83L4 21.41c.39.39.9.59 1.41.59.51 0 1.02-.2 1.41-.59l7.78-7.78 2.81-2.81c.8-.78.8-2.07 0-2.86zM5.41 20L4 18.59l7.72-7.72 1.47 1.35L5.41 20z\"/>\n",
              "  </svg>\n",
              "      </button>\n",
              "      \n",
              "  <style>\n",
              "    .colab-df-container {\n",
              "      display:flex;\n",
              "      flex-wrap:wrap;\n",
              "      gap: 12px;\n",
              "    }\n",
              "\n",
              "    .colab-df-convert {\n",
              "      background-color: #E8F0FE;\n",
              "      border: none;\n",
              "      border-radius: 50%;\n",
              "      cursor: pointer;\n",
              "      display: none;\n",
              "      fill: #1967D2;\n",
              "      height: 32px;\n",
              "      padding: 0 0 0 0;\n",
              "      width: 32px;\n",
              "    }\n",
              "\n",
              "    .colab-df-convert:hover {\n",
              "      background-color: #E2EBFA;\n",
              "      box-shadow: 0px 1px 2px rgba(60, 64, 67, 0.3), 0px 1px 3px 1px rgba(60, 64, 67, 0.15);\n",
              "      fill: #174EA6;\n",
              "    }\n",
              "\n",
              "    [theme=dark] .colab-df-convert {\n",
              "      background-color: #3B4455;\n",
              "      fill: #D2E3FC;\n",
              "    }\n",
              "\n",
              "    [theme=dark] .colab-df-convert:hover {\n",
              "      background-color: #434B5C;\n",
              "      box-shadow: 0px 1px 3px 1px rgba(0, 0, 0, 0.15);\n",
              "      filter: drop-shadow(0px 1px 2px rgba(0, 0, 0, 0.3));\n",
              "      fill: #FFFFFF;\n",
              "    }\n",
              "  </style>\n",
              "\n",
              "      <script>\n",
              "        const buttonEl =\n",
              "          document.querySelector('#df-1fca13f2-80f7-4725-b7a8-ffaa4939d686 button.colab-df-convert');\n",
              "        buttonEl.style.display =\n",
              "          google.colab.kernel.accessAllowed ? 'block' : 'none';\n",
              "\n",
              "        async function convertToInteractive(key) {\n",
              "          const element = document.querySelector('#df-1fca13f2-80f7-4725-b7a8-ffaa4939d686');\n",
              "          const dataTable =\n",
              "            await google.colab.kernel.invokeFunction('convertToInteractive',\n",
              "                                                     [key], {});\n",
              "          if (!dataTable) return;\n",
              "\n",
              "          const docLinkHtml = 'Like what you see? Visit the ' +\n",
              "            '<a target=\"_blank\" href=https://colab.research.google.com/notebooks/data_table.ipynb>data table notebook</a>'\n",
              "            + ' to learn more about interactive tables.';\n",
              "          element.innerHTML = '';\n",
              "          dataTable['output_type'] = 'display_data';\n",
              "          await google.colab.output.renderOutput(dataTable, element);\n",
              "          const docLink = document.createElement('div');\n",
              "          docLink.innerHTML = docLinkHtml;\n",
              "          element.appendChild(docLink);\n",
              "        }\n",
              "      </script>\n",
              "    </div>\n",
              "  </div>\n",
              "  "
            ]
          },
          "metadata": {},
          "execution_count": 4
        }
      ]
    },
    {
      "cell_type": "code",
      "source": [
        "#primeiras linhas do dataset invoice\n",
        "invoice_status.head(3)"
      ],
      "metadata": {
        "colab": {
          "base_uri": "https://localhost:8080/",
          "height": 143
        },
        "id": "B1Dc1yO82jcz",
        "outputId": "4d9ce411-dd10-4973-c26d-f8731a97114f"
      },
      "execution_count": 5,
      "outputs": [
        {
          "output_type": "execute_result",
          "data": {
            "text/plain": [
              "        Date  ClientId FirstInvoiceDate  InvoiceId InvoiceDueDate  \\\n",
              "0 2020-01-05      5503       2019-05-05     459297     2020-01-05   \n",
              "1 2019-10-05     11313       2019-07-05    1209407     2019-10-05   \n",
              "2 2019-09-25     26648       2019-04-25    1142564     2019-09-25   \n",
              "\n",
              "   OverdueDays InvoiceStatus  InvoiceValue  \n",
              "0            0       REGULAR        451.60  \n",
              "1            0       REGULAR          2.09  \n",
              "2            0       REGULAR        123.03  "
            ],
            "text/html": [
              "\n",
              "  <div id=\"df-f6745a3d-c978-4855-b090-3175fd08145b\">\n",
              "    <div class=\"colab-df-container\">\n",
              "      <div>\n",
              "<style scoped>\n",
              "    .dataframe tbody tr th:only-of-type {\n",
              "        vertical-align: middle;\n",
              "    }\n",
              "\n",
              "    .dataframe tbody tr th {\n",
              "        vertical-align: top;\n",
              "    }\n",
              "\n",
              "    .dataframe thead th {\n",
              "        text-align: right;\n",
              "    }\n",
              "</style>\n",
              "<table border=\"1\" class=\"dataframe\">\n",
              "  <thead>\n",
              "    <tr style=\"text-align: right;\">\n",
              "      <th></th>\n",
              "      <th>Date</th>\n",
              "      <th>ClientId</th>\n",
              "      <th>FirstInvoiceDate</th>\n",
              "      <th>InvoiceId</th>\n",
              "      <th>InvoiceDueDate</th>\n",
              "      <th>OverdueDays</th>\n",
              "      <th>InvoiceStatus</th>\n",
              "      <th>InvoiceValue</th>\n",
              "    </tr>\n",
              "  </thead>\n",
              "  <tbody>\n",
              "    <tr>\n",
              "      <th>0</th>\n",
              "      <td>2020-01-05</td>\n",
              "      <td>5503</td>\n",
              "      <td>2019-05-05</td>\n",
              "      <td>459297</td>\n",
              "      <td>2020-01-05</td>\n",
              "      <td>0</td>\n",
              "      <td>REGULAR</td>\n",
              "      <td>451.60</td>\n",
              "    </tr>\n",
              "    <tr>\n",
              "      <th>1</th>\n",
              "      <td>2019-10-05</td>\n",
              "      <td>11313</td>\n",
              "      <td>2019-07-05</td>\n",
              "      <td>1209407</td>\n",
              "      <td>2019-10-05</td>\n",
              "      <td>0</td>\n",
              "      <td>REGULAR</td>\n",
              "      <td>2.09</td>\n",
              "    </tr>\n",
              "    <tr>\n",
              "      <th>2</th>\n",
              "      <td>2019-09-25</td>\n",
              "      <td>26648</td>\n",
              "      <td>2019-04-25</td>\n",
              "      <td>1142564</td>\n",
              "      <td>2019-09-25</td>\n",
              "      <td>0</td>\n",
              "      <td>REGULAR</td>\n",
              "      <td>123.03</td>\n",
              "    </tr>\n",
              "  </tbody>\n",
              "</table>\n",
              "</div>\n",
              "      <button class=\"colab-df-convert\" onclick=\"convertToInteractive('df-f6745a3d-c978-4855-b090-3175fd08145b')\"\n",
              "              title=\"Convert this dataframe to an interactive table.\"\n",
              "              style=\"display:none;\">\n",
              "        \n",
              "  <svg xmlns=\"http://www.w3.org/2000/svg\" height=\"24px\"viewBox=\"0 0 24 24\"\n",
              "       width=\"24px\">\n",
              "    <path d=\"M0 0h24v24H0V0z\" fill=\"none\"/>\n",
              "    <path d=\"M18.56 5.44l.94 2.06.94-2.06 2.06-.94-2.06-.94-.94-2.06-.94 2.06-2.06.94zm-11 1L8.5 8.5l.94-2.06 2.06-.94-2.06-.94L8.5 2.5l-.94 2.06-2.06.94zm10 10l.94 2.06.94-2.06 2.06-.94-2.06-.94-.94-2.06-.94 2.06-2.06.94z\"/><path d=\"M17.41 7.96l-1.37-1.37c-.4-.4-.92-.59-1.43-.59-.52 0-1.04.2-1.43.59L10.3 9.45l-7.72 7.72c-.78.78-.78 2.05 0 2.83L4 21.41c.39.39.9.59 1.41.59.51 0 1.02-.2 1.41-.59l7.78-7.78 2.81-2.81c.8-.78.8-2.07 0-2.86zM5.41 20L4 18.59l7.72-7.72 1.47 1.35L5.41 20z\"/>\n",
              "  </svg>\n",
              "      </button>\n",
              "      \n",
              "  <style>\n",
              "    .colab-df-container {\n",
              "      display:flex;\n",
              "      flex-wrap:wrap;\n",
              "      gap: 12px;\n",
              "    }\n",
              "\n",
              "    .colab-df-convert {\n",
              "      background-color: #E8F0FE;\n",
              "      border: none;\n",
              "      border-radius: 50%;\n",
              "      cursor: pointer;\n",
              "      display: none;\n",
              "      fill: #1967D2;\n",
              "      height: 32px;\n",
              "      padding: 0 0 0 0;\n",
              "      width: 32px;\n",
              "    }\n",
              "\n",
              "    .colab-df-convert:hover {\n",
              "      background-color: #E2EBFA;\n",
              "      box-shadow: 0px 1px 2px rgba(60, 64, 67, 0.3), 0px 1px 3px 1px rgba(60, 64, 67, 0.15);\n",
              "      fill: #174EA6;\n",
              "    }\n",
              "\n",
              "    [theme=dark] .colab-df-convert {\n",
              "      background-color: #3B4455;\n",
              "      fill: #D2E3FC;\n",
              "    }\n",
              "\n",
              "    [theme=dark] .colab-df-convert:hover {\n",
              "      background-color: #434B5C;\n",
              "      box-shadow: 0px 1px 3px 1px rgba(0, 0, 0, 0.15);\n",
              "      filter: drop-shadow(0px 1px 2px rgba(0, 0, 0, 0.3));\n",
              "      fill: #FFFFFF;\n",
              "    }\n",
              "  </style>\n",
              "\n",
              "      <script>\n",
              "        const buttonEl =\n",
              "          document.querySelector('#df-f6745a3d-c978-4855-b090-3175fd08145b button.colab-df-convert');\n",
              "        buttonEl.style.display =\n",
              "          google.colab.kernel.accessAllowed ? 'block' : 'none';\n",
              "\n",
              "        async function convertToInteractive(key) {\n",
              "          const element = document.querySelector('#df-f6745a3d-c978-4855-b090-3175fd08145b');\n",
              "          const dataTable =\n",
              "            await google.colab.kernel.invokeFunction('convertToInteractive',\n",
              "                                                     [key], {});\n",
              "          if (!dataTable) return;\n",
              "\n",
              "          const docLinkHtml = 'Like what you see? Visit the ' +\n",
              "            '<a target=\"_blank\" href=https://colab.research.google.com/notebooks/data_table.ipynb>data table notebook</a>'\n",
              "            + ' to learn more about interactive tables.';\n",
              "          element.innerHTML = '';\n",
              "          dataTable['output_type'] = 'display_data';\n",
              "          await google.colab.output.renderOutput(dataTable, element);\n",
              "          const docLink = document.createElement('div');\n",
              "          docLink.innerHTML = docLinkHtml;\n",
              "          element.appendChild(docLink);\n",
              "        }\n",
              "      </script>\n",
              "    </div>\n",
              "  </div>\n",
              "  "
            ]
          },
          "metadata": {},
          "execution_count": 5
        }
      ]
    },
    {
      "cell_type": "markdown",
      "source": [
        "**Verificando valores nulos nos 3 datasets**"
      ],
      "metadata": {
        "id": "aLGIZkFzEZMc"
      }
    },
    {
      "cell_type": "code",
      "source": [
        "#setando o tamanho do gráfico\n",
        "plt.figure(figsize=(11, 3.5))\n",
        "\n",
        "#plotando o heatmap para mapear valores nulos\n",
        "sns.heatmap(client.isnull(), yticklabels=False, cbar=False, cmap='viridis')"
      ],
      "metadata": {
        "colab": {
          "base_uri": "https://localhost:8080/",
          "height": 366
        },
        "id": "D7wOYMGqEgRj",
        "outputId": "c0feede1-ff52-4a35-bbf5-2e229f74e249"
      },
      "execution_count": 6,
      "outputs": [
        {
          "output_type": "execute_result",
          "data": {
            "text/plain": [
              "<matplotlib.axes._subplots.AxesSubplot at 0x7efd4ddab650>"
            ]
          },
          "metadata": {},
          "execution_count": 6
        },
        {
          "output_type": "display_data",
          "data": {
            "text/plain": [
              "<Figure size 792x252 with 1 Axes>"
            ],
            "image/png": "[encoded data removed]"
          },
          "metadata": {
            "needs_background": "light"
          }
        }
      ]
    },
    {
      "cell_type": "code",
      "source": [
        "#contagem de valores nulos e ordenação\n",
        "client.isna().sum().sort_values(ascending=False)"
      ],
      "metadata": {
        "colab": {
          "base_uri": "https://localhost:8080/"
        },
        "id": "Ztb1zUT0FUkE",
        "outputId": "9121eba7-b0ca-49ba-e4b6-fe89340d8ab5"
      },
      "execution_count": 7,
      "outputs": [
        {
          "output_type": "execute_result",
          "data": {
            "text/plain": [
              "FirstTransactionDate      30310\n",
              "ClientId                  18089\n",
              "RegisterApprovalDate      18089\n",
              "RegisterConclusionDate    13948\n",
              "OSVersion                  6781\n",
              "AddressState               3779\n",
              "Platform                   3511\n",
              "Birthdate                    30\n",
              "Gender                        0\n",
              "CurrentStatus                 0\n",
              "RegisterDate                  0\n",
              "PresumedIncome                0\n",
              "dtype: int64"
            ]
          },
          "metadata": {},
          "execution_count": 7
        }
      ]
    },
    {
      "cell_type": "code",
      "source": [
        "#setando o tamanho do gráfico\n",
        "plt.figure(figsize=(11, 3.5))\n",
        "\n",
        "#plotando o heatmap para mapear valores nulos\n",
        "sns.heatmap(credit_status.isnull(), yticklabels=False, cbar=False, cmap='viridis')"
      ],
      "metadata": {
        "colab": {
          "base_uri": "https://localhost:8080/",
          "height": 259
        },
        "id": "0Bp2JzwlE1uc",
        "outputId": "86828eea-29e1-449c-8e6b-d1e0b0f2b2c9"
      },
      "execution_count": 50,
      "outputs": [
        {
          "output_type": "execute_result",
          "data": {
            "text/plain": [
              "<matplotlib.axes._subplots.AxesSubplot at 0x7efd4c888a10>"
            ]
          },
          "metadata": {},
          "execution_count": 50
        },
        {
          "output_type": "display_data",
          "data": {
            "text/plain": [
              "<Figure size 792x252 with 1 Axes>"
            ],
            "image/png": "[encoded data removed]"
          },
          "metadata": {}
        }
      ]
    },
    {
      "cell_type": "code",
      "source": [
        "#contagem de valores nulos e ordenação\n",
        "credit_status.isna().sum().sort_values(ascending=False)"
      ],
      "metadata": {
        "colab": {
          "base_uri": "https://localhost:8080/"
        },
        "id": "DHnjPXshGG-b",
        "outputId": "2412984f-aee6-4c0a-8774-66999c325f18"
      },
      "execution_count": 9,
      "outputs": [
        {
          "output_type": "execute_result",
          "data": {
            "text/plain": [
              "ClientId        0\n",
              "CreditStatus    0\n",
              "dtype: int64"
            ]
          },
          "metadata": {},
          "execution_count": 9
        }
      ]
    },
    {
      "cell_type": "code",
      "source": [
        "#setando o tamanho do gráfico\n",
        "plt.figure(figsize=(11, 3.5))\n",
        "\n",
        "#plotando o heatmap para mapear valores nulos\n",
        "sns.heatmap(invoice_status.isnull(), yticklabels=False, cbar=False, cmap='viridis')"
      ],
      "metadata": {
        "colab": {
          "base_uri": "https://localhost:8080/",
          "height": 338
        },
        "id": "HhST0_JmE8wH",
        "outputId": "9e4081f9-5127-4603-ccfe-ee1256803924"
      },
      "execution_count": 51,
      "outputs": [
        {
          "output_type": "execute_result",
          "data": {
            "text/plain": [
              "<matplotlib.axes._subplots.AxesSubplot at 0x7efd4bc9d150>"
            ]
          },
          "metadata": {},
          "execution_count": 51
        },
        {
          "output_type": "display_data",
          "data": {
            "text/plain": [
              "<Figure size 792x252 with 1 Axes>"
            ],
            "image/png": "[encoded data removed]"
          },
          "metadata": {}
        }
      ]
    },
    {
      "cell_type": "code",
      "source": [
        "#contagem de valores nulos e ordenação\n",
        "invoice_status.isna().sum().sort_values(ascending=False)"
      ],
      "metadata": {
        "colab": {
          "base_uri": "https://localhost:8080/"
        },
        "id": "tnJhLbevGNwD",
        "outputId": "62c559e7-9e48-4c96-999b-646f97192ca1"
      },
      "execution_count": 11,
      "outputs": [
        {
          "output_type": "execute_result",
          "data": {
            "text/plain": [
              "Date                0\n",
              "ClientId            0\n",
              "FirstInvoiceDate    0\n",
              "InvoiceId           0\n",
              "InvoiceDueDate      0\n",
              "OverdueDays         0\n",
              "InvoiceStatus       0\n",
              "InvoiceValue        0\n",
              "dtype: int64"
            ]
          },
          "metadata": {},
          "execution_count": 11
        }
      ]
    },
    {
      "cell_type": "markdown",
      "source": [
        "*   **1.1: Qual a taxa de aprovação dos clientes? (i.e., qual o percentual de clientes aprovados)**\t\n",
        "*   **1.2: Quais características dos clientes apresentam maior correlação com a resposta de aprovação do motor de crédito?** "
      ],
      "metadata": {
        "id": "mRQA085XONZB"
      }
    },
    {
      "cell_type": "code",
      "source": [
        "#mostrar os valores distintos pra poder classificar mais um de uma categoria em \"Aprovado\"\n",
        "print(credit_status['CreditStatus'].unique())"
      ],
      "metadata": {
        "colab": {
          "base_uri": "https://localhost:8080/"
        },
        "id": "crfftcA63MVs",
        "outputId": "54964dd6-f648-4825-97d3-1c16211e3dad"
      },
      "execution_count": 12,
      "outputs": [
        {
          "output_type": "stream",
          "name": "stdout",
          "text": [
            "['Ativo' 'Reprovado' 'Bloqueado' 'Aprovado']\n"
          ]
        }
      ]
    },
    {
      "cell_type": "code",
      "source": [
        "#contagem de clientes em cada categoria 'CreditStatus'\n",
        "credit_status.groupby('CreditStatus')['ClientId'].count()"
      ],
      "metadata": {
        "colab": {
          "base_uri": "https://localhost:8080/"
        },
        "id": "JCnLKZv8_oC6",
        "outputId": "72532f00-034f-474b-f2b5-62c1dac0bcd3"
      },
      "execution_count": 13,
      "outputs": [
        {
          "output_type": "execute_result",
          "data": {
            "text/plain": [
              "CreditStatus\n",
              "Aprovado       203\n",
              "Ativo        16749\n",
              "Bloqueado     2189\n",
              "Reprovado    15622\n",
              "Name: ClientId, dtype: int64"
            ]
          },
          "metadata": {},
          "execution_count": 13
        }
      ]
    },
    {
      "cell_type": "code",
      "source": [
        "# agrupar a categoria \"Ativo\" dentro de \"Aprovado\" para facilitar o cálculo\n",
        "conditions = [\n",
        "    (credit_status['CreditStatus'] == 'Ativo'),\n",
        "    (credit_status['CreditStatus'] == 'Reprovado'),\n",
        "    (credit_status['CreditStatus'] == 'Bloqueado'),\n",
        "    (credit_status['CreditStatus'] == 'Aprovado')]\n",
        "\n",
        "#valores ordenados que serão substítuidos\n",
        "values = ['Aprovado', 'Reprovado', 'Bloqueado', 'Aprovado']"
      ],
      "metadata": {
        "id": "S9nSD2D-489T"
      },
      "execution_count": 14,
      "outputs": []
    },
    {
      "cell_type": "code",
      "source": [
        "#aplicar a função pra susbtituir \"Ativo\" em \"Aprovado\"\n",
        "credit_status['Aprovacao'] = np.select(conditions, values)\n",
        "\n",
        "#contagem de clientes em cada nova categoria \"CreditStatus\"\n",
        "approve = credit_status.groupby('Aprovacao')['ClientId'].count()\n",
        "\n",
        "#exibir o resultado\n",
        "print(approve)"
      ],
      "metadata": {
        "colab": {
          "base_uri": "https://localhost:8080/"
        },
        "id": "7TGp0wJA9Xtz",
        "outputId": "10c85fd8-e2e1-4ef2-c5f1-acfb451487d2"
      },
      "execution_count": 15,
      "outputs": [
        {
          "output_type": "stream",
          "name": "stdout",
          "text": [
            "Aprovacao\n",
            "Aprovado     16952\n",
            "Bloqueado     2189\n",
            "Reprovado    15622\n",
            "Name: ClientId, dtype: int64\n"
          ]
        }
      ]
    },
    {
      "cell_type": "code",
      "source": [
        "#cálculo da taxa de aprovação na visão geral\n",
        "taxa_aprovacao = approve[0] / approve.sum()\n",
        "print((np.round(taxa_aprovacao, 3) * 100), \"%\")"
      ],
      "metadata": {
        "colab": {
          "base_uri": "https://localhost:8080/"
        },
        "id": "jiZHAu8G-SwE",
        "outputId": "f0320e8e-9200-4825-9853-9cb37d73598c"
      },
      "execution_count": 16,
      "outputs": [
        {
          "output_type": "stream",
          "name": "stdout",
          "text": [
            "48.8 %\n"
          ]
        }
      ]
    },
    {
      "cell_type": "markdown",
      "source": [
        "**1.1: Taxa de aprovação dos clientes = 48,8%**\n",
        "\n",
        "\n",
        "---\n",
        "---"
      ],
      "metadata": {
        "id": "UavBijLEQJZI"
      }
    },
    {
      "cell_type": "code",
      "source": [
        "#unindo os datasets credit e client\n",
        "motor_corr = pd.merge(credit_status, client, how='left', on='ClientId')\n",
        "\n",
        "#selecionando apenas as variáveis mais relevantes para fazer correlação\n",
        "motor_corr_clean = motor_corr[['CreditStatus', 'Aprovacao', 'Gender', 'Platform', 'OSVersion', 'AddressState', 'Birthdate', 'CurrentStatus', 'PresumedIncome', 'RegisterApprovalDate']]\n",
        "\n",
        "#visualizando as primeiras linhas\n",
        "motor_corr_clean.head(3)\n",
        "\n",
        "#construindo a variável idade\n",
        "motor_corr_clean['idade'] = motor_corr_clean.RegisterApprovalDate - motor_corr_clean.Birthdate\n",
        "\n",
        "#convertendo a variável idade para númerico\n",
        "motor_corr_clean['idade'] = (motor_corr_clean['idade'].dt.days / 365).astype('int')\n",
        "\n",
        "#mostrando as primeiras linhas\n",
        "motor_corr_clean.head(3)"
      ],
      "metadata": {
        "colab": {
          "base_uri": "https://localhost:8080/",
          "height": 143
        },
        "id": "Rfv1bcafoNML",
        "outputId": "3215c7e7-0c5a-46c4-9c64-de657e23e1f0"
      },
      "execution_count": 83,
      "outputs": [
        {
          "output_type": "execute_result",
          "data": {
            "text/plain": [
              "  CreditStatus Aprovacao  Gender Platform OSVersion AddressState  Birthdate  \\\n",
              "0        Ativo  Aprovado    Male  Android       7.0           PR 1990-10-23   \n",
              "1        Ativo  Aprovado  Female  Android       NaN           SC 1990-08-22   \n",
              "2        Ativo  Aprovado    Male  Android     8.0.0           SP 1984-01-09   \n",
              "\n",
              "  CurrentStatus  PresumedIncome RegisterApprovalDate  idade  \n",
              "0      Aprovado         1391.24           2018-10-16     28  \n",
              "1      Aprovado         1227.42           2018-11-10     28  \n",
              "2      Aprovado         4076.58           2018-12-16     34  "
            ],
            "text/html": [
              "\n",
              "  <div id=\"df-73dd07d6-5041-4f72-a75f-68db52722a9d\">\n",
              "    <div class=\"colab-df-container\">\n",
              "      <div>\n",
              "<style scoped>\n",
              "    .dataframe tbody tr th:only-of-type {\n",
              "        vertical-align: middle;\n",
              "    }\n",
              "\n",
              "    .dataframe tbody tr th {\n",
              "        vertical-align: top;\n",
              "    }\n",
              "\n",
              "    .dataframe thead th {\n",
              "        text-align: right;\n",
              "    }\n",
              "</style>\n",
              "<table border=\"1\" class=\"dataframe\">\n",
              "  <thead>\n",
              "    <tr style=\"text-align: right;\">\n",
              "      <th></th>\n",
              "      <th>CreditStatus</th>\n",
              "      <th>Aprovacao</th>\n",
              "      <th>Gender</th>\n",
              "      <th>Platform</th>\n",
              "      <th>OSVersion</th>\n",
              "      <th>AddressState</th>\n",
              "      <th>Birthdate</th>\n",
              "      <th>CurrentStatus</th>\n",
              "      <th>PresumedIncome</th>\n",
              "      <th>RegisterApprovalDate</th>\n",
              "      <th>idade</th>\n",
              "    </tr>\n",
              "  </thead>\n",
              "  <tbody>\n",
              "    <tr>\n",
              "      <th>0</th>\n",
              "      <td>Ativo</td>\n",
              "      <td>Aprovado</td>\n",
              "      <td>Male</td>\n",
              "      <td>Android</td>\n",
              "      <td>7.0</td>\n",
              "      <td>PR</td>\n",
              "      <td>1990-10-23</td>\n",
              "      <td>Aprovado</td>\n",
              "      <td>1391.24</td>\n",
              "      <td>2018-10-16</td>\n",
              "      <td>28</td>\n",
              "    </tr>\n",
              "    <tr>\n",
              "      <th>1</th>\n",
              "      <td>Ativo</td>\n",
              "      <td>Aprovado</td>\n",
              "      <td>Female</td>\n",
              "      <td>Android</td>\n",
              "      <td>NaN</td>\n",
              "      <td>SC</td>\n",
              "      <td>1990-08-22</td>\n",
              "      <td>Aprovado</td>\n",
              "      <td>1227.42</td>\n",
              "      <td>2018-11-10</td>\n",
              "      <td>28</td>\n",
              "    </tr>\n",
              "    <tr>\n",
              "      <th>2</th>\n",
              "      <td>Ativo</td>\n",
              "      <td>Aprovado</td>\n",
              "      <td>Male</td>\n",
              "      <td>Android</td>\n",
              "      <td>8.0.0</td>\n",
              "      <td>SP</td>\n",
              "      <td>1984-01-09</td>\n",
              "      <td>Aprovado</td>\n",
              "      <td>4076.58</td>\n",
              "      <td>2018-12-16</td>\n",
              "      <td>34</td>\n",
              "    </tr>\n",
              "  </tbody>\n",
              "</table>\n",
              "</div>\n",
              "      <button class=\"colab-df-convert\" onclick=\"convertToInteractive('df-73dd07d6-5041-4f72-a75f-68db52722a9d')\"\n",
              "              title=\"Convert this dataframe to an interactive table.\"\n",
              "              style=\"display:none;\">\n",
              "        \n",
              "  <svg xmlns=\"http://www.w3.org/2000/svg\" height=\"24px\"viewBox=\"0 0 24 24\"\n",
              "       width=\"24px\">\n",
              "    <path d=\"M0 0h24v24H0V0z\" fill=\"none\"/>\n",
              "    <path d=\"M18.56 5.44l.94 2.06.94-2.06 2.06-.94-2.06-.94-.94-2.06-.94 2.06-2.06.94zm-11 1L8.5 8.5l.94-2.06 2.06-.94-2.06-.94L8.5 2.5l-.94 2.06-2.06.94zm10 10l.94 2.06.94-2.06 2.06-.94-2.06-.94-.94-2.06-.94 2.06-2.06.94z\"/><path d=\"M17.41 7.96l-1.37-1.37c-.4-.4-.92-.59-1.43-.59-.52 0-1.04.2-1.43.59L10.3 9.45l-7.72 7.72c-.78.78-.78 2.05 0 2.83L4 21.41c.39.39.9.59 1.41.59.51 0 1.02-.2 1.41-.59l7.78-7.78 2.81-2.81c.8-.78.8-2.07 0-2.86zM5.41 20L4 18.59l7.72-7.72 1.47 1.35L5.41 20z\"/>\n",
              "  </svg>\n",
              "      </button>\n",
              "      \n",
              "  <style>\n",
              "    .colab-df-container {\n",
              "      display:flex;\n",
              "      flex-wrap:wrap;\n",
              "      gap: 12px;\n",
              "    }\n",
              "\n",
              "    .colab-df-convert {\n",
              "      background-color: #E8F0FE;\n",
              "      border: none;\n",
              "      border-radius: 50%;\n",
              "      cursor: pointer;\n",
              "      display: none;\n",
              "      fill: #1967D2;\n",
              "      height: 32px;\n",
              "      padding: 0 0 0 0;\n",
              "      width: 32px;\n",
              "    }\n",
              "\n",
              "    .colab-df-convert:hover {\n",
              "      background-color: #E2EBFA;\n",
              "      box-shadow: 0px 1px 2px rgba(60, 64, 67, 0.3), 0px 1px 3px 1px rgba(60, 64, 67, 0.15);\n",
              "      fill: #174EA6;\n",
              "    }\n",
              "\n",
              "    [theme=dark] .colab-df-convert {\n",
              "      background-color: #3B4455;\n",
              "      fill: #D2E3FC;\n",
              "    }\n",
              "\n",
              "    [theme=dark] .colab-df-convert:hover {\n",
              "      background-color: #434B5C;\n",
              "      box-shadow: 0px 1px 3px 1px rgba(0, 0, 0, 0.15);\n",
              "      filter: drop-shadow(0px 1px 2px rgba(0, 0, 0, 0.3));\n",
              "      fill: #FFFFFF;\n",
              "    }\n",
              "  </style>\n",
              "\n",
              "      <script>\n",
              "        const buttonEl =\n",
              "          document.querySelector('#df-73dd07d6-5041-4f72-a75f-68db52722a9d button.colab-df-convert');\n",
              "        buttonEl.style.display =\n",
              "          google.colab.kernel.accessAllowed ? 'block' : 'none';\n",
              "\n",
              "        async function convertToInteractive(key) {\n",
              "          const element = document.querySelector('#df-73dd07d6-5041-4f72-a75f-68db52722a9d');\n",
              "          const dataTable =\n",
              "            await google.colab.kernel.invokeFunction('convertToInteractive',\n",
              "                                                     [key], {});\n",
              "          if (!dataTable) return;\n",
              "\n",
              "          const docLinkHtml = 'Like what you see? Visit the ' +\n",
              "            '<a target=\"_blank\" href=https://colab.research.google.com/notebooks/data_table.ipynb>data table notebook</a>'\n",
              "            + ' to learn more about interactive tables.';\n",
              "          element.innerHTML = '';\n",
              "          dataTable['output_type'] = 'display_data';\n",
              "          await google.colab.output.renderOutput(dataTable, element);\n",
              "          const docLink = document.createElement('div');\n",
              "          docLink.innerHTML = docLinkHtml;\n",
              "          element.appendChild(docLink);\n",
              "        }\n",
              "      </script>\n",
              "    </div>\n",
              "  </div>\n",
              "  "
            ]
          },
          "metadata": {},
          "execution_count": 83
        }
      ]
    },
    {
      "cell_type": "code",
      "source": [
        "# agrupar a categoria \"Ativo\" dentro de \"Aprovado\" para facilitar o cálculo\n",
        "fx_idade_1 = motor_corr_clean.loc[(motor_corr_clean['idade'] <= 18)]\n",
        "fx_idade_1['fx_idade'] = '0-18'\n",
        "\n",
        "fx_idade_2 = motor_corr_clean.loc[(motor_corr_clean['idade'] > 18) & (motor_corr_clean['idade'] <= 26)]\n",
        "fx_idade_2['fx_idade'] = '19-26'\n",
        "\n",
        "fx_idade_3 = motor_corr_clean.loc[(motor_corr_clean['idade'] > 26) & (motor_corr_clean['idade'] <= 34)]\n",
        "fx_idade_3['fx_idade'] = '27-34'\n",
        "\n",
        "fx_idade_4 = motor_corr_clean.loc[(motor_corr_clean['idade'] > 34) & (motor_corr_clean['idade'] <= 42)]\n",
        "fx_idade_4['fx_idade'] = '35-42'\n",
        "\n",
        "fx_idade_5 = motor_corr_clean.loc[(motor_corr_clean['idade'] > 42) & (motor_corr_clean['idade'] <= 50)]\n",
        "fx_idade_5['fx_idade'] = '43-50'\n",
        "\n",
        "fx_idade_6 = motor_corr_clean.loc[(motor_corr_clean['idade'] > 50) & (motor_corr_clean['idade'] <= 58)]\n",
        "fx_idade_6['fx_idade'] = '51-58'\n",
        "\n",
        "fx_idade_7 = motor_corr_clean.loc[(motor_corr_clean['idade'] > 58)]\n",
        "fx_idade_7['fx_idade'] = 'maior que 58'\n",
        "\n",
        "novo_df = pd.concat([fx_idade_1, fx_idade_2, fx_idade_3, fx_idade_4, fx_idade_5, fx_idade_6, fx_idade_7])\n",
        "\n",
        "#plt.figure(figsize=(13, 6))\n",
        "#novo_df.groupby('fx_idade')['PresumedIncome'].mean().plot(kind='bar')"
      ],
      "metadata": {
        "id": "j9RQJgUhIN_o"
      },
      "execution_count": 18,
      "outputs": []
    },
    {
      "cell_type": "code",
      "source": [
        "# agrupar a categoria \"Ativo\" dentro de \"Aprovado\" para facilitar o cálculo\n",
        "conditions_1 = [\n",
        "    (novo_df['CreditStatus'] == 'Ativo'),\n",
        "    (novo_df['CreditStatus'] == 'Reprovado'),\n",
        "    (novo_df['CreditStatus'] == 'Bloqueado'),\n",
        "    (novo_df['CreditStatus'] == 'Aprovado')]\n",
        "\n",
        "#valores ordenados que serão substítuidos\n",
        "#values = [1, 2, 3, 4]\n",
        "values_v2 = [1, 0, 0, 1]\n",
        "\n",
        "#aplicar a função pra susbtituir \"Ativo\" em \"Aprovado\"\n",
        "#novo_df['CreditStatus_flg'] = np.select(conditions_1, values)\n",
        "novo_df['CreditStatus_flg'] = np.select(conditions_1, values_v2)"
      ],
      "metadata": {
        "id": "elsgAeLwaKc1"
      },
      "execution_count": 19,
      "outputs": []
    },
    {
      "cell_type": "code",
      "source": [
        "# agrupar a categoria \"Ativo\" dentro de \"Aprovado\" para facilitar o cálculo\n",
        "conditions_2 = [\n",
        "    (novo_df['fx_idade'] == '0-18'),\n",
        "    (novo_df['fx_idade'] == '19-26'),\n",
        "    (novo_df['fx_idade'] == '27-34'),\n",
        "    (novo_df['fx_idade'] == '35-42'),\n",
        "    (novo_df['fx_idade'] == '43-50'),\n",
        "    (novo_df['fx_idade'] == '51-58'),\n",
        "    (novo_df['fx_idade'] == 'maior que 58')]\n",
        "\n",
        "#valores ordenados que serão substítuidos\n",
        "values = [1, 2, 3, 4, 5, 6, 7]\n",
        "\n",
        "#aplicar a função pra susbtituir \"Ativo\" em \"Aprovado\"\n",
        "novo_df['fx_idade_flg'] = np.select(conditions_2, values)\n",
        "\n",
        "novo_df[['fx_idade_flg', 'CreditStatus_flg']].corr()"
      ],
      "metadata": {
        "colab": {
          "base_uri": "https://localhost:8080/",
          "height": 112
        },
        "id": "1ni1E7XDasVj",
        "outputId": "c0b8c04d-95f0-4091-bbcf-49567007093f"
      },
      "execution_count": 20,
      "outputs": [
        {
          "output_type": "execute_result",
          "data": {
            "text/plain": [
              "                  fx_idade_flg  CreditStatus_flg\n",
              "fx_idade_flg           1.00000           0.10794\n",
              "CreditStatus_flg       0.10794           1.00000"
            ],
            "text/html": [
              "\n",
              "  <div id=\"df-e97efed8-3c77-4bbb-8719-edd2f2365e42\">\n",
              "    <div class=\"colab-df-container\">\n",
              "      <div>\n",
              "<style scoped>\n",
              "    .dataframe tbody tr th:only-of-type {\n",
              "        vertical-align: middle;\n",
              "    }\n",
              "\n",
              "    .dataframe tbody tr th {\n",
              "        vertical-align: top;\n",
              "    }\n",
              "\n",
              "    .dataframe thead th {\n",
              "        text-align: right;\n",
              "    }\n",
              "</style>\n",
              "<table border=\"1\" class=\"dataframe\">\n",
              "  <thead>\n",
              "    <tr style=\"text-align: right;\">\n",
              "      <th></th>\n",
              "      <th>fx_idade_flg</th>\n",
              "      <th>CreditStatus_flg</th>\n",
              "    </tr>\n",
              "  </thead>\n",
              "  <tbody>\n",
              "    <tr>\n",
              "      <th>fx_idade_flg</th>\n",
              "      <td>1.00000</td>\n",
              "      <td>0.10794</td>\n",
              "    </tr>\n",
              "    <tr>\n",
              "      <th>CreditStatus_flg</th>\n",
              "      <td>0.10794</td>\n",
              "      <td>1.00000</td>\n",
              "    </tr>\n",
              "  </tbody>\n",
              "</table>\n",
              "</div>\n",
              "      <button class=\"colab-df-convert\" onclick=\"convertToInteractive('df-e97efed8-3c77-4bbb-8719-edd2f2365e42')\"\n",
              "              title=\"Convert this dataframe to an interactive table.\"\n",
              "              style=\"display:none;\">\n",
              "        \n",
              "  <svg xmlns=\"http://www.w3.org/2000/svg\" height=\"24px\"viewBox=\"0 0 24 24\"\n",
              "       width=\"24px\">\n",
              "    <path d=\"M0 0h24v24H0V0z\" fill=\"none\"/>\n",
              "    <path d=\"M18.56 5.44l.94 2.06.94-2.06 2.06-.94-2.06-.94-.94-2.06-.94 2.06-2.06.94zm-11 1L8.5 8.5l.94-2.06 2.06-.94-2.06-.94L8.5 2.5l-.94 2.06-2.06.94zm10 10l.94 2.06.94-2.06 2.06-.94-2.06-.94-.94-2.06-.94 2.06-2.06.94z\"/><path d=\"M17.41 7.96l-1.37-1.37c-.4-.4-.92-.59-1.43-.59-.52 0-1.04.2-1.43.59L10.3 9.45l-7.72 7.72c-.78.78-.78 2.05 0 2.83L4 21.41c.39.39.9.59 1.41.59.51 0 1.02-.2 1.41-.59l7.78-7.78 2.81-2.81c.8-.78.8-2.07 0-2.86zM5.41 20L4 18.59l7.72-7.72 1.47 1.35L5.41 20z\"/>\n",
              "  </svg>\n",
              "      </button>\n",
              "      \n",
              "  <style>\n",
              "    .colab-df-container {\n",
              "      display:flex;\n",
              "      flex-wrap:wrap;\n",
              "      gap: 12px;\n",
              "    }\n",
              "\n",
              "    .colab-df-convert {\n",
              "      background-color: #E8F0FE;\n",
              "      border: none;\n",
              "      border-radius: 50%;\n",
              "      cursor: pointer;\n",
              "      display: none;\n",
              "      fill: #1967D2;\n",
              "      height: 32px;\n",
              "      padding: 0 0 0 0;\n",
              "      width: 32px;\n",
              "    }\n",
              "\n",
              "    .colab-df-convert:hover {\n",
              "      background-color: #E2EBFA;\n",
              "      box-shadow: 0px 1px 2px rgba(60, 64, 67, 0.3), 0px 1px 3px 1px rgba(60, 64, 67, 0.15);\n",
              "      fill: #174EA6;\n",
              "    }\n",
              "\n",
              "    [theme=dark] .colab-df-convert {\n",
              "      background-color: #3B4455;\n",
              "      fill: #D2E3FC;\n",
              "    }\n",
              "\n",
              "    [theme=dark] .colab-df-convert:hover {\n",
              "      background-color: #434B5C;\n",
              "      box-shadow: 0px 1px 3px 1px rgba(0, 0, 0, 0.15);\n",
              "      filter: drop-shadow(0px 1px 2px rgba(0, 0, 0, 0.3));\n",
              "      fill: #FFFFFF;\n",
              "    }\n",
              "  </style>\n",
              "\n",
              "      <script>\n",
              "        const buttonEl =\n",
              "          document.querySelector('#df-e97efed8-3c77-4bbb-8719-edd2f2365e42 button.colab-df-convert');\n",
              "        buttonEl.style.display =\n",
              "          google.colab.kernel.accessAllowed ? 'block' : 'none';\n",
              "\n",
              "        async function convertToInteractive(key) {\n",
              "          const element = document.querySelector('#df-e97efed8-3c77-4bbb-8719-edd2f2365e42');\n",
              "          const dataTable =\n",
              "            await google.colab.kernel.invokeFunction('convertToInteractive',\n",
              "                                                     [key], {});\n",
              "          if (!dataTable) return;\n",
              "\n",
              "          const docLinkHtml = 'Like what you see? Visit the ' +\n",
              "            '<a target=\"_blank\" href=https://colab.research.google.com/notebooks/data_table.ipynb>data table notebook</a>'\n",
              "            + ' to learn more about interactive tables.';\n",
              "          element.innerHTML = '';\n",
              "          dataTable['output_type'] = 'display_data';\n",
              "          await google.colab.output.renderOutput(dataTable, element);\n",
              "          const docLink = document.createElement('div');\n",
              "          docLink.innerHTML = docLinkHtml;\n",
              "          element.appendChild(docLink);\n",
              "        }\n",
              "      </script>\n",
              "    </div>\n",
              "  </div>\n",
              "  "
            ]
          },
          "metadata": {},
          "execution_count": 20
        }
      ]
    },
    {
      "cell_type": "code",
      "source": [
        "novo_df['Gender'].unique()"
      ],
      "metadata": {
        "colab": {
          "base_uri": "https://localhost:8080/"
        },
        "id": "RG29_bq4dtd6",
        "outputId": "762ea86a-1e57-4f5b-e2f4-c6f77ea9405b"
      },
      "execution_count": 21,
      "outputs": [
        {
          "output_type": "execute_result",
          "data": {
            "text/plain": [
              "array(['Female', 'Male', 'Unknown'], dtype=object)"
            ]
          },
          "metadata": {},
          "execution_count": 21
        }
      ]
    },
    {
      "cell_type": "code",
      "source": [
        "conditions_3 = [\n",
        "    (novo_df['Gender'] == 'Male'),\n",
        "    (novo_df['Gender'] == 'Female'),\n",
        "    (novo_df['Gender'] == 'Unknown')]\n",
        "\n",
        "#valores ordenados que serão substítuidos\n",
        "values = [1, 2, 3]\n",
        "\n",
        "#aplicar a função pra susbtituir \"Ativo\" em \"Aprovado\"\n",
        "novo_df['Gender_flg'] = np.select(conditions_3, values)\n",
        "\n",
        "novo_df[['Gender_flg', 'CreditStatus_flg']].corr()"
      ],
      "metadata": {
        "colab": {
          "base_uri": "https://localhost:8080/",
          "height": 112
        },
        "id": "fDGpujt0eonx",
        "outputId": "f1f048be-5bd8-4593-f349-50093cde394e"
      },
      "execution_count": 22,
      "outputs": [
        {
          "output_type": "execute_result",
          "data": {
            "text/plain": [
              "                  Gender_flg  CreditStatus_flg\n",
              "Gender_flg          1.000000         -0.030154\n",
              "CreditStatus_flg   -0.030154          1.000000"
            ],
            "text/html": [
              "\n",
              "  <div id=\"df-1706375d-44bb-4454-a6ed-8488e54e922b\">\n",
              "    <div class=\"colab-df-container\">\n",
              "      <div>\n",
              "<style scoped>\n",
              "    .dataframe tbody tr th:only-of-type {\n",
              "        vertical-align: middle;\n",
              "    }\n",
              "\n",
              "    .dataframe tbody tr th {\n",
              "        vertical-align: top;\n",
              "    }\n",
              "\n",
              "    .dataframe thead th {\n",
              "        text-align: right;\n",
              "    }\n",
              "</style>\n",
              "<table border=\"1\" class=\"dataframe\">\n",
              "  <thead>\n",
              "    <tr style=\"text-align: right;\">\n",
              "      <th></th>\n",
              "      <th>Gender_flg</th>\n",
              "      <th>CreditStatus_flg</th>\n",
              "    </tr>\n",
              "  </thead>\n",
              "  <tbody>\n",
              "    <tr>\n",
              "      <th>Gender_flg</th>\n",
              "      <td>1.000000</td>\n",
              "      <td>-0.030154</td>\n",
              "    </tr>\n",
              "    <tr>\n",
              "      <th>CreditStatus_flg</th>\n",
              "      <td>-0.030154</td>\n",
              "      <td>1.000000</td>\n",
              "    </tr>\n",
              "  </tbody>\n",
              "</table>\n",
              "</div>\n",
              "      <button class=\"colab-df-convert\" onclick=\"convertToInteractive('df-1706375d-44bb-4454-a6ed-8488e54e922b')\"\n",
              "              title=\"Convert this dataframe to an interactive table.\"\n",
              "              style=\"display:none;\">\n",
              "        \n",
              "  <svg xmlns=\"http://www.w3.org/2000/svg\" height=\"24px\"viewBox=\"0 0 24 24\"\n",
              "       width=\"24px\">\n",
              "    <path d=\"M0 0h24v24H0V0z\" fill=\"none\"/>\n",
              "    <path d=\"M18.56 5.44l.94 2.06.94-2.06 2.06-.94-2.06-.94-.94-2.06-.94 2.06-2.06.94zm-11 1L8.5 8.5l.94-2.06 2.06-.94-2.06-.94L8.5 2.5l-.94 2.06-2.06.94zm10 10l.94 2.06.94-2.06 2.06-.94-2.06-.94-.94-2.06-.94 2.06-2.06.94z\"/><path d=\"M17.41 7.96l-1.37-1.37c-.4-.4-.92-.59-1.43-.59-.52 0-1.04.2-1.43.59L10.3 9.45l-7.72 7.72c-.78.78-.78 2.05 0 2.83L4 21.41c.39.39.9.59 1.41.59.51 0 1.02-.2 1.41-.59l7.78-7.78 2.81-2.81c.8-.78.8-2.07 0-2.86zM5.41 20L4 18.59l7.72-7.72 1.47 1.35L5.41 20z\"/>\n",
              "  </svg>\n",
              "      </button>\n",
              "      \n",
              "  <style>\n",
              "    .colab-df-container {\n",
              "      display:flex;\n",
              "      flex-wrap:wrap;\n",
              "      gap: 12px;\n",
              "    }\n",
              "\n",
              "    .colab-df-convert {\n",
              "      background-color: #E8F0FE;\n",
              "      border: none;\n",
              "      border-radius: 50%;\n",
              "      cursor: pointer;\n",
              "      display: none;\n",
              "      fill: #1967D2;\n",
              "      height: 32px;\n",
              "      padding: 0 0 0 0;\n",
              "      width: 32px;\n",
              "    }\n",
              "\n",
              "    .colab-df-convert:hover {\n",
              "      background-color: #E2EBFA;\n",
              "      box-shadow: 0px 1px 2px rgba(60, 64, 67, 0.3), 0px 1px 3px 1px rgba(60, 64, 67, 0.15);\n",
              "      fill: #174EA6;\n",
              "    }\n",
              "\n",
              "    [theme=dark] .colab-df-convert {\n",
              "      background-color: #3B4455;\n",
              "      fill: #D2E3FC;\n",
              "    }\n",
              "\n",
              "    [theme=dark] .colab-df-convert:hover {\n",
              "      background-color: #434B5C;\n",
              "      box-shadow: 0px 1px 3px 1px rgba(0, 0, 0, 0.15);\n",
              "      filter: drop-shadow(0px 1px 2px rgba(0, 0, 0, 0.3));\n",
              "      fill: #FFFFFF;\n",
              "    }\n",
              "  </style>\n",
              "\n",
              "      <script>\n",
              "        const buttonEl =\n",
              "          document.querySelector('#df-1706375d-44bb-4454-a6ed-8488e54e922b button.colab-df-convert');\n",
              "        buttonEl.style.display =\n",
              "          google.colab.kernel.accessAllowed ? 'block' : 'none';\n",
              "\n",
              "        async function convertToInteractive(key) {\n",
              "          const element = document.querySelector('#df-1706375d-44bb-4454-a6ed-8488e54e922b');\n",
              "          const dataTable =\n",
              "            await google.colab.kernel.invokeFunction('convertToInteractive',\n",
              "                                                     [key], {});\n",
              "          if (!dataTable) return;\n",
              "\n",
              "          const docLinkHtml = 'Like what you see? Visit the ' +\n",
              "            '<a target=\"_blank\" href=https://colab.research.google.com/notebooks/data_table.ipynb>data table notebook</a>'\n",
              "            + ' to learn more about interactive tables.';\n",
              "          element.innerHTML = '';\n",
              "          dataTable['output_type'] = 'display_data';\n",
              "          await google.colab.output.renderOutput(dataTable, element);\n",
              "          const docLink = document.createElement('div');\n",
              "          docLink.innerHTML = docLinkHtml;\n",
              "          element.appendChild(docLink);\n",
              "        }\n",
              "      </script>\n",
              "    </div>\n",
              "  </div>\n",
              "  "
            ]
          },
          "metadata": {},
          "execution_count": 22
        }
      ]
    },
    {
      "cell_type": "code",
      "source": [
        "novo_df['Platform'].unique()"
      ],
      "metadata": {
        "colab": {
          "base_uri": "https://localhost:8080/"
        },
        "id": "CGVX3nPHfoWM",
        "outputId": "aa61d0e2-27fa-4f6c-b53c-d5df8787e8d6"
      },
      "execution_count": 23,
      "outputs": [
        {
          "output_type": "execute_result",
          "data": {
            "text/plain": [
              "array(['iPhone+OS', 'Android', nan], dtype=object)"
            ]
          },
          "metadata": {},
          "execution_count": 23
        }
      ]
    },
    {
      "cell_type": "code",
      "source": [
        "conditions_4 = [\n",
        "    (novo_df['Platform'] == 'iPhone+OS'),\n",
        "    (novo_df['Platform'] == 'Android'),\n",
        "    (novo_df['Platform'] == '')]\n",
        "\n",
        "#valores ordenados que serão substítuidos\n",
        "values = [1, 2, 3]\n",
        "\n",
        "#aplicar a função pra susbtituir \"Ativo\" em \"Aprovado\"\n",
        "novo_df['Platform_flg'] = np.select(conditions_4, values)\n",
        "\n",
        "novo_df[['Platform_flg', 'CreditStatus_flg']].corr()"
      ],
      "metadata": {
        "colab": {
          "base_uri": "https://localhost:8080/",
          "height": 112
        },
        "id": "7_9bQvmigF7Y",
        "outputId": "c1cbf23c-64bb-407f-bcac-64c4bb524411"
      },
      "execution_count": 24,
      "outputs": [
        {
          "output_type": "execute_result",
          "data": {
            "text/plain": [
              "                  Platform_flg  CreditStatus_flg\n",
              "Platform_flg          1.000000         -0.052547\n",
              "CreditStatus_flg     -0.052547          1.000000"
            ],
            "text/html": [
              "\n",
              "  <div id=\"df-ae6db5ea-fadb-4849-9971-4ee78c863617\">\n",
              "    <div class=\"colab-df-container\">\n",
              "      <div>\n",
              "<style scoped>\n",
              "    .dataframe tbody tr th:only-of-type {\n",
              "        vertical-align: middle;\n",
              "    }\n",
              "\n",
              "    .dataframe tbody tr th {\n",
              "        vertical-align: top;\n",
              "    }\n",
              "\n",
              "    .dataframe thead th {\n",
              "        text-align: right;\n",
              "    }\n",
              "</style>\n",
              "<table border=\"1\" class=\"dataframe\">\n",
              "  <thead>\n",
              "    <tr style=\"text-align: right;\">\n",
              "      <th></th>\n",
              "      <th>Platform_flg</th>\n",
              "      <th>CreditStatus_flg</th>\n",
              "    </tr>\n",
              "  </thead>\n",
              "  <tbody>\n",
              "    <tr>\n",
              "      <th>Platform_flg</th>\n",
              "      <td>1.000000</td>\n",
              "      <td>-0.052547</td>\n",
              "    </tr>\n",
              "    <tr>\n",
              "      <th>CreditStatus_flg</th>\n",
              "      <td>-0.052547</td>\n",
              "      <td>1.000000</td>\n",
              "    </tr>\n",
              "  </tbody>\n",
              "</table>\n",
              "</div>\n",
              "      <button class=\"colab-df-convert\" onclick=\"convertToInteractive('df-ae6db5ea-fadb-4849-9971-4ee78c863617')\"\n",
              "              title=\"Convert this dataframe to an interactive table.\"\n",
              "              style=\"display:none;\">\n",
              "        \n",
              "  <svg xmlns=\"http://www.w3.org/2000/svg\" height=\"24px\"viewBox=\"0 0 24 24\"\n",
              "       width=\"24px\">\n",
              "    <path d=\"M0 0h24v24H0V0z\" fill=\"none\"/>\n",
              "    <path d=\"M18.56 5.44l.94 2.06.94-2.06 2.06-.94-2.06-.94-.94-2.06-.94 2.06-2.06.94zm-11 1L8.5 8.5l.94-2.06 2.06-.94-2.06-.94L8.5 2.5l-.94 2.06-2.06.94zm10 10l.94 2.06.94-2.06 2.06-.94-2.06-.94-.94-2.06-.94 2.06-2.06.94z\"/><path d=\"M17.41 7.96l-1.37-1.37c-.4-.4-.92-.59-1.43-.59-.52 0-1.04.2-1.43.59L10.3 9.45l-7.72 7.72c-.78.78-.78 2.05 0 2.83L4 21.41c.39.39.9.59 1.41.59.51 0 1.02-.2 1.41-.59l7.78-7.78 2.81-2.81c.8-.78.8-2.07 0-2.86zM5.41 20L4 18.59l7.72-7.72 1.47 1.35L5.41 20z\"/>\n",
              "  </svg>\n",
              "      </button>\n",
              "      \n",
              "  <style>\n",
              "    .colab-df-container {\n",
              "      display:flex;\n",
              "      flex-wrap:wrap;\n",
              "      gap: 12px;\n",
              "    }\n",
              "\n",
              "    .colab-df-convert {\n",
              "      background-color: #E8F0FE;\n",
              "      border: none;\n",
              "      border-radius: 50%;\n",
              "      cursor: pointer;\n",
              "      display: none;\n",
              "      fill: #1967D2;\n",
              "      height: 32px;\n",
              "      padding: 0 0 0 0;\n",
              "      width: 32px;\n",
              "    }\n",
              "\n",
              "    .colab-df-convert:hover {\n",
              "      background-color: #E2EBFA;\n",
              "      box-shadow: 0px 1px 2px rgba(60, 64, 67, 0.3), 0px 1px 3px 1px rgba(60, 64, 67, 0.15);\n",
              "      fill: #174EA6;\n",
              "    }\n",
              "\n",
              "    [theme=dark] .colab-df-convert {\n",
              "      background-color: #3B4455;\n",
              "      fill: #D2E3FC;\n",
              "    }\n",
              "\n",
              "    [theme=dark] .colab-df-convert:hover {\n",
              "      background-color: #434B5C;\n",
              "      box-shadow: 0px 1px 3px 1px rgba(0, 0, 0, 0.15);\n",
              "      filter: drop-shadow(0px 1px 2px rgba(0, 0, 0, 0.3));\n",
              "      fill: #FFFFFF;\n",
              "    }\n",
              "  </style>\n",
              "\n",
              "      <script>\n",
              "        const buttonEl =\n",
              "          document.querySelector('#df-ae6db5ea-fadb-4849-9971-4ee78c863617 button.colab-df-convert');\n",
              "        buttonEl.style.display =\n",
              "          google.colab.kernel.accessAllowed ? 'block' : 'none';\n",
              "\n",
              "        async function convertToInteractive(key) {\n",
              "          const element = document.querySelector('#df-ae6db5ea-fadb-4849-9971-4ee78c863617');\n",
              "          const dataTable =\n",
              "            await google.colab.kernel.invokeFunction('convertToInteractive',\n",
              "                                                     [key], {});\n",
              "          if (!dataTable) return;\n",
              "\n",
              "          const docLinkHtml = 'Like what you see? Visit the ' +\n",
              "            '<a target=\"_blank\" href=https://colab.research.google.com/notebooks/data_table.ipynb>data table notebook</a>'\n",
              "            + ' to learn more about interactive tables.';\n",
              "          element.innerHTML = '';\n",
              "          dataTable['output_type'] = 'display_data';\n",
              "          await google.colab.output.renderOutput(dataTable, element);\n",
              "          const docLink = document.createElement('div');\n",
              "          docLink.innerHTML = docLinkHtml;\n",
              "          element.appendChild(docLink);\n",
              "        }\n",
              "      </script>\n",
              "    </div>\n",
              "  </div>\n",
              "  "
            ]
          },
          "metadata": {},
          "execution_count": 24
        }
      ]
    },
    {
      "cell_type": "code",
      "source": [
        "novo_df['OSVersion'].unique()"
      ],
      "metadata": {
        "colab": {
          "base_uri": "https://localhost:8080/"
        },
        "id": "Mb7ATgWogrVZ",
        "outputId": "35550e5c-847d-43c6-fb7d-12125262a890"
      },
      "execution_count": 25,
      "outputs": [
        {
          "output_type": "execute_result",
          "data": {
            "text/plain": [
              "array(['10.3.3', '7.0', '11.3.1', '6.0.1', '12.2', '11.4', 9, nan,\n",
              "       '7.1.1', '8.1.0', '8.0.0', '12.1', '13.1.3', '12.4', '5.1.1',\n",
              "       '13.1.2', '12.4.1', '11.1.2', '12.4.2', '6.0', '12.1.4', '10.2.1',\n",
              "       '5.0.2', '13.3', '7.1.2', '13.0', '10.0', '12.3.1', '5.1',\n",
              "       '12.1.2', '12.4.3', '11.4.1', '11.2.6', '4.4.2', '11.0', '10.1.1',\n",
              "       '13.2.3', '11.0.3', '12.1.1', '9.3.5', '10.3.1', '12.3.2', '5.0.1',\n",
              "       '1.0.7.2', '13.2', '4.4.4', '5.0', '11.2.5', '12.0.1', '12.0',\n",
              "       '4.2.2', '11.3', '10.3.2', '10.0.2', '11.2.1', '12.3', '9.3.2',\n",
              "       '4.3', '12.1.3', '11.1', '4.1.2', '12.4.4', '9.3.6', '10.3.4',\n",
              "       '10.2', '11.1.1', '1.0.8.2', '13.2.2', '11.0.1', '11.2.2', '10.1',\n",
              "       '1.0.8.1', '11.0.2', '13.1.1', '10.0.1', '13.1', '9.2.1', '9.3.4',\n",
              "       '4.4.3', '1.0.8', '11.2', '9.3', '9.0', '9.3.3', '10.3', '9.2',\n",
              "       '9.3.1', '7.1', 10, '8.1.0+++xXx_NoLimits_3.3', '6.1', '8.1',\n",
              "       '8.0'], dtype=object)"
            ]
          },
          "metadata": {},
          "execution_count": 25
        }
      ]
    },
    {
      "cell_type": "code",
      "source": [
        "conditions_6 = [\n",
        "    (novo_df['OSVersion'] == '10.3.3'),\n",
        "    (novo_df['OSVersion'] == '7.0'),\n",
        "    (novo_df['OSVersion'] == '11.3.1'),\n",
        "    (novo_df['OSVersion'] == '6.0.1'),\n",
        "    (novo_df['OSVersion'] == '12.2'),\n",
        "    (novo_df['OSVersion'] == '11.4'),\n",
        "    (novo_df['OSVersion'] == ''),\n",
        "    (novo_df['OSVersion'] == '7.1.1'),\n",
        "    (novo_df['OSVersion'] == '8.1.0'),\n",
        "    (novo_df['OSVersion'] == '8.0.0'),\n",
        "    (novo_df['OSVersion'] == '12.1'),\n",
        "    (novo_df['OSVersion'] == '13.1.3'),\n",
        "    (novo_df['OSVersion'] == '12.4'),\n",
        "    (novo_df['OSVersion'] == '5.1.1'),\n",
        "    (novo_df['OSVersion'] == '13.1.2'),\n",
        "    (novo_df['OSVersion'] == '12.4.1'),\n",
        "    (novo_df['OSVersion'] == '11.1.2'),\n",
        "    (novo_df['OSVersion'] == '12.4.2'),\n",
        "    (novo_df['OSVersion'] == '6.0'),\n",
        "    (novo_df['OSVersion'] == '12.1.4'),\n",
        "    (novo_df['OSVersion'] == '10.2.1'),\n",
        "    (novo_df['OSVersion'] == '5.0.2'),\n",
        "    (novo_df['OSVersion'] == '13.3'),\n",
        "    (novo_df['OSVersion'] == '7.1.2'),\n",
        "    (novo_df['OSVersion'] == '13.0'),\n",
        "    (novo_df['OSVersion'] == '10.0'),\n",
        "    (novo_df['OSVersion'] == '12.3.1'),\n",
        "    (novo_df['OSVersion'] == '5.1'),\n",
        "    (novo_df['OSVersion'] == '12.1.2'),\n",
        "    (novo_df['OSVersion'] == '12.4.3'),\n",
        "    (novo_df['OSVersion'] == '11.4.1'),\n",
        "    (novo_df['OSVersion'] == '11.2.6'),\n",
        "    (novo_df['OSVersion'] == '4.4.2'),\n",
        "    (novo_df['OSVersion'] == '11.0'),\n",
        "    (novo_df['OSVersion'] == '10.1.1'),\n",
        "    (novo_df['OSVersion'] == '13.2.3'),\n",
        "    (novo_df['OSVersion'] == '11.0.3'),\n",
        "    (novo_df['OSVersion'] == '12.1.1'),\n",
        "    (novo_df['OSVersion'] == '9.3.5'),\n",
        "    (novo_df['OSVersion'] == '10.3.1'),\n",
        "    (novo_df['OSVersion'] == '12.3.2'),\n",
        "    (novo_df['OSVersion'] == '5.0.1'),\n",
        "    (novo_df['OSVersion'] == '1.0.7.2'),\n",
        "    (novo_df['OSVersion'] == '13.2'),\n",
        "    (novo_df['OSVersion'] == '4.4.4'),\n",
        "    (novo_df['OSVersion'] == '5.0'),\n",
        "    (novo_df['OSVersion'] == '11.2.5'),\n",
        "    (novo_df['OSVersion'] == '12.0.1'),\n",
        "    (novo_df['OSVersion'] == '12.0'),\n",
        "    (novo_df['OSVersion'] == '4.2.2'),\n",
        "    (novo_df['OSVersion'] == '11.3'),\n",
        "    (novo_df['OSVersion'] == '10.3.2'),\n",
        "    (novo_df['OSVersion'] == '10.0.2'),\n",
        "    (novo_df['OSVersion'] == '11.2.1'),\n",
        "    (novo_df['OSVersion'] == '12.3'),\n",
        "    (novo_df['OSVersion'] == '9.3.2'),\n",
        "    (novo_df['OSVersion'] == '4.3'),\n",
        "    (novo_df['OSVersion'] == '12.1.3'),\n",
        "    (novo_df['OSVersion'] == '11.1'),\n",
        "    (novo_df['OSVersion'] == '4.1.2'),\n",
        "    (novo_df['OSVersion'] == '12.4.4'),\n",
        "    (novo_df['OSVersion'] == '9.3.6'),\n",
        "    (novo_df['OSVersion'] == '10.3.4'),\n",
        "    (novo_df['OSVersion'] == '10.2'),\n",
        "    (novo_df['OSVersion'] == '11.1.1'),\n",
        "    (novo_df['OSVersion'] == '1.0.8.2'),\n",
        "    (novo_df['OSVersion'] == '13.2.2'),\n",
        "    (novo_df['OSVersion'] == '11.0.1'),\n",
        "    (novo_df['OSVersion'] == '11.2.2'),\n",
        "    (novo_df['OSVersion'] == '10.1'),\n",
        "    (novo_df['OSVersion'] == '1.0.8.1'),\n",
        "    (novo_df['OSVersion'] == '11.0.2'),\n",
        "    (novo_df['OSVersion'] == '13.1.1'),\n",
        "    (novo_df['OSVersion'] == '10.0.1'),\n",
        "    (novo_df['OSVersion'] == '13.1'),\n",
        "    (novo_df['OSVersion'] == '9.2.1'),\n",
        "    (novo_df['OSVersion'] == '9.3.4'),\n",
        "    (novo_df['OSVersion'] == '4.4.3'),\n",
        "    (novo_df['OSVersion'] == '1.0.8'),\n",
        "    (novo_df['OSVersion'] == '11.2'),\n",
        "    (novo_df['OSVersion'] == '9.3'),\n",
        "    (novo_df['OSVersion'] == '9.0'),\n",
        "    (novo_df['OSVersion'] == '9.3.3'),\n",
        "    (novo_df['OSVersion'] == '10.3'),\n",
        "    (novo_df['OSVersion'] == '9.2'),\n",
        "    (novo_df['OSVersion'] == '9.3.1'),\n",
        "    (novo_df['OSVersion'] == '7.1'),\n",
        "    (novo_df['OSVersion'] == '10'),\n",
        "    (novo_df['OSVersion'] == '8.1.0+++xXx_NoLimits_3.3'),\n",
        "    (novo_df['OSVersion'] == '6.1'),\n",
        "    (novo_df['OSVersion'] == '8.1'),\n",
        "    (novo_df['OSVersion'] == '8.0')]\n",
        "\n",
        "values = [1, 2, 3, 4, 5, 6, 7, 8, 9, 10, 11, 12, 13, 14, 15, 16, 17, 18, 19, 20, 21, 22, 23, 24, 25, 26, 27, 28, 29, 30, 31, 32, 33, 34, 35, 36, 37, 38, 39, 40, 41, 42, 43, 44, 45, 46, 47, 48, 49, 50, 51, 52, 53, 54, 55, 56, 57, 58, 59, 60, 61, 62, 63, 64, 65, 66, 67, 68, 69, 70, 71, 72, 73, 74, 75, 76, 77, 78, 79, 80, 81, 82, 83, 84, 85, 86, 87, 88, 89, 90, 91, 92]\n",
        "\n",
        "novo_df['OSVersion_flg'] = np.select(conditions_6, values)\n"
      ],
      "metadata": {
        "id": "TTzZlPENllsQ"
      },
      "execution_count": 26,
      "outputs": []
    },
    {
      "cell_type": "markdown",
      "source": [
        "**Correlação entre as variáveis de clientes e a resposta do motor**"
      ],
      "metadata": {
        "id": "NACXAvv1QGXj"
      }
    },
    {
      "cell_type": "code",
      "source": [
        "plt.figure(figsize=(8, 4.5))\n",
        "sns.heatmap(novo_df[['CreditStatus_flg', 'Gender_flg', 'fx_idade_flg', 'Platform_flg', 'OSVersion_flg']].corr(), annot=True, cmap='viridis')"
      ],
      "metadata": {
        "colab": {
          "base_uri": "https://localhost:8080/",
          "height": 395
        },
        "id": "5aNhmcOGP3AT",
        "outputId": "5555a850-7497-41f8-8024-55361b227bd2"
      },
      "execution_count": 76,
      "outputs": [
        {
          "output_type": "execute_result",
          "data": {
            "text/plain": [
              "<matplotlib.axes._subplots.AxesSubplot at 0x7efd4c43ef50>"
            ]
          },
          "metadata": {},
          "execution_count": 76
        },
        {
          "output_type": "display_data",
          "data": {
            "text/plain": [
              "<Figure size 576x324 with 2 Axes>"
            ],
            "image/png": "[encoded data removed]"
          },
          "metadata": {}
        }
      ]
    },
    {
      "cell_type": "code",
      "source": [
        "#criando uma cópia do dataset invoice\n",
        "inad_geral = invoice_status.copy()\n",
        "\n",
        "#excluindo faturas nulas que não compõem o indicador\n",
        "inad_geral_v1 = inad_geral.loc[(inad_geral['InvoiceValue'] != 0)]\n",
        "\n",
        "#aplicando a marcação de over30\n",
        "inad_geral_v1['Over'] = np.where(inad_geral_v1['OverdueDays'] >= 30, 'Sim', 'Não')\n",
        "\n",
        "inad_geral_v1 = inad_geral_v1.groupby('Over')['ClientId'].count()\n",
        "over_30_geral = inad_geral_v1[1] / inad_geral_v1.sum()\n",
        "\n",
        "print((np.round(over_30_geral, 3) * 100), \"%\")\n",
        "print('\\n')\n",
        "print(inad_geral_v1)"
      ],
      "metadata": {
        "colab": {
          "base_uri": "https://localhost:8080/"
        },
        "id": "8MWrxoJXJizz",
        "outputId": "baa2eb27-0f86-4919-c556-13699ead2ff4"
      },
      "execution_count": 28,
      "outputs": [
        {
          "output_type": "stream",
          "name": "stdout",
          "text": [
            "10.9 %\n",
            "\n",
            "\n",
            "Over\n",
            "Não    93931\n",
            "Sim    11494\n",
            "Name: ClientId, dtype: int64\n"
          ]
        }
      ]
    },
    {
      "cell_type": "markdown",
      "source": [
        "**2.1: Over 30 mob3 - visão geral = 10,9%**\n",
        "\n",
        "\n",
        "---\n",
        "---"
      ],
      "metadata": {
        "id": "GvopfyAhSin_"
      }
    },
    {
      "cell_type": "markdown",
      "source": [
        "**Over 30 - Safra Janeiro/19**"
      ],
      "metadata": {
        "id": "deD07nHRvDCG"
      }
    },
    {
      "cell_type": "code",
      "source": [
        "jan = invoice_status.loc[(invoice_status['FirstInvoiceDate'] >= '2019-01-01') & (invoice_status['FirstInvoiceDate'] <= '2019-01-31') \n",
        "                            & (invoice_status['InvoiceDueDate'] >= '2019-04-01') & (invoice_status['InvoiceDueDate'] <= '2019-04-30') & (invoice_status['InvoiceValue'] != 0)]\n",
        "\n",
        "inad_jan = pd.DataFrame()\n",
        "inad_jan['Over'] = np.where(jan['OverdueDays'] >= 30, 'Sim', 'Não')\n",
        "\n",
        "inad_jan = inad_jan.groupby('Over')['Over'].count()\n",
        "over_30_jan = inad_jan[1] / inad_jan.sum()\n",
        "\n",
        "print((np.round(over_30_jan, 3) * 100), \"%\")\n",
        "print('\\n')\n",
        "inad_jan"
      ],
      "metadata": {
        "colab": {
          "base_uri": "https://localhost:8080/"
        },
        "id": "neCRxd27QAr6",
        "outputId": "a3822ac8-8da9-42cd-f48e-d2e05be087c4"
      },
      "execution_count": 29,
      "outputs": [
        {
          "output_type": "stream",
          "name": "stdout",
          "text": [
            "10.7 %\n",
            "\n",
            "\n"
          ]
        },
        {
          "output_type": "execute_result",
          "data": {
            "text/plain": [
              "Over\n",
              "Não    646\n",
              "Sim     77\n",
              "Name: Over, dtype: int64"
            ]
          },
          "metadata": {},
          "execution_count": 29
        }
      ]
    },
    {
      "cell_type": "markdown",
      "source": [
        "**Over 30 - Safra Fevereiro/19**"
      ],
      "metadata": {
        "id": "NggXeXsdvMbu"
      }
    },
    {
      "cell_type": "code",
      "source": [
        "fev = invoice_status.loc[(invoice_status['FirstInvoiceDate'] >= '2019-02-01') & (invoice_status['FirstInvoiceDate'] <= '2019-02-28') \n",
        "                            & (invoice_status['InvoiceDueDate'] >= '2019-05-01') & (invoice_status['InvoiceDueDate'] <= '2019-05-31') & (invoice_status['InvoiceValue'] != 0)]\n",
        "\n",
        "inad_fev = pd.DataFrame()\n",
        "inad_fev['Over'] = np.where(fev['OverdueDays'] >= 30, 'Sim', 'Não')\n",
        "\n",
        "inad_fev = inad_fev.groupby('Over')['Over'].count()\n",
        "over_30_fev = inad_fev[1] / inad_fev.sum()\n",
        "\n",
        "print((np.round(over_30_fev, 3) * 100), \"%\")\n",
        "print('\\n')\n",
        "inad_fev"
      ],
      "metadata": {
        "colab": {
          "base_uri": "https://localhost:8080/"
        },
        "id": "BP9_juaTP4nA",
        "outputId": "d3cb325b-173f-4b30-a50a-3f20660fb411"
      },
      "execution_count": 30,
      "outputs": [
        {
          "output_type": "stream",
          "name": "stdout",
          "text": [
            "11.0 %\n",
            "\n",
            "\n"
          ]
        },
        {
          "output_type": "execute_result",
          "data": {
            "text/plain": [
              "Over\n",
              "Não    835\n",
              "Sim    103\n",
              "Name: Over, dtype: int64"
            ]
          },
          "metadata": {},
          "execution_count": 30
        }
      ]
    },
    {
      "cell_type": "markdown",
      "source": [
        "**Over 30 - Safra Março/19**"
      ],
      "metadata": {
        "id": "2Mt1s-X3vQ65"
      }
    },
    {
      "cell_type": "code",
      "source": [
        "mar = invoice_status.loc[(invoice_status['FirstInvoiceDate'] >= '2019-03-01') & (invoice_status['FirstInvoiceDate'] <= '2019-03-31') \n",
        "                            & (invoice_status['InvoiceDueDate'] >= '2019-06-01') & (invoice_status['InvoiceDueDate'] <= '2019-06-30') & (invoice_status['InvoiceValue'] != 0)]\n",
        "\n",
        "inad_mar = pd.DataFrame()\n",
        "inad_mar['Over'] = np.where(mar['OverdueDays'] >= 30, 'Sim', 'Não')\n",
        "\n",
        "inad_mar = inad_mar.groupby('Over')['Over'].count()\n",
        "over_30_mar = inad_mar[1] / inad_mar.sum()\n",
        "\n",
        "print((np.round(over_30_mar, 3) * 100), \"%\")\n",
        "print('\\n')\n",
        "inad_mar"
      ],
      "metadata": {
        "colab": {
          "base_uri": "https://localhost:8080/"
        },
        "id": "yyFXGWDRQLkG",
        "outputId": "e6c5daf8-34c1-49ed-e625-30ff96c7092a"
      },
      "execution_count": 31,
      "outputs": [
        {
          "output_type": "stream",
          "name": "stdout",
          "text": [
            "10.100000000000001 %\n",
            "\n",
            "\n"
          ]
        },
        {
          "output_type": "execute_result",
          "data": {
            "text/plain": [
              "Over\n",
              "Não    773\n",
              "Sim     87\n",
              "Name: Over, dtype: int64"
            ]
          },
          "metadata": {},
          "execution_count": 31
        }
      ]
    },
    {
      "cell_type": "markdown",
      "source": [
        "**Over 30 - Safra Abril/19**"
      ],
      "metadata": {
        "id": "iQg_pRCKvVCd"
      }
    },
    {
      "cell_type": "code",
      "source": [
        "abr = invoice_status.loc[(invoice_status['FirstInvoiceDate'] >= '2019-04-01') & (invoice_status['FirstInvoiceDate'] <= '2019-04-30') \n",
        "                            & (invoice_status['InvoiceDueDate'] >= '2019-07-01') & (invoice_status['InvoiceDueDate'] <= '2019-07-31') & (invoice_status['InvoiceValue'] != 0)]\n",
        "\n",
        "inad_abr = pd.DataFrame()\n",
        "inad_abr['Over'] = np.where(abr['OverdueDays'] >= 30, 'Sim', 'Não')\n",
        "\n",
        "inad_abr = inad_abr.groupby('Over')['Over'].count()\n",
        "over_30_abr = inad_abr[1] / inad_abr.sum()\n",
        "\n",
        "print((np.round(over_30_abr, 3) * 100), \"%\")\n",
        "print('\\n')\n",
        "inad_abr"
      ],
      "metadata": {
        "colab": {
          "base_uri": "https://localhost:8080/"
        },
        "id": "sygGXJHPSMyD",
        "outputId": "14d0cf6e-8757-43ce-fc6d-d1df6ac28767"
      },
      "execution_count": 32,
      "outputs": [
        {
          "output_type": "stream",
          "name": "stdout",
          "text": [
            "11.200000000000001 %\n",
            "\n",
            "\n"
          ]
        },
        {
          "output_type": "execute_result",
          "data": {
            "text/plain": [
              "Over\n",
              "Não    1035\n",
              "Sim     130\n",
              "Name: Over, dtype: int64"
            ]
          },
          "metadata": {},
          "execution_count": 32
        }
      ]
    },
    {
      "cell_type": "markdown",
      "source": [
        "**Over 30 - Safra Maio/19**"
      ],
      "metadata": {
        "id": "sJAB2-kLvXH1"
      }
    },
    {
      "cell_type": "code",
      "source": [
        "mai = invoice_status.loc[(invoice_status['FirstInvoiceDate'] >= '2019-05-01') & (invoice_status['FirstInvoiceDate'] <= '2019-05-31') \n",
        "                            & (invoice_status['InvoiceDueDate'] >= '2019-08-01') & (invoice_status['InvoiceDueDate'] <= '2019-08-31') & (invoice_status['InvoiceValue'] != 0)]\n",
        "\n",
        "inad_mai = pd.DataFrame()\n",
        "inad_mai['Over'] = np.where(mai['OverdueDays'] >= 30, 'Sim', 'Não')\n",
        "\n",
        "inad_mai = inad_mai.groupby('Over')['Over'].count()\n",
        "over_30_mai = inad_mai[1] / inad_mai.sum()\n",
        "\n",
        "print((np.round(over_30_mai, 3) * 100), \"%\")\n",
        "print('\\n')\n",
        "inad_mai"
      ],
      "metadata": {
        "colab": {
          "base_uri": "https://localhost:8080/"
        },
        "id": "Ji8GlXo2ovso",
        "outputId": "523d2f2a-fc20-414a-f872-328dd3775189"
      },
      "execution_count": 33,
      "outputs": [
        {
          "output_type": "stream",
          "name": "stdout",
          "text": [
            "25.1 %\n",
            "\n",
            "\n"
          ]
        },
        {
          "output_type": "execute_result",
          "data": {
            "text/plain": [
              "Over\n",
              "Não    1515\n",
              "Sim     507\n",
              "Name: Over, dtype: int64"
            ]
          },
          "metadata": {},
          "execution_count": 33
        }
      ]
    },
    {
      "cell_type": "markdown",
      "source": [
        "**Over 30 - Safra Junho/19**"
      ],
      "metadata": {
        "id": "bxiVQ9f7vZGy"
      }
    },
    {
      "cell_type": "code",
      "source": [
        "jun = invoice_status.loc[(invoice_status['FirstInvoiceDate'] >= '2019-06-01') & (invoice_status['FirstInvoiceDate'] <= '2019-06-30') \n",
        "                            & (invoice_status['InvoiceDueDate'] >= '2019-09-01') & (invoice_status['InvoiceDueDate'] <= '2019-09-30') & (invoice_status['InvoiceValue'] != 0)]\n",
        "\n",
        "inad_jun = pd.DataFrame()\n",
        "inad_jun['Over'] = np.where(jun['OverdueDays'] >= 30, 'Sim', 'Não')\n",
        "\n",
        "inad_jun = inad_jun.groupby('Over')['Over'].count()\n",
        "over_30_jun = inad_jun[1] / inad_jun.sum()\n",
        "\n",
        "print((np.round(over_30_jun, 3) * 100), \"%\")\n",
        "print('\\n')\n",
        "inad_jun"
      ],
      "metadata": {
        "colab": {
          "base_uri": "https://localhost:8080/"
        },
        "id": "D5SCCrEepr0Y",
        "outputId": "ec983d82-f548-48fc-e266-5f8c7a7dd85d"
      },
      "execution_count": 34,
      "outputs": [
        {
          "output_type": "stream",
          "name": "stdout",
          "text": [
            "24.4 %\n",
            "\n",
            "\n"
          ]
        },
        {
          "output_type": "execute_result",
          "data": {
            "text/plain": [
              "Over\n",
              "Não    1495\n",
              "Sim     482\n",
              "Name: Over, dtype: int64"
            ]
          },
          "metadata": {},
          "execution_count": 34
        }
      ]
    },
    {
      "cell_type": "markdown",
      "source": [
        "**Over 30 - Safra Julho/19**"
      ],
      "metadata": {
        "id": "kHbzYM5OvbBN"
      }
    },
    {
      "cell_type": "code",
      "source": [
        "jul = invoice_status.loc[(invoice_status['FirstInvoiceDate'] >= '2019-07-01') & (invoice_status['FirstInvoiceDate'] <= '2019-07-31') \n",
        "                            & (invoice_status['InvoiceDueDate'] >= '2019-10-01') & (invoice_status['InvoiceDueDate'] <= '2019-10-31') & (invoice_status['InvoiceValue'] != 0)]\n",
        "\n",
        "inad_jul = pd.DataFrame()\n",
        "inad_jul['Over'] = np.where(jul['OverdueDays'] >= 30, 'Sim', 'Não')\n",
        "\n",
        "inad_jul = inad_jul.groupby('Over')['Over'].count()\n",
        "over_30_jul = inad_jul[1] / inad_jul.sum()\n",
        "\n",
        "print((np.round(over_30_jul, 3) * 100), \"%\")\n",
        "print('\\n')\n",
        "inad_jul"
      ],
      "metadata": {
        "colab": {
          "base_uri": "https://localhost:8080/"
        },
        "id": "VGJ7VoMkTaZi",
        "outputId": "2718fc5b-446a-4b17-a276-ef0da52e073d"
      },
      "execution_count": 35,
      "outputs": [
        {
          "output_type": "stream",
          "name": "stdout",
          "text": [
            "11.3 %\n",
            "\n",
            "\n"
          ]
        },
        {
          "output_type": "execute_result",
          "data": {
            "text/plain": [
              "Over\n",
              "Não    1171\n",
              "Sim     149\n",
              "Name: Over, dtype: int64"
            ]
          },
          "metadata": {},
          "execution_count": 35
        }
      ]
    },
    {
      "cell_type": "markdown",
      "source": [
        "**Over 30 - Safra Agosto/19**"
      ],
      "metadata": {
        "id": "sRXoLJaSvdPG"
      }
    },
    {
      "cell_type": "code",
      "source": [
        "ago = invoice_status.loc[(invoice_status['FirstInvoiceDate'] >= '2019-08-01') & (invoice_status['FirstInvoiceDate'] <= '2019-08-31') \n",
        "                            & (invoice_status['InvoiceDueDate'] >= '2019-11-01') & (invoice_status['InvoiceDueDate'] <= '2019-11-30') & (invoice_status['InvoiceValue'] != 0)]\n",
        "\n",
        "inad_ago = pd.DataFrame()\n",
        "inad_ago['Over'] = np.where(ago['OverdueDays'] >= 30, 'Sim', 'Não')\n",
        "\n",
        "inad_ago = inad_ago.groupby('Over')['Over'].count()\n",
        "over_30_ago = inad_ago[1] / inad_ago.sum()\n",
        "\n",
        "print((np.round(over_30_ago, 3) * 100), \"%\")\n",
        "print('\\n')\n",
        "inad_ago"
      ],
      "metadata": {
        "colab": {
          "base_uri": "https://localhost:8080/"
        },
        "id": "4XBfSAKmTn2b",
        "outputId": "43a53bbb-341e-490f-edc9-48969fc8a816"
      },
      "execution_count": 36,
      "outputs": [
        {
          "output_type": "stream",
          "name": "stdout",
          "text": [
            "8.1 %\n",
            "\n",
            "\n"
          ]
        },
        {
          "output_type": "execute_result",
          "data": {
            "text/plain": [
              "Over\n",
              "Não    1235\n",
              "Sim     109\n",
              "Name: Over, dtype: int64"
            ]
          },
          "metadata": {},
          "execution_count": 36
        }
      ]
    },
    {
      "cell_type": "markdown",
      "source": [
        "**Over 30 - Safra Setembro/19**"
      ],
      "metadata": {
        "id": "MhRorrAYvhNw"
      }
    },
    {
      "cell_type": "code",
      "source": [
        "sep = invoice_status.loc[(invoice_status['FirstInvoiceDate'] >= '2019-09-01') & (invoice_status['FirstInvoiceDate'] <= '2019-09-30') \n",
        "                            & (invoice_status['InvoiceDueDate'] >= '2019-12-01') & (invoice_status['InvoiceDueDate'] <= '2019-12-31') & (invoice_status['InvoiceValue'] != 0)]\n",
        "\n",
        "inad_set = pd.DataFrame()\n",
        "inad_set['Over'] = np.where(sep['OverdueDays'] >= 30, 'Sim', 'Não')\n",
        "\n",
        "inad_set = inad_set.groupby('Over')['Over'].count()\n",
        "over_30_set = inad_set[1] / inad_set.sum()\n",
        "\n",
        "print((np.round(over_30_set, 3) * 100), \"%\")\n",
        "print('\\n')\n",
        "inad_set"
      ],
      "metadata": {
        "colab": {
          "base_uri": "https://localhost:8080/"
        },
        "id": "dPZ85ye6UAX4",
        "outputId": "61054727-27bc-4ead-8125-ca498e26719e"
      },
      "execution_count": 37,
      "outputs": [
        {
          "output_type": "stream",
          "name": "stdout",
          "text": [
            "10.0 %\n",
            "\n",
            "\n"
          ]
        },
        {
          "output_type": "execute_result",
          "data": {
            "text/plain": [
              "Over\n",
              "Não    1543\n",
              "Sim     171\n",
              "Name: Over, dtype: int64"
            ]
          },
          "metadata": {},
          "execution_count": 37
        }
      ]
    },
    {
      "cell_type": "markdown",
      "source": [
        "**Over 30 - Safra Outubro/19**"
      ],
      "metadata": {
        "id": "cKcWYUgMvkrZ"
      }
    },
    {
      "cell_type": "code",
      "source": [
        "out = invoice_status.loc[(invoice_status['FirstInvoiceDate'] >= '2019-10-01') & (invoice_status['FirstInvoiceDate'] <= '2019-10-31') \n",
        "                            & (invoice_status['InvoiceDueDate'] >= '2020-01-01') & (invoice_status['InvoiceDueDate'] <= '2020-01-31') & (invoice_status['InvoiceValue'] != 0)]\n",
        "\n",
        "inad_out = pd.DataFrame()\n",
        "inad_out['Over'] = np.where(out['OverdueDays'] >= 30, 'Sim', 'Não')\n",
        "\n",
        "inad_out = inad_out.groupby('Over')['Over'].count()\n",
        "over_30_out = inad_out[1] / inad_out.sum()\n",
        "\n",
        "print((np.round(over_30_out, 3) * 100), \"%\")\n",
        "print('\\n')\n",
        "inad_out"
      ],
      "metadata": {
        "colab": {
          "base_uri": "https://localhost:8080/"
        },
        "id": "4dq8S5QNU45a",
        "outputId": "b5b0f804-5a5f-483f-f7d8-b84052446cf0"
      },
      "execution_count": 38,
      "outputs": [
        {
          "output_type": "stream",
          "name": "stdout",
          "text": [
            "10.9 %\n",
            "\n",
            "\n"
          ]
        },
        {
          "output_type": "execute_result",
          "data": {
            "text/plain": [
              "Over\n",
              "Não    327\n",
              "Sim     40\n",
              "Name: Over, dtype: int64"
            ]
          },
          "metadata": {},
          "execution_count": 38
        }
      ]
    },
    {
      "cell_type": "markdown",
      "source": [
        "**Gráfico: Over 30 mob3 Por Safra**"
      ],
      "metadata": {
        "id": "FVNXAhE792n7"
      }
    },
    {
      "cell_type": "code",
      "source": [
        "#construção da tabela de forma ordenada\n",
        "x = ['01-2019', '02-2019', '03-2019', '04-2019', '05-2019', '06-2019', '07-2019', '08-2019', '09-2019', '10-2019']\n",
        "y = [over_30_jan, over_30_fev, over_30_fev, over_30_abr, over_30_mai, over_30_jun, over_30_jul, over_30_ago, over_30_set, over_30_out]\n",
        "\n",
        "#ajuste do estilo do gráfico\n",
        "sns.set_theme(style=\"darkgrid\")\n",
        "\n",
        "#configuração do tamanho do gráfico\n",
        "plt.figure(figsize=(15, 4.5))\n",
        "\n",
        "#construção da linha over_30 mob3 fixa (10% é a visão geral do indicador)\n",
        "plt.axhline(y=over_30_geral, color='r', linestyle='dotted')\n",
        "\n",
        "#plotando o lineplot\n",
        "sns.lineplot(x, y)\n",
        "\n",
        "#função para exibir os rótulos\n",
        "for x,y in zip(x,y):\n",
        "\n",
        "    label = \"{:.2f}\".format(y)\n",
        "\n",
        "    plt.annotate(label, # this is the text\n",
        "                 (x,y), # these are the coordinates to position the label\n",
        "                 textcoords=\"offset points\", # how to position the text\n",
        "                 xytext=(0,10), # distance from text to points (x,y)\n",
        "                 ha='center') # horizontal alignment can be left, right or center\n",
        "\n",
        "#plotar o gráfico\n",
        "plt.show()"
      ],
      "metadata": {
        "colab": {
          "base_uri": "https://localhost:8080/",
          "height": 304
        },
        "id": "W42-0LCF3K7q",
        "outputId": "5a6488a6-7929-4316-8f76-aaf3b3bf30cd"
      },
      "execution_count": 39,
      "outputs": [
        {
          "output_type": "display_data",
          "data": {
            "text/plain": [
              "<Figure size 1080x324 with 1 Axes>"
            ],
            "image/png": "[encoded data removed]"
          },
          "metadata": {}
        }
      ]
    },
    {
      "cell_type": "markdown",
      "source": [
        "**2.1: Over 30 mob3 - visão safras**\n",
        "\n",
        "\n",
        "*   Jan/19 = 10,7%\n",
        "*   Fev/19 = 11,0%\n",
        "*   Mar/19 = 10,1%\n",
        "*   Abr/19 = 11,2%\n",
        "*   Mai/19 = 25,1%\n",
        "*   Jun/19 = 24,4%\n",
        "*   Jul/19 = 11,3%\n",
        "*   Ago/19 = 8,1%\n",
        "*   Set/19 = 10,0%\n",
        "*   Out/19 = 10,9%\n",
        "\n",
        "\n"
      ],
      "metadata": {
        "id": "YlrmdtAsj6o6"
      }
    },
    {
      "cell_type": "markdown",
      "source": [
        "**3.1: A percepção do time de cartão não está correta.** <br><br>\n",
        "**3.1: A percepção de tendência de aumento da inadimplência para as safras do 2º semestre de 2019 se deve ao fato de que em agosto observamos a menor inadimplância histórica. Nos meses seguintes a inadimplência volta a se aproximar da média histórica e isso faz com que exista uma \"tendência mascarada\" se analisarmos um curto período.**"
      ],
      "metadata": {
        "id": "zqSgTcOuAnsz"
      }
    },
    {
      "cell_type": "code",
      "source": [
        "#cópia do dataset principal\n",
        "copy_client = client.copy()\n",
        "\n",
        "#join entre os datasets: invoice e client\n",
        "data_modelo = pd.merge(invoice_status, copy_client, how='left', on='ClientId')\n",
        "\n",
        "#construção da variával safra para facilitar a análise\n",
        "data_modelo['Safra'] = data_modelo['FirstInvoiceDate'].dt.strftime('%m-%Y')\n",
        "\n",
        "# exibição das primeiras linhas para validação\n",
        "data_modelo.head()\n",
        "################################################################################################\n",
        "\n",
        "\n",
        "\n",
        "\n",
        "\n",
        "\n",
        "#construindo a variável idade\n",
        "data_modelo['idade'] = data_modelo.RegisterApprovalDate - data_modelo.Birthdate\n",
        "\n",
        "#convertendo a variável idade para númerico\n",
        "data_modelo['idade'] = (data_modelo['idade'].dt.days / 365)\n",
        "\n",
        "\n",
        "# agrupar a categoria \"Ativo\" dentro de \"Aprovado\" para facilitar o cálculo\n",
        "fx_idade_1 = data_modelo.loc[(data_modelo['idade'] <= 18)]\n",
        "fx_idade_1['fx_idade'] = '0-18'\n",
        "\n",
        "fx_idade_2 = data_modelo.loc[(data_modelo['idade'] > 18) & (data_modelo['idade'] <= 26)]\n",
        "fx_idade_2['fx_idade'] = '19-26'\n",
        "\n",
        "fx_idade_3 = data_modelo.loc[(data_modelo['idade'] > 26) & (data_modelo['idade'] <= 34)]\n",
        "fx_idade_3['fx_idade'] = '27-34'\n",
        "\n",
        "fx_idade_4 = data_modelo.loc[(data_modelo['idade'] > 34) & (data_modelo['idade'] <= 42)]\n",
        "fx_idade_4['fx_idade'] = '35-42'\n",
        "\n",
        "fx_idade_5 = data_modelo.loc[(data_modelo['idade'] > 42) & (data_modelo['idade'] <= 50)]\n",
        "fx_idade_5['fx_idade'] = '43-50'\n",
        "\n",
        "fx_idade_6 = data_modelo.loc[(data_modelo['idade'] > 50) & (data_modelo['idade'] <= 58)]\n",
        "fx_idade_6['fx_idade'] = '51-58'\n",
        "\n",
        "fx_idade_7 = data_modelo.loc[(data_modelo['idade'] > 58)]\n",
        "fx_idade_7['fx_idade'] = 'maior que 58'\n",
        "\n",
        "data_modelo = pd.concat([fx_idade_1, fx_idade_2, fx_idade_3, fx_idade_4, fx_idade_5, fx_idade_6, fx_idade_7])\n",
        "\n",
        "\n",
        "\n",
        "\n",
        "\n",
        "\n",
        "\n",
        "#construção da flag idade\n",
        "# agrupar a categoria \"Ativo\" dentro de \"Aprovado\" para facilitar o cálculo\n",
        "cond_model_1 = [\n",
        "    (data_modelo['fx_idade'] == '0-18'),\n",
        "    (data_modelo['fx_idade'] == '19-26'),\n",
        "    (data_modelo['fx_idade'] == '27-34'),\n",
        "    (data_modelo['fx_idade'] == '35-42'),\n",
        "    (data_modelo['fx_idade'] == '43-50'),\n",
        "    (data_modelo['fx_idade'] == '51-58'),\n",
        "    (data_modelo['fx_idade'] == 'maior que 58')]\n",
        "\n",
        "#valores ordenados que serão substítuidos\n",
        "values = [1, 2, 3, 4, 5, 6, 7]\n",
        "\n",
        "#aplicar a função pra susbtituir \"fx_idade\" em \"fx_idade_flg\"\n",
        "data_modelo['fx_idade_flg'] = np.select(cond_model_1, values)\n",
        "\n",
        "\n",
        "\n",
        "\n",
        "\n",
        "\n",
        "\n",
        "#construção da flg Platform\n",
        "cond_model_2 = [\n",
        "    (data_modelo['OSVersion'] == '10.3.3'),\n",
        "    (data_modelo['OSVersion'] == '7.0'),\n",
        "    (data_modelo['OSVersion'] == '11.3.1'),\n",
        "    (data_modelo['OSVersion'] == '6.0.1'),\n",
        "    (data_modelo['OSVersion'] == '12.2'),\n",
        "    (data_modelo['OSVersion'] == '11.4'),\n",
        "    (data_modelo['OSVersion'] == ''),\n",
        "    (data_modelo['OSVersion'] == '7.1.1'),\n",
        "    (data_modelo['OSVersion'] == '8.1.0'),\n",
        "    (data_modelo['OSVersion'] == '8.0.0'),\n",
        "    (data_modelo['OSVersion'] == '12.1'),\n",
        "    (data_modelo['OSVersion'] == '13.1.3'),\n",
        "    (data_modelo['OSVersion'] == '12.4'),\n",
        "    (data_modelo['OSVersion'] == '5.1.1'),\n",
        "    (data_modelo['OSVersion'] == '13.1.2'),\n",
        "    (data_modelo['OSVersion'] == '12.4.1'),\n",
        "    (data_modelo['OSVersion'] == '11.1.2'),\n",
        "    (data_modelo['OSVersion'] == '12.4.2'),\n",
        "    (data_modelo['OSVersion'] == '6.0'),\n",
        "    (data_modelo['OSVersion'] == '12.1.4'),\n",
        "    (data_modelo['OSVersion'] == '10.2.1'),\n",
        "    (data_modelo['OSVersion'] == '5.0.2'),\n",
        "    (data_modelo['OSVersion'] == '13.3'),\n",
        "    (data_modelo['OSVersion'] == '7.1.2'),\n",
        "    (data_modelo['OSVersion'] == '13.0'),\n",
        "    (data_modelo['OSVersion'] == '10.0'),\n",
        "    (data_modelo['OSVersion'] == '12.3.1'),\n",
        "    (data_modelo['OSVersion'] == '5.1'),\n",
        "    (data_modelo['OSVersion'] == '12.1.2'),\n",
        "    (data_modelo['OSVersion'] == '12.4.3'),\n",
        "    (data_modelo['OSVersion'] == '11.4.1'),\n",
        "    (data_modelo['OSVersion'] == '11.2.6'),\n",
        "    (data_modelo['OSVersion'] == '4.4.2'),\n",
        "    (data_modelo['OSVersion'] == '11.0'),\n",
        "    (data_modelo['OSVersion'] == '10.1.1'),\n",
        "    (data_modelo['OSVersion'] == '13.2.3'),\n",
        "    (data_modelo['OSVersion'] == '11.0.3'),\n",
        "    (data_modelo['OSVersion'] == '12.1.1'),\n",
        "    (data_modelo['OSVersion'] == '9.3.5'),\n",
        "    (data_modelo['OSVersion'] == '10.3.1'),\n",
        "    (data_modelo['OSVersion'] == '12.3.2'),\n",
        "    (data_modelo['OSVersion'] == '5.0.1'),\n",
        "    (data_modelo['OSVersion'] == '1.0.7.2'),\n",
        "    (data_modelo['OSVersion'] == '13.2'),\n",
        "    (data_modelo['OSVersion'] == '4.4.4'),\n",
        "    (data_modelo['OSVersion'] == '5.0'),\n",
        "    (data_modelo['OSVersion'] == '11.2.5'),\n",
        "    (data_modelo['OSVersion'] == '12.0.1'),\n",
        "    (data_modelo['OSVersion'] == '12.0'),\n",
        "    (data_modelo['OSVersion'] == '4.2.2'),\n",
        "    (data_modelo['OSVersion'] == '11.3'),\n",
        "    (data_modelo['OSVersion'] == '10.3.2'),\n",
        "    (data_modelo['OSVersion'] == '10.0.2'),\n",
        "    (data_modelo['OSVersion'] == '11.2.1'),\n",
        "    (data_modelo['OSVersion'] == '12.3'),\n",
        "    (data_modelo['OSVersion'] == '9.3.2'),\n",
        "    (data_modelo['OSVersion'] == '4.3'),\n",
        "    (data_modelo['OSVersion'] == '12.1.3'),\n",
        "    (data_modelo['OSVersion'] == '11.1'),\n",
        "    (data_modelo['OSVersion'] == '4.1.2'),\n",
        "    (data_modelo['OSVersion'] == '12.4.4'),\n",
        "    (data_modelo['OSVersion'] == '9.3.6'),\n",
        "    (data_modelo['OSVersion'] == '10.3.4'),\n",
        "    (data_modelo['OSVersion'] == '10.2'),\n",
        "    (data_modelo['OSVersion'] == '11.1.1'),\n",
        "    (data_modelo['OSVersion'] == '1.0.8.2'),\n",
        "    (data_modelo['OSVersion'] == '13.2.2'),\n",
        "    (data_modelo['OSVersion'] == '11.0.1'),\n",
        "    (data_modelo['OSVersion'] == '11.2.2'),\n",
        "    (data_modelo['OSVersion'] == '10.1'),\n",
        "    (data_modelo['OSVersion'] == '1.0.8.1'),\n",
        "    (data_modelo['OSVersion'] == '11.0.2'),\n",
        "    (data_modelo['OSVersion'] == '13.1.1'),\n",
        "    (data_modelo['OSVersion'] == '10.0.1'),\n",
        "    (data_modelo['OSVersion'] == '13.1'),\n",
        "    (data_modelo['OSVersion'] == '9.2.1'),\n",
        "    (data_modelo['OSVersion'] == '9.3.4'),\n",
        "    (data_modelo['OSVersion'] == '4.4.3'),\n",
        "    (data_modelo['OSVersion'] == '1.0.8'),\n",
        "    (data_modelo['OSVersion'] == '11.2'),\n",
        "    (data_modelo['OSVersion'] == '9.3'),\n",
        "    (data_modelo['OSVersion'] == '9.0'),\n",
        "    (data_modelo['OSVersion'] == '9.3.3'),\n",
        "    (data_modelo['OSVersion'] == '10.3'),\n",
        "    (data_modelo['OSVersion'] == '9.2'),\n",
        "    (data_modelo['OSVersion'] == '9.3.1'),\n",
        "    (data_modelo['OSVersion'] == '7.1'),\n",
        "    (data_modelo['OSVersion'] == '10'),\n",
        "    (data_modelo['OSVersion'] == '8.1.0+++xXx_NoLimits_3.3'),\n",
        "    (data_modelo['OSVersion'] == '6.1'),\n",
        "    (data_modelo['OSVersion'] == '8.1'),\n",
        "    (data_modelo['OSVersion'] == '8.0')]\n",
        "\n",
        "values = [1, 2, 3, 4, 5, 6, 7, 8, 9, 10, 11, 12, 13, 14, 15, 16, 17, 18, 19, 20, 21, 22, 23, 24, 25, 26, 27, 28, 29, 30, 31, 32, 33, 34, 35, 36, 37, 38, 39, 40, 41, 42, 43, 44, 45, 46, 47, 48, 49, 50, 51, 52, 53, 54, 55, 56, 57, 58, 59, 60, 61, 62, 63, 64, 65, 66, 67, 68, 69, 70, 71, 72, 73, 74, 75, 76, 77, 78, 79, 80, 81, 82, 83, 84, 85, 86, 87, 88, 89, 90, 91, 92]\n",
        "\n",
        "data_modelo['OSVersion_flg'] = np.select(cond_model_2, values)\n",
        "\n",
        "\n",
        "\n",
        "\n",
        "\n",
        "\n",
        "\n",
        "\n",
        "data_modelo['AddressState'].unique()\n",
        "#construção da flg Estado\n",
        "\n",
        "cond_model_3 = [\n",
        "    (data_modelo['AddressState'] == 'SP'),\n",
        "    (data_modelo['AddressState'] == 'AM'),\n",
        "    (data_modelo['AddressState'] == 'GO'),\n",
        "    (data_modelo['AddressState'] == 'MG'),\n",
        "    (data_modelo['AddressState'] == 'ES'),\n",
        "    (data_modelo['AddressState'] == 'CE'),\n",
        "    (data_modelo['AddressState'] == 'DF'),\n",
        "    (data_modelo['AddressState'] == 'MT'),\n",
        "    (data_modelo['AddressState'] == 'PR'),\n",
        "    (data_modelo['AddressState'] == 'BA'),\n",
        "    (data_modelo['AddressState'] == 'AL'),\n",
        "    (data_modelo['AddressState'] == 'PE'),\n",
        "    (data_modelo['AddressState'] == 'RN'),\n",
        "    (data_modelo['AddressState'] == 'RJ'),\n",
        "    (data_modelo['AddressState'] == 'PB'),\n",
        "    (data_modelo['AddressState'] == 'RS'),\n",
        "    (data_modelo['AddressState'] == 'RO'),\n",
        "    (data_modelo['AddressState'] == 'PA'),\n",
        "    (data_modelo['AddressState'] == 'SC'),\n",
        "    (data_modelo['AddressState'] == 'PI'),\n",
        "    (data_modelo['AddressState'] == 'MS'),\n",
        "    (data_modelo['AddressState'] == 'SE'),\n",
        "    (data_modelo['AddressState'] == 'MA'),\n",
        "    (data_modelo['AddressState'] == 'TO'),\n",
        "    (data_modelo['AddressState'] == 'RR'),\n",
        "    (data_modelo['AddressState'] == 'Piauí'),\n",
        "    (data_modelo['AddressState'] == 'AP'),\n",
        "    (data_modelo['AddressState'] == 'AC'),\n",
        "    (data_modelo['AddressState'] == 'Bahia'),\n",
        "    (data_modelo['AddressState'] == ''),\n",
        "    (data_modelo['AddressState'] == 'Sc'),\n",
        "    (data_modelo['AddressState'] == 'Ceará'),\n",
        "    (data_modelo['AddressState'] == 'bahia'),\n",
        "    (data_modelo['AddressState'] == 'Pe'),\n",
        "    (data_modelo['AddressState'] == 'pr'),\n",
        "    (data_modelo['AddressState'] == 'Se')]\n",
        "\n",
        "\n",
        "values = [1, 2, 3, 4, 5, 6, 7, 8, 9, 10, 11, 12, 13, 14, 15, 16, 17, 18, 19, 20, 21, 22, 23, 24, 25, 20, 27, 28, 10, 30, 19, 6, 10, 12, 9, 22]\n",
        "data_modelo['AddressState_flg'] = np.select(cond_model_3, values)\n",
        "\n",
        "data_modelo[['AddressState', 'AddressState_flg']].loc[(data_modelo['AddressState'] == 'nan')]\n",
        "\n",
        "\n",
        "\n",
        "\n",
        "\n",
        "\n",
        "\n",
        "\n",
        "conditions_4 = [\n",
        "    (data_modelo['Platform'] == 'iPhone+OS'),\n",
        "    (data_modelo['Platform'] == 'Android'),\n",
        "    (data_modelo['Platform'] == '')]\n",
        "\n",
        "#valores ordenados que serão substítuidos\n",
        "values = [1, 2, 3]\n",
        "\n",
        "#aplicar a função pra susbtituir \"Ativo\" em \"Aprovado\"\n",
        "data_modelo['Platform_flg'] = np.select(conditions_4, values)\n",
        "\n",
        "\n",
        "\n",
        "\n",
        "\n",
        "\n",
        "\n",
        "conditions_5 = [\n",
        "    (data_modelo['Gender'] == 'Male'),\n",
        "    (data_modelo['Gender'] == 'Female'),\n",
        "    (data_modelo['Gender'] == 'Unknown')]\n",
        "\n",
        "#valores ordenados que serão substítuidos\n",
        "values = [1, 2, 3]\n",
        "\n",
        "#aplicar a função pra susbtituir \"Ativo\" em \"Aprovado\"\n",
        "data_modelo['Gender_flg'] = np.select(conditions_5, values)\n",
        "\n",
        "\n",
        "\n",
        "\n",
        "\n",
        "\n",
        "\n",
        "\n",
        "\n",
        "\n",
        "# agrupar a categoria \"Ativo\" dentro de \"Aprovado\" para facilitar o cálculo\n",
        "cond_model_5 = [\n",
        "    (data_modelo['InvoiceStatus'] == 'REGULAR'),\n",
        "    (data_modelo['InvoiceStatus'] == 'INADIMPLENTE')]\n",
        "\n",
        "values = [0, 1]\n",
        "data_modelo['InvoiceStatus_flg'] = np.select(cond_model_5, values)"
      ],
      "metadata": {
        "id": "ghyq1LMskg1Q"
      },
      "execution_count": 40,
      "outputs": []
    },
    {
      "cell_type": "markdown",
      "source": [
        "**Estudo das variáveis que podem impactar a indadimplência**"
      ],
      "metadata": {
        "id": "7oa-6ATdea0v"
      }
    },
    {
      "cell_type": "code",
      "source": [
        "data_modelo.groupby('Safra')['ClientId'].count().sort_values(ascending=False).plot(kind='bar')"
      ],
      "metadata": {
        "colab": {
          "base_uri": "https://localhost:8080/",
          "height": 339
        },
        "id": "yVZwTmRmc9bE",
        "outputId": "2c4ac648-606b-4328-c20f-ce160f5fe573"
      },
      "execution_count": 87,
      "outputs": [
        {
          "output_type": "execute_result",
          "data": {
            "text/plain": [
              "<matplotlib.axes._subplots.AxesSubplot at 0x7efd4bcac610>"
            ]
          },
          "metadata": {},
          "execution_count": 87
        },
        {
          "output_type": "display_data",
          "data": {
            "text/plain": [
              "<Figure size 432x288 with 1 Axes>"
            ],
            "image/png": "[encoded data removed]"
          },
          "metadata": {}
        }
      ]
    },
    {
      "cell_type": "code",
      "source": [
        "renda_maio = data_modelo.loc[(invoice_status['FirstInvoiceDate'] >= '2019-05-01') & (data_modelo['FirstInvoiceDate'] <= '2019-05-31') \n",
        "                            & (data_modelo['InvoiceDueDate'] >= '2019-08-01') & (data_modelo['InvoiceDueDate'] <= '2019-08-31') & (data_modelo['InvoiceValue'] != 0)]\n",
        "\n",
        "renda_maio = renda_maio[['Safra', 'PresumedIncome', 'OSVersion_flg', 'AddressState_flg']]\n",
        "renda_maio.describe()"
      ],
      "metadata": {
        "colab": {
          "base_uri": "https://localhost:8080/",
          "height": 300
        },
        "id": "KpLotrBSd6qF",
        "outputId": "9fdb816b-80f5-44f0-9373-a453dbcce7d8"
      },
      "execution_count": 42,
      "outputs": [
        {
          "output_type": "execute_result",
          "data": {
            "text/plain": [
              "       PresumedIncome  OSVersion_flg  AddressState_flg\n",
              "count     2022.000000    2022.000000       2022.000000\n",
              "mean      1574.026009      11.176558          8.327399\n",
              "std       1830.838461      12.671466          6.356756\n",
              "min          0.000000       0.000000          1.000000\n",
              "25%        978.200000       2.000000          3.000000\n",
              "50%       1187.845000       9.000000          7.000000\n",
              "75%       1551.957500      14.000000         14.000000\n",
              "max      41884.090000      84.000000         28.000000"
            ],
            "text/html": [
              "\n",
              "  <div id=\"df-b6d29dd3-4355-492a-9fbf-c94ad4e826b2\">\n",
              "    <div class=\"colab-df-container\">\n",
              "      <div>\n",
              "<style scoped>\n",
              "    .dataframe tbody tr th:only-of-type {\n",
              "        vertical-align: middle;\n",
              "    }\n",
              "\n",
              "    .dataframe tbody tr th {\n",
              "        vertical-align: top;\n",
              "    }\n",
              "\n",
              "    .dataframe thead th {\n",
              "        text-align: right;\n",
              "    }\n",
              "</style>\n",
              "<table border=\"1\" class=\"dataframe\">\n",
              "  <thead>\n",
              "    <tr style=\"text-align: right;\">\n",
              "      <th></th>\n",
              "      <th>PresumedIncome</th>\n",
              "      <th>OSVersion_flg</th>\n",
              "      <th>AddressState_flg</th>\n",
              "    </tr>\n",
              "  </thead>\n",
              "  <tbody>\n",
              "    <tr>\n",
              "      <th>count</th>\n",
              "      <td>2022.000000</td>\n",
              "      <td>2022.000000</td>\n",
              "      <td>2022.000000</td>\n",
              "    </tr>\n",
              "    <tr>\n",
              "      <th>mean</th>\n",
              "      <td>1574.026009</td>\n",
              "      <td>11.176558</td>\n",
              "      <td>8.327399</td>\n",
              "    </tr>\n",
              "    <tr>\n",
              "      <th>std</th>\n",
              "      <td>1830.838461</td>\n",
              "      <td>12.671466</td>\n",
              "      <td>6.356756</td>\n",
              "    </tr>\n",
              "    <tr>\n",
              "      <th>min</th>\n",
              "      <td>0.000000</td>\n",
              "      <td>0.000000</td>\n",
              "      <td>1.000000</td>\n",
              "    </tr>\n",
              "    <tr>\n",
              "      <th>25%</th>\n",
              "      <td>978.200000</td>\n",
              "      <td>2.000000</td>\n",
              "      <td>3.000000</td>\n",
              "    </tr>\n",
              "    <tr>\n",
              "      <th>50%</th>\n",
              "      <td>1187.845000</td>\n",
              "      <td>9.000000</td>\n",
              "      <td>7.000000</td>\n",
              "    </tr>\n",
              "    <tr>\n",
              "      <th>75%</th>\n",
              "      <td>1551.957500</td>\n",
              "      <td>14.000000</td>\n",
              "      <td>14.000000</td>\n",
              "    </tr>\n",
              "    <tr>\n",
              "      <th>max</th>\n",
              "      <td>41884.090000</td>\n",
              "      <td>84.000000</td>\n",
              "      <td>28.000000</td>\n",
              "    </tr>\n",
              "  </tbody>\n",
              "</table>\n",
              "</div>\n",
              "      <button class=\"colab-df-convert\" onclick=\"convertToInteractive('df-b6d29dd3-4355-492a-9fbf-c94ad4e826b2')\"\n",
              "              title=\"Convert this dataframe to an interactive table.\"\n",
              "              style=\"display:none;\">\n",
              "        \n",
              "  <svg xmlns=\"http://www.w3.org/2000/svg\" height=\"24px\"viewBox=\"0 0 24 24\"\n",
              "       width=\"24px\">\n",
              "    <path d=\"M0 0h24v24H0V0z\" fill=\"none\"/>\n",
              "    <path d=\"M18.56 5.44l.94 2.06.94-2.06 2.06-.94-2.06-.94-.94-2.06-.94 2.06-2.06.94zm-11 1L8.5 8.5l.94-2.06 2.06-.94-2.06-.94L8.5 2.5l-.94 2.06-2.06.94zm10 10l.94 2.06.94-2.06 2.06-.94-2.06-.94-.94-2.06-.94 2.06-2.06.94z\"/><path d=\"M17.41 7.96l-1.37-1.37c-.4-.4-.92-.59-1.43-.59-.52 0-1.04.2-1.43.59L10.3 9.45l-7.72 7.72c-.78.78-.78 2.05 0 2.83L4 21.41c.39.39.9.59 1.41.59.51 0 1.02-.2 1.41-.59l7.78-7.78 2.81-2.81c.8-.78.8-2.07 0-2.86zM5.41 20L4 18.59l7.72-7.72 1.47 1.35L5.41 20z\"/>\n",
              "  </svg>\n",
              "      </button>\n",
              "      \n",
              "  <style>\n",
              "    .colab-df-container {\n",
              "      display:flex;\n",
              "      flex-wrap:wrap;\n",
              "      gap: 12px;\n",
              "    }\n",
              "\n",
              "    .colab-df-convert {\n",
              "      background-color: #E8F0FE;\n",
              "      border: none;\n",
              "      border-radius: 50%;\n",
              "      cursor: pointer;\n",
              "      display: none;\n",
              "      fill: #1967D2;\n",
              "      height: 32px;\n",
              "      padding: 0 0 0 0;\n",
              "      width: 32px;\n",
              "    }\n",
              "\n",
              "    .colab-df-convert:hover {\n",
              "      background-color: #E2EBFA;\n",
              "      box-shadow: 0px 1px 2px rgba(60, 64, 67, 0.3), 0px 1px 3px 1px rgba(60, 64, 67, 0.15);\n",
              "      fill: #174EA6;\n",
              "    }\n",
              "\n",
              "    [theme=dark] .colab-df-convert {\n",
              "      background-color: #3B4455;\n",
              "      fill: #D2E3FC;\n",
              "    }\n",
              "\n",
              "    [theme=dark] .colab-df-convert:hover {\n",
              "      background-color: #434B5C;\n",
              "      box-shadow: 0px 1px 3px 1px rgba(0, 0, 0, 0.15);\n",
              "      filter: drop-shadow(0px 1px 2px rgba(0, 0, 0, 0.3));\n",
              "      fill: #FFFFFF;\n",
              "    }\n",
              "  </style>\n",
              "\n",
              "      <script>\n",
              "        const buttonEl =\n",
              "          document.querySelector('#df-b6d29dd3-4355-492a-9fbf-c94ad4e826b2 button.colab-df-convert');\n",
              "        buttonEl.style.display =\n",
              "          google.colab.kernel.accessAllowed ? 'block' : 'none';\n",
              "\n",
              "        async function convertToInteractive(key) {\n",
              "          const element = document.querySelector('#df-b6d29dd3-4355-492a-9fbf-c94ad4e826b2');\n",
              "          const dataTable =\n",
              "            await google.colab.kernel.invokeFunction('convertToInteractive',\n",
              "                                                     [key], {});\n",
              "          if (!dataTable) return;\n",
              "\n",
              "          const docLinkHtml = 'Like what you see? Visit the ' +\n",
              "            '<a target=\"_blank\" href=https://colab.research.google.com/notebooks/data_table.ipynb>data table notebook</a>'\n",
              "            + ' to learn more about interactive tables.';\n",
              "          element.innerHTML = '';\n",
              "          dataTable['output_type'] = 'display_data';\n",
              "          await google.colab.output.renderOutput(dataTable, element);\n",
              "          const docLink = document.createElement('div');\n",
              "          docLink.innerHTML = docLinkHtml;\n",
              "          element.appendChild(docLink);\n",
              "        }\n",
              "      </script>\n",
              "    </div>\n",
              "  </div>\n",
              "  "
            ]
          },
          "metadata": {},
          "execution_count": 42
        }
      ]
    },
    {
      "cell_type": "code",
      "source": [
        "renda_jun = data_modelo.loc[(invoice_status['FirstInvoiceDate'] >= '2019-06-01') & (data_modelo['FirstInvoiceDate'] <= '2019-06-30') \n",
        "                            & (data_modelo['InvoiceDueDate'] >= '2019-09-01') & (data_modelo['InvoiceDueDate'] <= '2019-09-30') & (data_modelo['InvoiceValue'] != 0)]\n",
        "\n",
        "renda_jun = renda_jun[['Safra', 'PresumedIncome']]\n",
        "renda_jun.describe()"
      ],
      "metadata": {
        "colab": {
          "base_uri": "https://localhost:8080/",
          "height": 300
        },
        "id": "QBYsoM2EgHwc",
        "outputId": "71ce0d27-6f36-4cbd-f3cb-30f78a4db8bc"
      },
      "execution_count": 43,
      "outputs": [
        {
          "output_type": "execute_result",
          "data": {
            "text/plain": [
              "       PresumedIncome\n",
              "count     1977.000000\n",
              "mean      1656.247699\n",
              "std       1956.733030\n",
              "min          0.000000\n",
              "25%        991.780000\n",
              "50%       1219.810000\n",
              "75%       1625.990000\n",
              "max      35878.330000"
            ],
            "text/html": [
              "\n",
              "  <div id=\"df-a6df5950-4568-4d38-9c89-f3b2e569aca4\">\n",
              "    <div class=\"colab-df-container\">\n",
              "      <div>\n",
              "<style scoped>\n",
              "    .dataframe tbody tr th:only-of-type {\n",
              "        vertical-align: middle;\n",
              "    }\n",
              "\n",
              "    .dataframe tbody tr th {\n",
              "        vertical-align: top;\n",
              "    }\n",
              "\n",
              "    .dataframe thead th {\n",
              "        text-align: right;\n",
              "    }\n",
              "</style>\n",
              "<table border=\"1\" class=\"dataframe\">\n",
              "  <thead>\n",
              "    <tr style=\"text-align: right;\">\n",
              "      <th></th>\n",
              "      <th>PresumedIncome</th>\n",
              "    </tr>\n",
              "  </thead>\n",
              "  <tbody>\n",
              "    <tr>\n",
              "      <th>count</th>\n",
              "      <td>1977.000000</td>\n",
              "    </tr>\n",
              "    <tr>\n",
              "      <th>mean</th>\n",
              "      <td>1656.247699</td>\n",
              "    </tr>\n",
              "    <tr>\n",
              "      <th>std</th>\n",
              "      <td>1956.733030</td>\n",
              "    </tr>\n",
              "    <tr>\n",
              "      <th>min</th>\n",
              "      <td>0.000000</td>\n",
              "    </tr>\n",
              "    <tr>\n",
              "      <th>25%</th>\n",
              "      <td>991.780000</td>\n",
              "    </tr>\n",
              "    <tr>\n",
              "      <th>50%</th>\n",
              "      <td>1219.810000</td>\n",
              "    </tr>\n",
              "    <tr>\n",
              "      <th>75%</th>\n",
              "      <td>1625.990000</td>\n",
              "    </tr>\n",
              "    <tr>\n",
              "      <th>max</th>\n",
              "      <td>35878.330000</td>\n",
              "    </tr>\n",
              "  </tbody>\n",
              "</table>\n",
              "</div>\n",
              "      <button class=\"colab-df-convert\" onclick=\"convertToInteractive('df-a6df5950-4568-4d38-9c89-f3b2e569aca4')\"\n",
              "              title=\"Convert this dataframe to an interactive table.\"\n",
              "              style=\"display:none;\">\n",
              "        \n",
              "  <svg xmlns=\"http://www.w3.org/2000/svg\" height=\"24px\"viewBox=\"0 0 24 24\"\n",
              "       width=\"24px\">\n",
              "    <path d=\"M0 0h24v24H0V0z\" fill=\"none\"/>\n",
              "    <path d=\"M18.56 5.44l.94 2.06.94-2.06 2.06-.94-2.06-.94-.94-2.06-.94 2.06-2.06.94zm-11 1L8.5 8.5l.94-2.06 2.06-.94-2.06-.94L8.5 2.5l-.94 2.06-2.06.94zm10 10l.94 2.06.94-2.06 2.06-.94-2.06-.94-.94-2.06-.94 2.06-2.06.94z\"/><path d=\"M17.41 7.96l-1.37-1.37c-.4-.4-.92-.59-1.43-.59-.52 0-1.04.2-1.43.59L10.3 9.45l-7.72 7.72c-.78.78-.78 2.05 0 2.83L4 21.41c.39.39.9.59 1.41.59.51 0 1.02-.2 1.41-.59l7.78-7.78 2.81-2.81c.8-.78.8-2.07 0-2.86zM5.41 20L4 18.59l7.72-7.72 1.47 1.35L5.41 20z\"/>\n",
              "  </svg>\n",
              "      </button>\n",
              "      \n",
              "  <style>\n",
              "    .colab-df-container {\n",
              "      display:flex;\n",
              "      flex-wrap:wrap;\n",
              "      gap: 12px;\n",
              "    }\n",
              "\n",
              "    .colab-df-convert {\n",
              "      background-color: #E8F0FE;\n",
              "      border: none;\n",
              "      border-radius: 50%;\n",
              "      cursor: pointer;\n",
              "      display: none;\n",
              "      fill: #1967D2;\n",
              "      height: 32px;\n",
              "      padding: 0 0 0 0;\n",
              "      width: 32px;\n",
              "    }\n",
              "\n",
              "    .colab-df-convert:hover {\n",
              "      background-color: #E2EBFA;\n",
              "      box-shadow: 0px 1px 2px rgba(60, 64, 67, 0.3), 0px 1px 3px 1px rgba(60, 64, 67, 0.15);\n",
              "      fill: #174EA6;\n",
              "    }\n",
              "\n",
              "    [theme=dark] .colab-df-convert {\n",
              "      background-color: #3B4455;\n",
              "      fill: #D2E3FC;\n",
              "    }\n",
              "\n",
              "    [theme=dark] .colab-df-convert:hover {\n",
              "      background-color: #434B5C;\n",
              "      box-shadow: 0px 1px 3px 1px rgba(0, 0, 0, 0.15);\n",
              "      filter: drop-shadow(0px 1px 2px rgba(0, 0, 0, 0.3));\n",
              "      fill: #FFFFFF;\n",
              "    }\n",
              "  </style>\n",
              "\n",
              "      <script>\n",
              "        const buttonEl =\n",
              "          document.querySelector('#df-a6df5950-4568-4d38-9c89-f3b2e569aca4 button.colab-df-convert');\n",
              "        buttonEl.style.display =\n",
              "          google.colab.kernel.accessAllowed ? 'block' : 'none';\n",
              "\n",
              "        async function convertToInteractive(key) {\n",
              "          const element = document.querySelector('#df-a6df5950-4568-4d38-9c89-f3b2e569aca4');\n",
              "          const dataTable =\n",
              "            await google.colab.kernel.invokeFunction('convertToInteractive',\n",
              "                                                     [key], {});\n",
              "          if (!dataTable) return;\n",
              "\n",
              "          const docLinkHtml = 'Like what you see? Visit the ' +\n",
              "            '<a target=\"_blank\" href=https://colab.research.google.com/notebooks/data_table.ipynb>data table notebook</a>'\n",
              "            + ' to learn more about interactive tables.';\n",
              "          element.innerHTML = '';\n",
              "          dataTable['output_type'] = 'display_data';\n",
              "          await google.colab.output.renderOutput(dataTable, element);\n",
              "          const docLink = document.createElement('div');\n",
              "          docLink.innerHTML = docLinkHtml;\n",
              "          element.appendChild(docLink);\n",
              "        }\n",
              "      </script>\n",
              "    </div>\n",
              "  </div>\n",
              "  "
            ]
          },
          "metadata": {},
          "execution_count": 43
        }
      ]
    },
    {
      "cell_type": "code",
      "source": [
        "rend_ago = data_modelo.loc[(data_modelo['FirstInvoiceDate'] >= '2019-08-01') & (data_modelo['FirstInvoiceDate'] <= '2019-08-31') \n",
        "                            & (data_modelo['InvoiceDueDate'] >= '2019-11-01') & (data_modelo['InvoiceDueDate'] <= '2019-11-30') & (data_modelo['InvoiceValue'] != 0)]\n",
        "\n",
        "rend_ago = rend_ago[['Safra', 'PresumedIncome']]\n",
        "rend_ago.describe()"
      ],
      "metadata": {
        "colab": {
          "base_uri": "https://localhost:8080/",
          "height": 300
        },
        "id": "fziX99R_gf-b",
        "outputId": "94e27909-d4ee-4807-8906-c6ac87b38830"
      },
      "execution_count": 44,
      "outputs": [
        {
          "output_type": "execute_result",
          "data": {
            "text/plain": [
              "       PresumedIncome\n",
              "count     1344.000000\n",
              "mean      1745.564963\n",
              "std       1416.858829\n",
              "min          0.000000\n",
              "25%       1068.320000\n",
              "50%       1314.370000\n",
              "75%       1959.987500\n",
              "max      24024.370000"
            ],
            "text/html": [
              "\n",
              "  <div id=\"df-122e4a6d-0c3e-46dc-802c-7c1e9854edd1\">\n",
              "    <div class=\"colab-df-container\">\n",
              "      <div>\n",
              "<style scoped>\n",
              "    .dataframe tbody tr th:only-of-type {\n",
              "        vertical-align: middle;\n",
              "    }\n",
              "\n",
              "    .dataframe tbody tr th {\n",
              "        vertical-align: top;\n",
              "    }\n",
              "\n",
              "    .dataframe thead th {\n",
              "        text-align: right;\n",
              "    }\n",
              "</style>\n",
              "<table border=\"1\" class=\"dataframe\">\n",
              "  <thead>\n",
              "    <tr style=\"text-align: right;\">\n",
              "      <th></th>\n",
              "      <th>PresumedIncome</th>\n",
              "    </tr>\n",
              "  </thead>\n",
              "  <tbody>\n",
              "    <tr>\n",
              "      <th>count</th>\n",
              "      <td>1344.000000</td>\n",
              "    </tr>\n",
              "    <tr>\n",
              "      <th>mean</th>\n",
              "      <td>1745.564963</td>\n",
              "    </tr>\n",
              "    <tr>\n",
              "      <th>std</th>\n",
              "      <td>1416.858829</td>\n",
              "    </tr>\n",
              "    <tr>\n",
              "      <th>min</th>\n",
              "      <td>0.000000</td>\n",
              "    </tr>\n",
              "    <tr>\n",
              "      <th>25%</th>\n",
              "      <td>1068.320000</td>\n",
              "    </tr>\n",
              "    <tr>\n",
              "      <th>50%</th>\n",
              "      <td>1314.370000</td>\n",
              "    </tr>\n",
              "    <tr>\n",
              "      <th>75%</th>\n",
              "      <td>1959.987500</td>\n",
              "    </tr>\n",
              "    <tr>\n",
              "      <th>max</th>\n",
              "      <td>24024.370000</td>\n",
              "    </tr>\n",
              "  </tbody>\n",
              "</table>\n",
              "</div>\n",
              "      <button class=\"colab-df-convert\" onclick=\"convertToInteractive('df-122e4a6d-0c3e-46dc-802c-7c1e9854edd1')\"\n",
              "              title=\"Convert this dataframe to an interactive table.\"\n",
              "              style=\"display:none;\">\n",
              "        \n",
              "  <svg xmlns=\"http://www.w3.org/2000/svg\" height=\"24px\"viewBox=\"0 0 24 24\"\n",
              "       width=\"24px\">\n",
              "    <path d=\"M0 0h24v24H0V0z\" fill=\"none\"/>\n",
              "    <path d=\"M18.56 5.44l.94 2.06.94-2.06 2.06-.94-2.06-.94-.94-2.06-.94 2.06-2.06.94zm-11 1L8.5 8.5l.94-2.06 2.06-.94-2.06-.94L8.5 2.5l-.94 2.06-2.06.94zm10 10l.94 2.06.94-2.06 2.06-.94-2.06-.94-.94-2.06-.94 2.06-2.06.94z\"/><path d=\"M17.41 7.96l-1.37-1.37c-.4-.4-.92-.59-1.43-.59-.52 0-1.04.2-1.43.59L10.3 9.45l-7.72 7.72c-.78.78-.78 2.05 0 2.83L4 21.41c.39.39.9.59 1.41.59.51 0 1.02-.2 1.41-.59l7.78-7.78 2.81-2.81c.8-.78.8-2.07 0-2.86zM5.41 20L4 18.59l7.72-7.72 1.47 1.35L5.41 20z\"/>\n",
              "  </svg>\n",
              "      </button>\n",
              "      \n",
              "  <style>\n",
              "    .colab-df-container {\n",
              "      display:flex;\n",
              "      flex-wrap:wrap;\n",
              "      gap: 12px;\n",
              "    }\n",
              "\n",
              "    .colab-df-convert {\n",
              "      background-color: #E8F0FE;\n",
              "      border: none;\n",
              "      border-radius: 50%;\n",
              "      cursor: pointer;\n",
              "      display: none;\n",
              "      fill: #1967D2;\n",
              "      height: 32px;\n",
              "      padding: 0 0 0 0;\n",
              "      width: 32px;\n",
              "    }\n",
              "\n",
              "    .colab-df-convert:hover {\n",
              "      background-color: #E2EBFA;\n",
              "      box-shadow: 0px 1px 2px rgba(60, 64, 67, 0.3), 0px 1px 3px 1px rgba(60, 64, 67, 0.15);\n",
              "      fill: #174EA6;\n",
              "    }\n",
              "\n",
              "    [theme=dark] .colab-df-convert {\n",
              "      background-color: #3B4455;\n",
              "      fill: #D2E3FC;\n",
              "    }\n",
              "\n",
              "    [theme=dark] .colab-df-convert:hover {\n",
              "      background-color: #434B5C;\n",
              "      box-shadow: 0px 1px 3px 1px rgba(0, 0, 0, 0.15);\n",
              "      filter: drop-shadow(0px 1px 2px rgba(0, 0, 0, 0.3));\n",
              "      fill: #FFFFFF;\n",
              "    }\n",
              "  </style>\n",
              "\n",
              "      <script>\n",
              "        const buttonEl =\n",
              "          document.querySelector('#df-122e4a6d-0c3e-46dc-802c-7c1e9854edd1 button.colab-df-convert');\n",
              "        buttonEl.style.display =\n",
              "          google.colab.kernel.accessAllowed ? 'block' : 'none';\n",
              "\n",
              "        async function convertToInteractive(key) {\n",
              "          const element = document.querySelector('#df-122e4a6d-0c3e-46dc-802c-7c1e9854edd1');\n",
              "          const dataTable =\n",
              "            await google.colab.kernel.invokeFunction('convertToInteractive',\n",
              "                                                     [key], {});\n",
              "          if (!dataTable) return;\n",
              "\n",
              "          const docLinkHtml = 'Like what you see? Visit the ' +\n",
              "            '<a target=\"_blank\" href=https://colab.research.google.com/notebooks/data_table.ipynb>data table notebook</a>'\n",
              "            + ' to learn more about interactive tables.';\n",
              "          element.innerHTML = '';\n",
              "          dataTable['output_type'] = 'display_data';\n",
              "          await google.colab.output.renderOutput(dataTable, element);\n",
              "          const docLink = document.createElement('div');\n",
              "          docLink.innerHTML = docLinkHtml;\n",
              "          element.appendChild(docLink);\n",
              "        }\n",
              "      </script>\n",
              "    </div>\n",
              "  </div>\n",
              "  "
            ]
          },
          "metadata": {},
          "execution_count": 44
        }
      ]
    },
    {
      "cell_type": "markdown",
      "source": [
        "**Dataset preparado para ML**"
      ],
      "metadata": {
        "id": "ffk3fHc8O_zJ"
      }
    },
    {
      "cell_type": "code",
      "source": [
        "data_modelo_v2 = data_modelo.loc[:, ['InvoiceStatus_flg', 'InvoiceValue', 'PresumedIncome', 'Platform_flg', 'AddressState_flg', 'fx_idade_flg', 'OSVersion_flg', 'Gender_flg']]\n",
        "data_modelo_v2.head(3)"
      ],
      "metadata": {
        "colab": {
          "base_uri": "https://localhost:8080/",
          "height": 143
        },
        "id": "7aIY13mCHlTk",
        "outputId": "0d9d1e00-1d05-4ce7-bc49-079c9f5f89b2"
      },
      "execution_count": 110,
      "outputs": [
        {
          "output_type": "execute_result",
          "data": {
            "text/plain": [
              "        InvoiceStatus_flg  InvoiceValue  PresumedIncome  Platform_flg  \\\n",
              "6473                    0         27.75           760.6             1   \n",
              "37283                   1        569.96           760.6             1   \n",
              "105705                  1        503.33           760.6             1   \n",
              "\n",
              "        AddressState_flg  fx_idade_flg  OSVersion_flg  Gender_flg  \n",
              "6473                   1             1              1           2  \n",
              "37283                  1             1              1           2  \n",
              "105705                 1             1              1           2  "
            ],
            "text/html": [
              "\n",
              "  <div id=\"df-9f8ed315-5867-4aca-be6f-59a2dd94474c\">\n",
              "    <div class=\"colab-df-container\">\n",
              "      <div>\n",
              "<style scoped>\n",
              "    .dataframe tbody tr th:only-of-type {\n",
              "        vertical-align: middle;\n",
              "    }\n",
              "\n",
              "    .dataframe tbody tr th {\n",
              "        vertical-align: top;\n",
              "    }\n",
              "\n",
              "    .dataframe thead th {\n",
              "        text-align: right;\n",
              "    }\n",
              "</style>\n",
              "<table border=\"1\" class=\"dataframe\">\n",
              "  <thead>\n",
              "    <tr style=\"text-align: right;\">\n",
              "      <th></th>\n",
              "      <th>InvoiceStatus_flg</th>\n",
              "      <th>InvoiceValue</th>\n",
              "      <th>PresumedIncome</th>\n",
              "      <th>Platform_flg</th>\n",
              "      <th>AddressState_flg</th>\n",
              "      <th>fx_idade_flg</th>\n",
              "      <th>OSVersion_flg</th>\n",
              "      <th>Gender_flg</th>\n",
              "    </tr>\n",
              "  </thead>\n",
              "  <tbody>\n",
              "    <tr>\n",
              "      <th>6473</th>\n",
              "      <td>0</td>\n",
              "      <td>27.75</td>\n",
              "      <td>760.6</td>\n",
              "      <td>1</td>\n",
              "      <td>1</td>\n",
              "      <td>1</td>\n",
              "      <td>1</td>\n",
              "      <td>2</td>\n",
              "    </tr>\n",
              "    <tr>\n",
              "      <th>37283</th>\n",
              "      <td>1</td>\n",
              "      <td>569.96</td>\n",
              "      <td>760.6</td>\n",
              "      <td>1</td>\n",
              "      <td>1</td>\n",
              "      <td>1</td>\n",
              "      <td>1</td>\n",
              "      <td>2</td>\n",
              "    </tr>\n",
              "    <tr>\n",
              "      <th>105705</th>\n",
              "      <td>1</td>\n",
              "      <td>503.33</td>\n",
              "      <td>760.6</td>\n",
              "      <td>1</td>\n",
              "      <td>1</td>\n",
              "      <td>1</td>\n",
              "      <td>1</td>\n",
              "      <td>2</td>\n",
              "    </tr>\n",
              "  </tbody>\n",
              "</table>\n",
              "</div>\n",
              "      <button class=\"colab-df-convert\" onclick=\"convertToInteractive('df-9f8ed315-5867-4aca-be6f-59a2dd94474c')\"\n",
              "              title=\"Convert this dataframe to an interactive table.\"\n",
              "              style=\"display:none;\">\n",
              "        \n",
              "  <svg xmlns=\"http://www.w3.org/2000/svg\" height=\"24px\"viewBox=\"0 0 24 24\"\n",
              "       width=\"24px\">\n",
              "    <path d=\"M0 0h24v24H0V0z\" fill=\"none\"/>\n",
              "    <path d=\"M18.56 5.44l.94 2.06.94-2.06 2.06-.94-2.06-.94-.94-2.06-.94 2.06-2.06.94zm-11 1L8.5 8.5l.94-2.06 2.06-.94-2.06-.94L8.5 2.5l-.94 2.06-2.06.94zm10 10l.94 2.06.94-2.06 2.06-.94-2.06-.94-.94-2.06-.94 2.06-2.06.94z\"/><path d=\"M17.41 7.96l-1.37-1.37c-.4-.4-.92-.59-1.43-.59-.52 0-1.04.2-1.43.59L10.3 9.45l-7.72 7.72c-.78.78-.78 2.05 0 2.83L4 21.41c.39.39.9.59 1.41.59.51 0 1.02-.2 1.41-.59l7.78-7.78 2.81-2.81c.8-.78.8-2.07 0-2.86zM5.41 20L4 18.59l7.72-7.72 1.47 1.35L5.41 20z\"/>\n",
              "  </svg>\n",
              "      </button>\n",
              "      \n",
              "  <style>\n",
              "    .colab-df-container {\n",
              "      display:flex;\n",
              "      flex-wrap:wrap;\n",
              "      gap: 12px;\n",
              "    }\n",
              "\n",
              "    .colab-df-convert {\n",
              "      background-color: #E8F0FE;\n",
              "      border: none;\n",
              "      border-radius: 50%;\n",
              "      cursor: pointer;\n",
              "      display: none;\n",
              "      fill: #1967D2;\n",
              "      height: 32px;\n",
              "      padding: 0 0 0 0;\n",
              "      width: 32px;\n",
              "    }\n",
              "\n",
              "    .colab-df-convert:hover {\n",
              "      background-color: #E2EBFA;\n",
              "      box-shadow: 0px 1px 2px rgba(60, 64, 67, 0.3), 0px 1px 3px 1px rgba(60, 64, 67, 0.15);\n",
              "      fill: #174EA6;\n",
              "    }\n",
              "\n",
              "    [theme=dark] .colab-df-convert {\n",
              "      background-color: #3B4455;\n",
              "      fill: #D2E3FC;\n",
              "    }\n",
              "\n",
              "    [theme=dark] .colab-df-convert:hover {\n",
              "      background-color: #434B5C;\n",
              "      box-shadow: 0px 1px 3px 1px rgba(0, 0, 0, 0.15);\n",
              "      filter: drop-shadow(0px 1px 2px rgba(0, 0, 0, 0.3));\n",
              "      fill: #FFFFFF;\n",
              "    }\n",
              "  </style>\n",
              "\n",
              "      <script>\n",
              "        const buttonEl =\n",
              "          document.querySelector('#df-9f8ed315-5867-4aca-be6f-59a2dd94474c button.colab-df-convert');\n",
              "        buttonEl.style.display =\n",
              "          google.colab.kernel.accessAllowed ? 'block' : 'none';\n",
              "\n",
              "        async function convertToInteractive(key) {\n",
              "          const element = document.querySelector('#df-9f8ed315-5867-4aca-be6f-59a2dd94474c');\n",
              "          const dataTable =\n",
              "            await google.colab.kernel.invokeFunction('convertToInteractive',\n",
              "                                                     [key], {});\n",
              "          if (!dataTable) return;\n",
              "\n",
              "          const docLinkHtml = 'Like what you see? Visit the ' +\n",
              "            '<a target=\"_blank\" href=https://colab.research.google.com/notebooks/data_table.ipynb>data table notebook</a>'\n",
              "            + ' to learn more about interactive tables.';\n",
              "          element.innerHTML = '';\n",
              "          dataTable['output_type'] = 'display_data';\n",
              "          await google.colab.output.renderOutput(dataTable, element);\n",
              "          const docLink = document.createElement('div');\n",
              "          docLink.innerHTML = docLinkHtml;\n",
              "          element.appendChild(docLink);\n",
              "        }\n",
              "      </script>\n",
              "    </div>\n",
              "  </div>\n",
              "  "
            ]
          },
          "metadata": {},
          "execution_count": 110
        }
      ]
    },
    {
      "cell_type": "markdown",
      "source": [
        "**Regressão Logística**"
      ],
      "metadata": {
        "id": "s9oJ3DVqhA8Z"
      }
    },
    {
      "cell_type": "code",
      "source": [
        "from sklearn.linear_model import LogisticRegression\n",
        "from sklearn.model_selection import train_test_split\n",
        "from sklearn.metrics import accuracy_score, classification_report, confusion_matrix, ConfusionMatrixDisplay\n",
        "\n",
        "X = data_modelo_v2.iloc[:, [1, 2, 3, 4, 5, 6, 7]].values\n",
        "y = data_modelo_v2.iloc[:, [0]].values\n",
        "\n",
        "X_train, X_test, y_train, y_test = train_test_split( X, y, test_size=0.30, random_state=42)"
      ],
      "metadata": {
        "id": "olhdW7RfJiFj"
      },
      "execution_count": 102,
      "outputs": []
    },
    {
      "cell_type": "code",
      "source": [
        "model = LogisticRegression(max_iter=1000)\n",
        "model.fit(X_train, y_train)\n",
        "\n",
        "y_train_pred = model.predict(X_train)\n",
        "print('Acurácia no treino :', round(accuracy_score(y_train, y_train_pred), 5))\n",
        "\n",
        "y_pred = model.predict(X_test)\n",
        "print('Acurácia no teste :', round(accuracy_score(y_test, y_pred), 5))"
      ],
      "metadata": {
        "colab": {
          "base_uri": "https://localhost:8080/"
        },
        "id": "o-h71OZyOTrJ",
        "outputId": "3740dc64-f814-4378-e325-79a6cc5d4ba5"
      },
      "execution_count": 104,
      "outputs": [
        {
          "output_type": "stream",
          "name": "stdout",
          "text": [
            "Acurácia no treino : 0.90328\n",
            "Acurácia no teste : 0.90116\n"
          ]
        }
      ]
    },
    {
      "cell_type": "markdown",
      "source": [
        "**Avaliação do Modelo -  Matriz de Confusão**"
      ],
      "metadata": {
        "id": "QQlYgsiHTdXR"
      }
    },
    {
      "cell_type": "code",
      "source": [
        "cm = confusion_matrix(y_test, y_pred, labels=model.classes_)\n",
        "\n",
        "disp = ConfusionMatrixDisplay(confusion_matrix=cm, display_labels=['Adimplente', 'Inadimplente'])\n",
        "disp.plot()\n",
        "plt.show()"
      ],
      "metadata": {
        "colab": {
          "base_uri": "https://localhost:8080/",
          "height": 285
        },
        "id": "p4tSMbqchVKS",
        "outputId": "7569964a-232f-4b29-b9b2-3fbd9e48b7d6"
      },
      "execution_count": 118,
      "outputs": [
        {
          "output_type": "display_data",
          "data": {
            "text/plain": [
              "<Figure size 432x288 with 2 Axes>"
            ],
            "image/png": "[encoded data removed]"
          },
          "metadata": {}
        }
      ]
    },
    {
      "cell_type": "markdown",
      "source": [
        "**Árvore de Decisão**"
      ],
      "metadata": {
        "id": "9Rk6Fmg9g4kW"
      }
    },
    {
      "cell_type": "code",
      "source": [
        "from sklearn.tree import DecisionTreeClassifier\n",
        "tree = DecisionTreeClassifier(max_depth = 15, random_state = 0)\n",
        "tree.fit(X_train, y_train)\n",
        "y_train_pred = tree.predict(X_train)\n",
        "print('Acurácia no treino :', round(accuracy_score(y_train, y_train_pred), 5))\n",
        "\n",
        "y_pred = tree.predict(X_test)\n",
        "print('Acurácia no teste :', round(accuracy_score(y_test, y_pred), 5))"
      ],
      "metadata": {
        "colab": {
          "base_uri": "https://localhost:8080/"
        },
        "id": "4DBiEPahgUyE",
        "outputId": "09ca35ac-5022-4837-a1ed-313eebf68fb9"
      },
      "execution_count": 119,
      "outputs": [
        {
          "output_type": "stream",
          "name": "stdout",
          "text": [
            "Acurácia no treino : 0.95205\n",
            "Acurácia no teste : 0.90381\n"
          ]
        }
      ]
    },
    {
      "cell_type": "markdown",
      "source": [
        "**Avaliação do Modelo -  Matriz de Confusão**"
      ],
      "metadata": {
        "id": "3ulpIg5NlsYS"
      }
    },
    {
      "cell_type": "code",
      "source": [
        "cm = confusion_matrix(y_test, y_pred, labels=model.classes_)\n",
        "\n",
        "disp = ConfusionMatrixDisplay(confusion_matrix=cm, display_labels=['Adimplente', 'Inadimplente'])\n",
        "disp.plot()\n",
        "plt.figure(figsize=(10,10))\n",
        "plt.show()"
      ],
      "metadata": {
        "colab": {
          "base_uri": "https://localhost:8080/",
          "height": 303
        },
        "id": "Emt6a_mdkpYz",
        "outputId": "7ca0f032-e064-4cfb-fdb1-be4d75e08436"
      },
      "execution_count": 124,
      "outputs": [
        {
          "output_type": "display_data",
          "data": {
            "text/plain": [
              "<Figure size 432x288 with 2 Axes>"
            ],
            "image/png": "[encoded data removed]"
          },
          "metadata": {}
        },
        {
          "output_type": "display_data",
          "data": {
            "text/plain": [
              "<Figure size 720x720 with 0 Axes>"
            ]
          },
          "metadata": {}
        }
      ]
    },
    {
      "cell_type": "markdown",
      "source": [
        "**Importância das variáveis para explicar a inadimplência**"
      ],
      "metadata": {
        "id": "lpynbKj1TivQ"
      }
    },
    {
      "cell_type": "code",
      "source": [
        "import math\n",
        "\n",
        "w0, w1, w2, w3, w4, w5, w6 = model.coef_[0]\n",
        "w = [w0, w1, w2, w3, w4, w5, w6]\n",
        "\n",
        "names = ['InvoiceValue', 'PresumedIncome', 'Platform_flg', 'AddressState_flg', 'fx_idade_flg', 'OSVersion_flg', 'Gender_flg']\n",
        "df_importance = pd.DataFrame(names, columns=['variavel'])\n",
        "df_importance['importancia'] = pow(math.e, np.array(w))\n",
        "\n",
        "df_importance.sort_values(ascending=False, by='importancia')"
      ],
      "metadata": {
        "id": "hj404XgcRmR5",
        "colab": {
          "base_uri": "https://localhost:8080/",
          "height": 269
        },
        "outputId": "01b291bd-68ab-4382-f918-c47ea81e24e7"
      },
      "execution_count": 49,
      "outputs": [
        {
          "output_type": "execute_result",
          "data": {
            "text/plain": [
              "           variavel  importancia\n",
              "3  AddressState_flg     1.003534\n",
              "0      InvoiceValue     1.002900\n",
              "1    PresumedIncome     0.998325\n",
              "5     OSVersion_flg     0.984068\n",
              "4      fx_idade_flg     0.901200\n",
              "6        Gender_flg     0.789643\n",
              "2      Platform_flg     0.778996"
            ],
            "text/html": [
              "\n",
              "  <div id=\"df-f35f486d-fb4a-4a7d-81fe-8a01a6a12a44\">\n",
              "    <div class=\"colab-df-container\">\n",
              "      <div>\n",
              "<style scoped>\n",
              "    .dataframe tbody tr th:only-of-type {\n",
              "        vertical-align: middle;\n",
              "    }\n",
              "\n",
              "    .dataframe tbody tr th {\n",
              "        vertical-align: top;\n",
              "    }\n",
              "\n",
              "    .dataframe thead th {\n",
              "        text-align: right;\n",
              "    }\n",
              "</style>\n",
              "<table border=\"1\" class=\"dataframe\">\n",
              "  <thead>\n",
              "    <tr style=\"text-align: right;\">\n",
              "      <th></th>\n",
              "      <th>variavel</th>\n",
              "      <th>importancia</th>\n",
              "    </tr>\n",
              "  </thead>\n",
              "  <tbody>\n",
              "    <tr>\n",
              "      <th>3</th>\n",
              "      <td>AddressState_flg</td>\n",
              "      <td>1.003534</td>\n",
              "    </tr>\n",
              "    <tr>\n",
              "      <th>0</th>\n",
              "      <td>InvoiceValue</td>\n",
              "      <td>1.002900</td>\n",
              "    </tr>\n",
              "    <tr>\n",
              "      <th>1</th>\n",
              "      <td>PresumedIncome</td>\n",
              "      <td>0.998325</td>\n",
              "    </tr>\n",
              "    <tr>\n",
              "      <th>5</th>\n",
              "      <td>OSVersion_flg</td>\n",
              "      <td>0.984068</td>\n",
              "    </tr>\n",
              "    <tr>\n",
              "      <th>4</th>\n",
              "      <td>fx_idade_flg</td>\n",
              "      <td>0.901200</td>\n",
              "    </tr>\n",
              "    <tr>\n",
              "      <th>6</th>\n",
              "      <td>Gender_flg</td>\n",
              "      <td>0.789643</td>\n",
              "    </tr>\n",
              "    <tr>\n",
              "      <th>2</th>\n",
              "      <td>Platform_flg</td>\n",
              "      <td>0.778996</td>\n",
              "    </tr>\n",
              "  </tbody>\n",
              "</table>\n",
              "</div>\n",
              "      <button class=\"colab-df-convert\" onclick=\"convertToInteractive('df-f35f486d-fb4a-4a7d-81fe-8a01a6a12a44')\"\n",
              "              title=\"Convert this dataframe to an interactive table.\"\n",
              "              style=\"display:none;\">\n",
              "        \n",
              "  <svg xmlns=\"http://www.w3.org/2000/svg\" height=\"24px\"viewBox=\"0 0 24 24\"\n",
              "       width=\"24px\">\n",
              "    <path d=\"M0 0h24v24H0V0z\" fill=\"none\"/>\n",
              "    <path d=\"M18.56 5.44l.94 2.06.94-2.06 2.06-.94-2.06-.94-.94-2.06-.94 2.06-2.06.94zm-11 1L8.5 8.5l.94-2.06 2.06-.94-2.06-.94L8.5 2.5l-.94 2.06-2.06.94zm10 10l.94 2.06.94-2.06 2.06-.94-2.06-.94-.94-2.06-.94 2.06-2.06.94z\"/><path d=\"M17.41 7.96l-1.37-1.37c-.4-.4-.92-.59-1.43-.59-.52 0-1.04.2-1.43.59L10.3 9.45l-7.72 7.72c-.78.78-.78 2.05 0 2.83L4 21.41c.39.39.9.59 1.41.59.51 0 1.02-.2 1.41-.59l7.78-7.78 2.81-2.81c.8-.78.8-2.07 0-2.86zM5.41 20L4 18.59l7.72-7.72 1.47 1.35L5.41 20z\"/>\n",
              "  </svg>\n",
              "      </button>\n",
              "      \n",
              "  <style>\n",
              "    .colab-df-container {\n",
              "      display:flex;\n",
              "      flex-wrap:wrap;\n",
              "      gap: 12px;\n",
              "    }\n",
              "\n",
              "    .colab-df-convert {\n",
              "      background-color: #E8F0FE;\n",
              "      border: none;\n",
              "      border-radius: 50%;\n",
              "      cursor: pointer;\n",
              "      display: none;\n",
              "      fill: #1967D2;\n",
              "      height: 32px;\n",
              "      padding: 0 0 0 0;\n",
              "      width: 32px;\n",
              "    }\n",
              "\n",
              "    .colab-df-convert:hover {\n",
              "      background-color: #E2EBFA;\n",
              "      box-shadow: 0px 1px 2px rgba(60, 64, 67, 0.3), 0px 1px 3px 1px rgba(60, 64, 67, 0.15);\n",
              "      fill: #174EA6;\n",
              "    }\n",
              "\n",
              "    [theme=dark] .colab-df-convert {\n",
              "      background-color: #3B4455;\n",
              "      fill: #D2E3FC;\n",
              "    }\n",
              "\n",
              "    [theme=dark] .colab-df-convert:hover {\n",
              "      background-color: #434B5C;\n",
              "      box-shadow: 0px 1px 3px 1px rgba(0, 0, 0, 0.15);\n",
              "      filter: drop-shadow(0px 1px 2px rgba(0, 0, 0, 0.3));\n",
              "      fill: #FFFFFF;\n",
              "    }\n",
              "  </style>\n",
              "\n",
              "      <script>\n",
              "        const buttonEl =\n",
              "          document.querySelector('#df-f35f486d-fb4a-4a7d-81fe-8a01a6a12a44 button.colab-df-convert');\n",
              "        buttonEl.style.display =\n",
              "          google.colab.kernel.accessAllowed ? 'block' : 'none';\n",
              "\n",
              "        async function convertToInteractive(key) {\n",
              "          const element = document.querySelector('#df-f35f486d-fb4a-4a7d-81fe-8a01a6a12a44');\n",
              "          const dataTable =\n",
              "            await google.colab.kernel.invokeFunction('convertToInteractive',\n",
              "                                                     [key], {});\n",
              "          if (!dataTable) return;\n",
              "\n",
              "          const docLinkHtml = 'Like what you see? Visit the ' +\n",
              "            '<a target=\"_blank\" href=https://colab.research.google.com/notebooks/data_table.ipynb>data table notebook</a>'\n",
              "            + ' to learn more about interactive tables.';\n",
              "          element.innerHTML = '';\n",
              "          dataTable['output_type'] = 'display_data';\n",
              "          await google.colab.output.renderOutput(dataTable, element);\n",
              "          const docLink = document.createElement('div');\n",
              "          docLink.innerHTML = docLinkHtml;\n",
              "          element.appendChild(docLink);\n",
              "        }\n",
              "      </script>\n",
              "    </div>\n",
              "  </div>\n",
              "  "
            ]
          },
          "metadata": {},
          "execution_count": 49
        }
      ]
    },
    {
      "cell_type": "markdown",
      "source": [
        "**CONCLUSÕES**\n",
        "\n",
        "\n",
        "1.   As variáveis: AddressState, InvoiValue e PresumedIncome possuem maior importância para o modelo de Machine Learning. Agora que validamos o modelo, podemos desenvolver estratégias de crédito personalizadas para cada cluster de clientes e o monitoramento da performance.\n",
        "\n",
        "2.   O principal motivo do aumento da taxa de inadimplências em meses específicos foi ovolume de crédito concedido para um perfil de público jovem (idade até 30 anos). Esse público possui renda média significativamente abaixo de outros clusters.\n",
        "\n",
        "3.  A construção e novas variáveis (feature engineering) se mostrou essencial para avançarmnos no estudo, uma vez que tanto variável idade e as variáveis categóricas (flags) não existiam nos datasets originais. \n",
        "\n",
        "4. A performance dos modelos de Machine Learning variaram significativamente. O processo de validação e escolha do modelo é sempre iterativo.\n",
        "\n",
        "5. O over30 mob3 se manteve num patamar estavel durante o período analisado. Com excessão às safras de maio e junho, observamos o número em torno de 10% nas safras. \n",
        "\n",
        "6. Validamos analiticamente que a variável \"Platform_flg\" não tem grande importancia para o modelo de inadimplãncia. Isso contrapõe a hipótese (que parecia ser óbvia) em que usuários de iPhone teriam uma taxa de inadimplância menor e que existia uma correlação forte entre essa variável e a inadimplência.\n",
        "\n",
        "**Obrigado!**\n",
        "\n"
      ],
      "metadata": {
        "id": "CEmcZZlYlxx7"
      }
    }
  ]
}