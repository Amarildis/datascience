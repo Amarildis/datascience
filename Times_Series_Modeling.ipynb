{
  "nbformat": 4,
  "nbformat_minor": 0,
  "metadata": {
    "colab": {
      "name": "Times Series Modeling.ipynb",
      "provenance": [],
      "authorship_tag": "ABX9TyMDLLVVl5F3+itAgN9sO+/P",
      "include_colab_link": true
    },
    "kernelspec": {
      "name": "python3",
      "display_name": "Python 3"
    },
    "language_info": {
      "name": "python"
    }
  },
  "cells": [
    {
      "cell_type": "markdown",
      "metadata": {
        "id": "view-in-github",
        "colab_type": "text"
      },
      "source": [
        "<a href=\"https://colab.research.google.com/github/amarildo86/datascience/blob/master/Times_Series_Modeling.ipynb\" target=\"_parent\"><img src=\"https://colab.research.google.com/assets/colab-badge.svg\" alt=\"Open In Colab\"/></a>"
      ]
    },
    {
      "cell_type": "markdown",
      "source": [
        "### Modelagem de Séries Temporais\n",
        "#### ARIMA - Autoregressive Integrated Moving Average\n",
        "\n",
        "\n",
        "**Prós:**\n",
        "*   Permite trabalhar com dados brutos, sem considerar se eles são estacionários.\n",
        "*   Bom desempenho com dados de alta frequência.\n",
        "*   É menos senssível à futuação nos dados quando comparado com outros. modelos\n",
        "\n",
        "**Contras**\n",
        "*   Pode falhar em capturar sasonalidade.\n",
        "*   Funciona melhor com longas séries e termo curto de dados (dia, houra).\n",
        "*   Como nenhuma atualização automática ocorre no ARIMA, nenhuma quebra estrutural durante\n",
        "o período de análise deve ser observado.\n",
        "*   Não ter nenhum ajuste no processo ARIMA leva à instabilidade.\n",
        "\n",
        "\n",
        "\n",
        "\n",
        "\n",
        "\n"
      ],
      "metadata": {
        "id": "yBNpvL-GMNdy"
      }
    },
    {
      "cell_type": "code",
      "source": [
        "import pandas as pd\n",
        "import yfinance as yf\n",
        "import datetime\n",
        "\n",
        "ticker = ['AAPL', 'MSFT', 'TSLA']\n",
        "inicio = datetime.datetime(2019, 1, 1)\n",
        "fim = datetime.datetime(2021, 10, 1)\n",
        "preco_acoes = yf.download(ticker, start=start, end=end, interval='1d')"
      ],
      "metadata": {
        "colab": {
          "base_uri": "https://localhost:8080/"
        },
        "id": "ztVps_IVKyJo",
        "outputId": "beda0269-d14f-4da2-f591-d6a78489d4ff"
      },
      "execution_count": null,
      "outputs": [
        {
          "output_type": "stream",
          "name": "stdout",
          "text": [
            "[*********************100%***********************]  3 of 3 completed\n"
          ]
        }
      ]
    },
    {
      "cell_type": "code",
      "source": [
        "preco_acoes.head(2)"
      ],
      "metadata": {
        "colab": {
          "base_uri": "https://localhost:8080/",
          "height": 195
        },
        "id": "oCET7N17Qa4S",
        "outputId": "2723a368-2d5d-4f35-c3ba-8668d6ad8770"
      },
      "execution_count": null,
      "outputs": [
        {
          "output_type": "execute_result",
          "data": {
            "text/html": [
              "<div>\n",
              "<style scoped>\n",
              "    .dataframe tbody tr th:only-of-type {\n",
              "        vertical-align: middle;\n",
              "    }\n",
              "\n",
              "    .dataframe tbody tr th {\n",
              "        vertical-align: top;\n",
              "    }\n",
              "\n",
              "    .dataframe thead tr th {\n",
              "        text-align: left;\n",
              "    }\n",
              "\n",
              "    .dataframe thead tr:last-of-type th {\n",
              "        text-align: right;\n",
              "    }\n",
              "</style>\n",
              "<table border=\"1\" class=\"dataframe\">\n",
              "  <thead>\n",
              "    <tr>\n",
              "      <th></th>\n",
              "      <th colspan=\"3\" halign=\"left\">Adj Close</th>\n",
              "      <th colspan=\"3\" halign=\"left\">Close</th>\n",
              "      <th colspan=\"3\" halign=\"left\">High</th>\n",
              "      <th colspan=\"3\" halign=\"left\">Low</th>\n",
              "      <th colspan=\"3\" halign=\"left\">Open</th>\n",
              "      <th colspan=\"3\" halign=\"left\">Volume</th>\n",
              "    </tr>\n",
              "    <tr>\n",
              "      <th></th>\n",
              "      <th>AAPL</th>\n",
              "      <th>MSFT</th>\n",
              "      <th>TSLA</th>\n",
              "      <th>AAPL</th>\n",
              "      <th>MSFT</th>\n",
              "      <th>TSLA</th>\n",
              "      <th>AAPL</th>\n",
              "      <th>MSFT</th>\n",
              "      <th>TSLA</th>\n",
              "      <th>AAPL</th>\n",
              "      <th>MSFT</th>\n",
              "      <th>TSLA</th>\n",
              "      <th>AAPL</th>\n",
              "      <th>MSFT</th>\n",
              "      <th>TSLA</th>\n",
              "      <th>AAPL</th>\n",
              "      <th>MSFT</th>\n",
              "      <th>TSLA</th>\n",
              "    </tr>\n",
              "    <tr>\n",
              "      <th>Date</th>\n",
              "      <th></th>\n",
              "      <th></th>\n",
              "      <th></th>\n",
              "      <th></th>\n",
              "      <th></th>\n",
              "      <th></th>\n",
              "      <th></th>\n",
              "      <th></th>\n",
              "      <th></th>\n",
              "      <th></th>\n",
              "      <th></th>\n",
              "      <th></th>\n",
              "      <th></th>\n",
              "      <th></th>\n",
              "      <th></th>\n",
              "      <th></th>\n",
              "      <th></th>\n",
              "      <th></th>\n",
              "    </tr>\n",
              "  </thead>\n",
              "  <tbody>\n",
              "    <tr>\n",
              "      <th>2019-01-02</th>\n",
              "      <td>38.326290</td>\n",
              "      <td>97.782425</td>\n",
              "      <td>62.023998</td>\n",
              "      <td>39.480000</td>\n",
              "      <td>101.120003</td>\n",
              "      <td>62.023998</td>\n",
              "      <td>39.712502</td>\n",
              "      <td>101.750000</td>\n",
              "      <td>63.026001</td>\n",
              "      <td>38.557499</td>\n",
              "      <td>98.940002</td>\n",
              "      <td>59.759998</td>\n",
              "      <td>38.722500</td>\n",
              "      <td>99.550003</td>\n",
              "      <td>61.220001</td>\n",
              "      <td>148158800</td>\n",
              "      <td>35329300</td>\n",
              "      <td>58293000</td>\n",
              "    </tr>\n",
              "    <tr>\n",
              "      <th>2019-01-03</th>\n",
              "      <td>34.508713</td>\n",
              "      <td>94.185204</td>\n",
              "      <td>60.071999</td>\n",
              "      <td>35.547501</td>\n",
              "      <td>97.400002</td>\n",
              "      <td>60.071999</td>\n",
              "      <td>36.430000</td>\n",
              "      <td>100.190002</td>\n",
              "      <td>61.880001</td>\n",
              "      <td>35.500000</td>\n",
              "      <td>97.199997</td>\n",
              "      <td>59.476002</td>\n",
              "      <td>35.994999</td>\n",
              "      <td>100.099998</td>\n",
              "      <td>61.400002</td>\n",
              "      <td>365248800</td>\n",
              "      <td>42579100</td>\n",
              "      <td>34826000</td>\n",
              "    </tr>\n",
              "  </tbody>\n",
              "</table>\n",
              "</div>"
            ],
            "text/plain": [
              "            Adj Close                        ...     Volume                    \n",
              "                 AAPL       MSFT       TSLA  ...       AAPL      MSFT      TSLA\n",
              "Date                                         ...                               \n",
              "2019-01-02  38.326290  97.782425  62.023998  ...  148158800  35329300  58293000\n",
              "2019-01-03  34.508713  94.185204  60.071999  ...  365248800  42579100  34826000\n",
              "\n",
              "[2 rows x 18 columns]"
            ]
          },
          "metadata": {},
          "execution_count": 102
        }
      ]
    },
    {
      "cell_type": "code",
      "source": [
        "TSLA = preco_acoes.iloc[:, preco_acoes.columns.get_level_values(1) == 'TSLA']\n",
        "TSLA.head()"
      ],
      "metadata": {
        "colab": {
          "base_uri": "https://localhost:8080/",
          "height": 269
        },
        "id": "Id4mjFk1fhTX",
        "outputId": "559d3233-706e-4892-ac2f-22f7f84aa2dd"
      },
      "execution_count": null,
      "outputs": [
        {
          "output_type": "execute_result",
          "data": {
            "text/html": [
              "<div>\n",
              "<style scoped>\n",
              "    .dataframe tbody tr th:only-of-type {\n",
              "        vertical-align: middle;\n",
              "    }\n",
              "\n",
              "    .dataframe tbody tr th {\n",
              "        vertical-align: top;\n",
              "    }\n",
              "\n",
              "    .dataframe thead tr th {\n",
              "        text-align: left;\n",
              "    }\n",
              "\n",
              "    .dataframe thead tr:last-of-type th {\n",
              "        text-align: right;\n",
              "    }\n",
              "</style>\n",
              "<table border=\"1\" class=\"dataframe\">\n",
              "  <thead>\n",
              "    <tr>\n",
              "      <th></th>\n",
              "      <th>Adj Close</th>\n",
              "      <th>Close</th>\n",
              "      <th>High</th>\n",
              "      <th>Low</th>\n",
              "      <th>Open</th>\n",
              "      <th>Volume</th>\n",
              "    </tr>\n",
              "    <tr>\n",
              "      <th></th>\n",
              "      <th>TSLA</th>\n",
              "      <th>TSLA</th>\n",
              "      <th>TSLA</th>\n",
              "      <th>TSLA</th>\n",
              "      <th>TSLA</th>\n",
              "      <th>TSLA</th>\n",
              "    </tr>\n",
              "    <tr>\n",
              "      <th>Date</th>\n",
              "      <th></th>\n",
              "      <th></th>\n",
              "      <th></th>\n",
              "      <th></th>\n",
              "      <th></th>\n",
              "      <th></th>\n",
              "    </tr>\n",
              "  </thead>\n",
              "  <tbody>\n",
              "    <tr>\n",
              "      <th>2019-01-02</th>\n",
              "      <td>62.023998</td>\n",
              "      <td>62.023998</td>\n",
              "      <td>63.026001</td>\n",
              "      <td>59.759998</td>\n",
              "      <td>61.220001</td>\n",
              "      <td>58293000</td>\n",
              "    </tr>\n",
              "    <tr>\n",
              "      <th>2019-01-03</th>\n",
              "      <td>60.071999</td>\n",
              "      <td>60.071999</td>\n",
              "      <td>61.880001</td>\n",
              "      <td>59.476002</td>\n",
              "      <td>61.400002</td>\n",
              "      <td>34826000</td>\n",
              "    </tr>\n",
              "    <tr>\n",
              "      <th>2019-01-04</th>\n",
              "      <td>63.537998</td>\n",
              "      <td>63.537998</td>\n",
              "      <td>63.599998</td>\n",
              "      <td>60.546001</td>\n",
              "      <td>61.200001</td>\n",
              "      <td>36970500</td>\n",
              "    </tr>\n",
              "    <tr>\n",
              "      <th>2019-01-07</th>\n",
              "      <td>66.991997</td>\n",
              "      <td>66.991997</td>\n",
              "      <td>67.348000</td>\n",
              "      <td>63.549999</td>\n",
              "      <td>64.344002</td>\n",
              "      <td>37756000</td>\n",
              "    </tr>\n",
              "    <tr>\n",
              "      <th>2019-01-08</th>\n",
              "      <td>67.070000</td>\n",
              "      <td>67.070000</td>\n",
              "      <td>68.802002</td>\n",
              "      <td>65.403999</td>\n",
              "      <td>68.391998</td>\n",
              "      <td>35042500</td>\n",
              "    </tr>\n",
              "  </tbody>\n",
              "</table>\n",
              "</div>"
            ],
            "text/plain": [
              "            Adj Close      Close       High        Low       Open    Volume\n",
              "                 TSLA       TSLA       TSLA       TSLA       TSLA      TSLA\n",
              "Date                                                                       \n",
              "2019-01-02  62.023998  62.023998  63.026001  59.759998  61.220001  58293000\n",
              "2019-01-03  60.071999  60.071999  61.880001  59.476002  61.400002  34826000\n",
              "2019-01-04  63.537998  63.537998  63.599998  60.546001  61.200001  36970500\n",
              "2019-01-07  66.991997  66.991997  67.348000  63.549999  64.344002  37756000\n",
              "2019-01-08  67.070000  67.070000  68.802002  65.403999  68.391998  35042500"
            ]
          },
          "metadata": {},
          "execution_count": 104
        }
      ]
    }
  ]
}